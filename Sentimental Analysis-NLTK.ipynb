{
 "cells": [
  {
   "cell_type": "code",
   "execution_count": 4,
   "metadata": {},
   "outputs": [],
   "source": [
    "import pandas as pd\n",
    "import numpy as np\n",
    "import matplotlib.pyplot as plt\n",
    "import seaborn as sns\n",
    "#MORE LIBRARIES DEFINED WHEN WE DID TEXT PRE PROCESSING\n"
   ]
  },
  {
   "cell_type": "code",
   "execution_count": 5,
   "metadata": {},
   "outputs": [],
   "source": [
    "df_1 = pd.read_csv('reviews.csv', sep='\\t')"
   ]
  },
  {
   "cell_type": "code",
   "execution_count": 6,
   "metadata": {},
   "outputs": [
    {
     "data": {
      "text/html": [
       "<div>\n",
       "<style scoped>\n",
       "    .dataframe tbody tr th:only-of-type {\n",
       "        vertical-align: middle;\n",
       "    }\n",
       "\n",
       "    .dataframe tbody tr th {\n",
       "        vertical-align: top;\n",
       "    }\n",
       "\n",
       "    .dataframe thead th {\n",
       "        text-align: right;\n",
       "    }\n",
       "</style>\n",
       "<table border=\"1\" class=\"dataframe\">\n",
       "  <thead>\n",
       "    <tr style=\"text-align: right;\">\n",
       "      <th></th>\n",
       "      <th>Name</th>\n",
       "      <th>RatingValue</th>\n",
       "      <th>DatePublished</th>\n",
       "      <th>Review</th>\n",
       "    </tr>\n",
       "  </thead>\n",
       "  <tbody>\n",
       "    <tr>\n",
       "      <td>0</td>\n",
       "      <td>Playa Cabana</td>\n",
       "      <td>4</td>\n",
       "      <td>2020-02-26</td>\n",
       "      <td>I was tasked with finding a spot for a group d...</td>\n",
       "    </tr>\n",
       "    <tr>\n",
       "      <td>1</td>\n",
       "      <td>Playa Cabana</td>\n",
       "      <td>3</td>\n",
       "      <td>2019-08-04</td>\n",
       "      <td>Went here with my friends and family. I liked ...</td>\n",
       "    </tr>\n",
       "    <tr>\n",
       "      <td>2</td>\n",
       "      <td>Playa Cabana</td>\n",
       "      <td>3</td>\n",
       "      <td>2019-08-24</td>\n",
       "      <td>Surprisingly good Flautas! They came as 3 roll...</td>\n",
       "    </tr>\n",
       "    <tr>\n",
       "      <td>3</td>\n",
       "      <td>Playa Cabana</td>\n",
       "      <td>4</td>\n",
       "      <td>2019-06-06</td>\n",
       "      <td>As a Mexican I always crave authentic Mexican ...</td>\n",
       "    </tr>\n",
       "    <tr>\n",
       "      <td>4</td>\n",
       "      <td>Playa Cabana</td>\n",
       "      <td>5</td>\n",
       "      <td>2020-05-25</td>\n",
       "      <td>Best tacos I've ever had. Both locations are g...</td>\n",
       "    </tr>\n",
       "  </tbody>\n",
       "</table>\n",
       "</div>"
      ],
      "text/plain": [
       "           Name  RatingValue DatePublished  \\\n",
       "0  Playa Cabana            4    2020-02-26   \n",
       "1  Playa Cabana            3    2019-08-04   \n",
       "2  Playa Cabana            3    2019-08-24   \n",
       "3  Playa Cabana            4    2019-06-06   \n",
       "4  Playa Cabana            5    2020-05-25   \n",
       "\n",
       "                                              Review  \n",
       "0  I was tasked with finding a spot for a group d...  \n",
       "1  Went here with my friends and family. I liked ...  \n",
       "2  Surprisingly good Flautas! They came as 3 roll...  \n",
       "3  As a Mexican I always crave authentic Mexican ...  \n",
       "4  Best tacos I've ever had. Both locations are g...  "
      ]
     },
     "execution_count": 6,
     "metadata": {},
     "output_type": "execute_result"
    }
   ],
   "source": [
    "df_1.head()"
   ]
  },
  {
   "cell_type": "code",
   "execution_count": 7,
   "metadata": {},
   "outputs": [],
   "source": [
    "df_2 = df_1.copy()"
   ]
  },
  {
   "cell_type": "code",
   "execution_count": 8,
   "metadata": {},
   "outputs": [
    {
     "data": {
      "text/html": [
       "<div>\n",
       "<style scoped>\n",
       "    .dataframe tbody tr th:only-of-type {\n",
       "        vertical-align: middle;\n",
       "    }\n",
       "\n",
       "    .dataframe tbody tr th {\n",
       "        vertical-align: top;\n",
       "    }\n",
       "\n",
       "    .dataframe thead th {\n",
       "        text-align: right;\n",
       "    }\n",
       "</style>\n",
       "<table border=\"1\" class=\"dataframe\">\n",
       "  <thead>\n",
       "    <tr style=\"text-align: right;\">\n",
       "      <th></th>\n",
       "      <th>Name</th>\n",
       "      <th>RatingValue</th>\n",
       "      <th>DatePublished</th>\n",
       "      <th>Review</th>\n",
       "    </tr>\n",
       "  </thead>\n",
       "  <tbody>\n",
       "    <tr>\n",
       "      <td>0</td>\n",
       "      <td>Playa Cabana</td>\n",
       "      <td>positive</td>\n",
       "      <td>2020-02-26</td>\n",
       "      <td>I was tasked with finding a spot for a group d...</td>\n",
       "    </tr>\n",
       "    <tr>\n",
       "      <td>1</td>\n",
       "      <td>Playa Cabana</td>\n",
       "      <td>neutral</td>\n",
       "      <td>2019-08-04</td>\n",
       "      <td>Went here with my friends and family. I liked ...</td>\n",
       "    </tr>\n",
       "    <tr>\n",
       "      <td>2</td>\n",
       "      <td>Playa Cabana</td>\n",
       "      <td>neutral</td>\n",
       "      <td>2019-08-24</td>\n",
       "      <td>Surprisingly good Flautas! They came as 3 roll...</td>\n",
       "    </tr>\n",
       "    <tr>\n",
       "      <td>3</td>\n",
       "      <td>Playa Cabana</td>\n",
       "      <td>positive</td>\n",
       "      <td>2019-06-06</td>\n",
       "      <td>As a Mexican I always crave authentic Mexican ...</td>\n",
       "    </tr>\n",
       "    <tr>\n",
       "      <td>4</td>\n",
       "      <td>Playa Cabana</td>\n",
       "      <td>positive</td>\n",
       "      <td>2020-05-25</td>\n",
       "      <td>Best tacos I've ever had. Both locations are g...</td>\n",
       "    </tr>\n",
       "  </tbody>\n",
       "</table>\n",
       "</div>"
      ],
      "text/plain": [
       "           Name RatingValue DatePublished  \\\n",
       "0  Playa Cabana    positive    2020-02-26   \n",
       "1  Playa Cabana     neutral    2019-08-04   \n",
       "2  Playa Cabana     neutral    2019-08-24   \n",
       "3  Playa Cabana    positive    2019-06-06   \n",
       "4  Playa Cabana    positive    2020-05-25   \n",
       "\n",
       "                                              Review  \n",
       "0  I was tasked with finding a spot for a group d...  \n",
       "1  Went here with my friends and family. I liked ...  \n",
       "2  Surprisingly good Flautas! They came as 3 roll...  \n",
       "3  As a Mexican I always crave authentic Mexican ...  \n",
       "4  Best tacos I've ever had. Both locations are g...  "
      ]
     },
     "execution_count": 8,
     "metadata": {},
     "output_type": "execute_result"
    }
   ],
   "source": [
    "#dictionary inside the dictionary\n",
    "df_2 = df_2.replace({'RatingValue' : { 5:\"positive\",\n",
    "                                      4:\"positive\",\n",
    "                                      3:\"neutral\",\n",
    "                                      2:\"negative\",\n",
    "                                      1:\"negative\"}})\n",
    "df_2.head()\n",
    "                                      \n",
    "                                     "
   ]
  },
  {
   "cell_type": "code",
   "execution_count": 9,
   "metadata": {},
   "outputs": [
    {
     "data": {
      "text/plain": [
       "(1920, 4)"
      ]
     },
     "execution_count": 9,
     "metadata": {},
     "output_type": "execute_result"
    }
   ],
   "source": [
    "df_2.shape"
   ]
  },
  {
   "cell_type": "code",
   "execution_count": 10,
   "metadata": {},
   "outputs": [],
   "source": [
    "#data description\n",
    "#print(df_2.describe())"
   ]
  },
  {
   "cell_type": "code",
   "execution_count": 11,
   "metadata": {},
   "outputs": [
    {
     "name": "stdout",
     "output_type": "stream",
     "text": [
      "Index(['Name', 'RatingValue', 'DatePublished', 'Review'], dtype='object')\n"
     ]
    }
   ],
   "source": [
    "#column name\n",
    "print(df_2.columns)"
   ]
  },
  {
   "cell_type": "code",
   "execution_count": 12,
   "metadata": {},
   "outputs": [
    {
     "name": "stdout",
     "output_type": "stream",
     "text": [
      "Name             object\n",
      "RatingValue      object\n",
      "DatePublished    object\n",
      "Review           object\n",
      "dtype: object\n"
     ]
    }
   ],
   "source": [
    "#data type\n",
    "print(df_2.dtypes)"
   ]
  },
  {
   "cell_type": "code",
   "execution_count": 13,
   "metadata": {},
   "outputs": [
    {
     "name": "stdout",
     "output_type": "stream",
     "text": [
      "Index(['Name', 'RatingValue', 'DatePublished', 'Review'], dtype='object')\n"
     ]
    },
    {
     "data": {
      "text/html": [
       "<div>\n",
       "<style scoped>\n",
       "    .dataframe tbody tr th:only-of-type {\n",
       "        vertical-align: middle;\n",
       "    }\n",
       "\n",
       "    .dataframe tbody tr th {\n",
       "        vertical-align: top;\n",
       "    }\n",
       "\n",
       "    .dataframe thead th {\n",
       "        text-align: right;\n",
       "    }\n",
       "</style>\n",
       "<table border=\"1\" class=\"dataframe\">\n",
       "  <thead>\n",
       "    <tr style=\"text-align: right;\">\n",
       "      <th></th>\n",
       "      <th>Name</th>\n",
       "      <th>RatingValue</th>\n",
       "      <th>DatePublished</th>\n",
       "      <th>Review</th>\n",
       "    </tr>\n",
       "  </thead>\n",
       "  <tbody>\n",
       "    <tr>\n",
       "      <td>count</td>\n",
       "      <td>1920</td>\n",
       "      <td>1920</td>\n",
       "      <td>1920</td>\n",
       "      <td>1920</td>\n",
       "    </tr>\n",
       "    <tr>\n",
       "      <td>unique</td>\n",
       "      <td>96</td>\n",
       "      <td>3</td>\n",
       "      <td>767</td>\n",
       "      <td>1900</td>\n",
       "    </tr>\n",
       "    <tr>\n",
       "      <td>top</td>\n",
       "      <td>Nodo Restaurant</td>\n",
       "      <td>positive</td>\n",
       "      <td>2020-02-16</td>\n",
       "      <td>These tacosssss. Hello. Still dreaming about t...</td>\n",
       "    </tr>\n",
       "    <tr>\n",
       "      <td>freq</td>\n",
       "      <td>40</td>\n",
       "      <td>1465</td>\n",
       "      <td>13</td>\n",
       "      <td>2</td>\n",
       "    </tr>\n",
       "  </tbody>\n",
       "</table>\n",
       "</div>"
      ],
      "text/plain": [
       "                   Name RatingValue DatePublished  \\\n",
       "count              1920        1920          1920   \n",
       "unique               96           3           767   \n",
       "top     Nodo Restaurant    positive    2020-02-16   \n",
       "freq                 40        1465            13   \n",
       "\n",
       "                                                   Review  \n",
       "count                                                1920  \n",
       "unique                                               1900  \n",
       "top     These tacosssss. Hello. Still dreaming about t...  \n",
       "freq                                                    2  "
      ]
     },
     "execution_count": 13,
     "metadata": {},
     "output_type": "execute_result"
    }
   ],
   "source": [
    "#the summary of the categorical values\n",
    "\n",
    "categorical = df_2.dtypes[df_2.dtypes == \"object\"].index\n",
    "print(categorical)\n",
    "df_2[categorical].describe()"
   ]
  },
  {
   "cell_type": "code",
   "execution_count": 14,
   "metadata": {},
   "outputs": [
    {
     "data": {
      "text/plain": [
       "Name             0\n",
       "RatingValue      0\n",
       "DatePublished    0\n",
       "Review           0\n",
       "dtype: int64"
      ]
     },
     "execution_count": 14,
     "metadata": {},
     "output_type": "execute_result"
    }
   ],
   "source": [
    "#CHALLANGES-CHECK MISSING VALUES\n",
    "\n",
    "df_2.isna().sum()"
   ]
  },
  {
   "cell_type": "code",
   "execution_count": 15,
   "metadata": {},
   "outputs": [
    {
     "data": {
      "text/plain": [
       "['positive', 'neutral', 'negative']"
      ]
     },
     "execution_count": 15,
     "metadata": {},
     "output_type": "execute_result"
    }
   ],
   "source": [
    "List_Of_Categories_In_Column=list(df_2['RatingValue'].value_counts().index)\n",
    "List_Of_Categories_In_Column"
   ]
  },
  {
   "cell_type": "code",
   "execution_count": 16,
   "metadata": {},
   "outputs": [
    {
     "data": {
      "text/plain": [
       "[1465, 297, 158]"
      ]
     },
     "execution_count": 16,
     "metadata": {},
     "output_type": "execute_result"
    }
   ],
   "source": [
    "List_Of_Categories_In_Column_with_counts=list(df_2['RatingValue'].value_counts())\n",
    "List_Of_Categories_In_Column_with_counts"
   ]
  },
  {
   "cell_type": "code",
   "execution_count": 17,
   "metadata": {},
   "outputs": [
    {
     "name": "stdout",
     "output_type": "stream",
     "text": [
      "(158, 4)\n",
      "           Name RatingValue DatePublished  \\\n",
      "0  Playa Cabana    positive    2020-02-26   \n",
      "3  Playa Cabana    positive    2019-06-06   \n",
      "4  Playa Cabana    positive    2020-05-25   \n",
      "5  Playa Cabana    positive    2019-08-31   \n",
      "6  Playa Cabana    positive    2019-04-07   \n",
      "\n",
      "                                              Review  \n",
      "0  I was tasked with finding a spot for a group d...  \n",
      "3  As a Mexican I always crave authentic Mexican ...  \n",
      "4  Best tacos I've ever had. Both locations are g...  \n",
      "5  Food was exceptional and service was pretty fa...  \n",
      "6  Their space is a bit cramped, but Playa Cabana...  \n"
     ]
    }
   ],
   "source": [
    "df_positive = df_2[df_2[\"RatingValue\"] ==\"positive\"]\n",
    "df_positive = df_positive.copy()\n",
    "df_positive_new = df_positive.head(158)\n",
    "print(df_positive_new.shape)\n",
    "print(df_positive_new.head())\n"
   ]
  },
  {
   "cell_type": "code",
   "execution_count": 18,
   "metadata": {},
   "outputs": [
    {
     "name": "stdout",
     "output_type": "stream",
     "text": [
      "(158, 4)\n",
      "               Name RatingValue DatePublished  \\\n",
      "1      Playa Cabana     neutral    2019-08-04   \n",
      "2      Playa Cabana     neutral    2019-08-24   \n",
      "12     Playa Cabana     neutral    2018-09-07   \n",
      "16     Playa Cabana     neutral    2018-08-13   \n",
      "30  Wilbur Mexicana     neutral    2019-12-14   \n",
      "\n",
      "                                               Review  \n",
      "1   Went here with my friends and family. I liked ...  \n",
      "2   Surprisingly good Flautas! They came as 3 roll...  \n",
      "12  My friend and I decided on Mexican food for di...  \n",
      "16  I've been duped by yelp reviews!! We were give...  \n",
      "30  Great spot if you wanna get some quick tacos o...  \n"
     ]
    }
   ],
   "source": [
    "df_neutral = df_2[df_2[\"RatingValue\"] == \"neutral\"]\n",
    "df_neutral = df_neutral.copy()\n",
    "df_neutral_new = df_neutral.head(158)\n",
    "print(df_neutral_new.shape)\n",
    "print(df_neutral_new.head())"
   ]
  },
  {
   "cell_type": "code",
   "execution_count": 19,
   "metadata": {},
   "outputs": [
    {
     "name": "stdout",
     "output_type": "stream",
     "text": [
      "(158, 4)\n",
      "            Name RatingValue DatePublished  \\\n",
      "53  Como En Casa    negative    2019-02-08   \n",
      "57  Como En Casa    negative    2019-08-27   \n",
      "58  Como En Casa    negative    2018-03-27   \n",
      "59  Como En Casa    negative    2019-07-05   \n",
      "70  Mexico Lindo    negative    2018-06-06   \n",
      "\n",
      "                                               Review  \n",
      "53  $16 dollars for the worst burrito bowl/platter...  \n",
      "57  I took the advice of one of the reviewers on Y...  \n",
      "58  Two words can summarize my thoughts on the foo...  \n",
      "59  Based on the ratings and reviews I was very ex...  \n",
      "70  This place has been bookmarked for awhile and ...  \n"
     ]
    }
   ],
   "source": [
    "df_negative = df_2[df_2[\"RatingValue\"] == \"negative\"]\n",
    "df_negative =df_negative.copy()\n",
    "df_negative_new = df_negative\n",
    "print(df_negative_new.shape)\n",
    "print(df_negative_new.head())"
   ]
  },
  {
   "cell_type": "code",
   "execution_count": 20,
   "metadata": {},
   "outputs": [
    {
     "data": {
      "text/html": [
       "<div>\n",
       "<style scoped>\n",
       "    .dataframe tbody tr th:only-of-type {\n",
       "        vertical-align: middle;\n",
       "    }\n",
       "\n",
       "    .dataframe tbody tr th {\n",
       "        vertical-align: top;\n",
       "    }\n",
       "\n",
       "    .dataframe thead th {\n",
       "        text-align: right;\n",
       "    }\n",
       "</style>\n",
       "<table border=\"1\" class=\"dataframe\">\n",
       "  <thead>\n",
       "    <tr style=\"text-align: right;\">\n",
       "      <th></th>\n",
       "      <th>Name</th>\n",
       "      <th>RatingValue</th>\n",
       "      <th>DatePublished</th>\n",
       "      <th>Review</th>\n",
       "    </tr>\n",
       "  </thead>\n",
       "  <tbody>\n",
       "    <tr>\n",
       "      <td>53</td>\n",
       "      <td>Como En Casa</td>\n",
       "      <td>negative</td>\n",
       "      <td>2019-02-08</td>\n",
       "      <td>$16 dollars for the worst burrito bowl/platter...</td>\n",
       "    </tr>\n",
       "    <tr>\n",
       "      <td>57</td>\n",
       "      <td>Como En Casa</td>\n",
       "      <td>negative</td>\n",
       "      <td>2019-08-27</td>\n",
       "      <td>I took the advice of one of the reviewers on Y...</td>\n",
       "    </tr>\n",
       "    <tr>\n",
       "      <td>58</td>\n",
       "      <td>Como En Casa</td>\n",
       "      <td>negative</td>\n",
       "      <td>2018-03-27</td>\n",
       "      <td>Two words can summarize my thoughts on the foo...</td>\n",
       "    </tr>\n",
       "    <tr>\n",
       "      <td>59</td>\n",
       "      <td>Como En Casa</td>\n",
       "      <td>negative</td>\n",
       "      <td>2019-07-05</td>\n",
       "      <td>Based on the ratings and reviews I was very ex...</td>\n",
       "    </tr>\n",
       "    <tr>\n",
       "      <td>70</td>\n",
       "      <td>Mexico Lindo</td>\n",
       "      <td>negative</td>\n",
       "      <td>2018-06-06</td>\n",
       "      <td>This place has been bookmarked for awhile and ...</td>\n",
       "    </tr>\n",
       "    <tr>\n",
       "      <td>...</td>\n",
       "      <td>...</td>\n",
       "      <td>...</td>\n",
       "      <td>...</td>\n",
       "      <td>...</td>\n",
       "    </tr>\n",
       "    <tr>\n",
       "      <td>1048</td>\n",
       "      <td>Levetto</td>\n",
       "      <td>neutral</td>\n",
       "      <td>2018-11-17</td>\n",
       "      <td>Came on a Saturday evening at 5:30 and it was ...</td>\n",
       "    </tr>\n",
       "    <tr>\n",
       "      <td>1054</td>\n",
       "      <td>La Vecchia Ristorante</td>\n",
       "      <td>neutral</td>\n",
       "      <td>2019-08-15</td>\n",
       "      <td>La Vecchia is a cute restaurant with great amb...</td>\n",
       "    </tr>\n",
       "    <tr>\n",
       "      <td>1057</td>\n",
       "      <td>La Vecchia Ristorante</td>\n",
       "      <td>neutral</td>\n",
       "      <td>2019-07-18</td>\n",
       "      <td>Going to start off this review by saying the f...</td>\n",
       "    </tr>\n",
       "    <tr>\n",
       "      <td>1071</td>\n",
       "      <td>La Vecchia Ristorante</td>\n",
       "      <td>neutral</td>\n",
       "      <td>2018-08-29</td>\n",
       "      <td>My family and I decided to choose La Vecchia f...</td>\n",
       "    </tr>\n",
       "    <tr>\n",
       "      <td>1075</td>\n",
       "      <td>Taverna Mercatto</td>\n",
       "      <td>neutral</td>\n",
       "      <td>2019-10-24</td>\n",
       "      <td>A last minute decision as we were staying at D...</td>\n",
       "    </tr>\n",
       "  </tbody>\n",
       "</table>\n",
       "<p>474 rows × 4 columns</p>\n",
       "</div>"
      ],
      "text/plain": [
       "                       Name RatingValue DatePublished  \\\n",
       "53             Como En Casa    negative    2019-02-08   \n",
       "57             Como En Casa    negative    2019-08-27   \n",
       "58             Como En Casa    negative    2018-03-27   \n",
       "59             Como En Casa    negative    2019-07-05   \n",
       "70             Mexico Lindo    negative    2018-06-06   \n",
       "...                     ...         ...           ...   \n",
       "1048                Levetto     neutral    2018-11-17   \n",
       "1054  La Vecchia Ristorante     neutral    2019-08-15   \n",
       "1057  La Vecchia Ristorante     neutral    2019-07-18   \n",
       "1071  La Vecchia Ristorante     neutral    2018-08-29   \n",
       "1075       Taverna Mercatto     neutral    2019-10-24   \n",
       "\n",
       "                                                 Review  \n",
       "53    $16 dollars for the worst burrito bowl/platter...  \n",
       "57    I took the advice of one of the reviewers on Y...  \n",
       "58    Two words can summarize my thoughts on the foo...  \n",
       "59    Based on the ratings and reviews I was very ex...  \n",
       "70    This place has been bookmarked for awhile and ...  \n",
       "...                                                 ...  \n",
       "1048  Came on a Saturday evening at 5:30 and it was ...  \n",
       "1054  La Vecchia is a cute restaurant with great amb...  \n",
       "1057  Going to start off this review by saying the f...  \n",
       "1071  My family and I decided to choose La Vecchia f...  \n",
       "1075  A last minute decision as we were staying at D...  \n",
       "\n",
       "[474 rows x 4 columns]"
      ]
     },
     "execution_count": 20,
     "metadata": {},
     "output_type": "execute_result"
    }
   ],
   "source": [
    "#now concatenate all three dataframes\n",
    "data_frame = [df_negative_new ,df_positive_new,df_neutral_new]\n",
    "result = pd.concat(data_frame)\n",
    "result\n",
    "\n"
   ]
  },
  {
   "cell_type": "code",
   "execution_count": 21,
   "metadata": {},
   "outputs": [],
   "source": [
    "from sklearn.utils import shuffle"
   ]
  },
  {
   "cell_type": "code",
   "execution_count": 22,
   "metadata": {},
   "outputs": [],
   "source": [
    "df = shuffle(result)\n"
   ]
  },
  {
   "cell_type": "code",
   "execution_count": 23,
   "metadata": {},
   "outputs": [],
   "source": [
    "df.reset_index(inplace=True, drop=True)"
   ]
  },
  {
   "cell_type": "markdown",
   "metadata": {},
   "source": [
    "# 1)Dataset"
   ]
  },
  {
   "cell_type": "code",
   "execution_count": 24,
   "metadata": {},
   "outputs": [
    {
     "data": {
      "text/html": [
       "<div>\n",
       "<style scoped>\n",
       "    .dataframe tbody tr th:only-of-type {\n",
       "        vertical-align: middle;\n",
       "    }\n",
       "\n",
       "    .dataframe tbody tr th {\n",
       "        vertical-align: top;\n",
       "    }\n",
       "\n",
       "    .dataframe thead th {\n",
       "        text-align: right;\n",
       "    }\n",
       "</style>\n",
       "<table border=\"1\" class=\"dataframe\">\n",
       "  <thead>\n",
       "    <tr style=\"text-align: right;\">\n",
       "      <th></th>\n",
       "      <th>Name</th>\n",
       "      <th>RatingValue</th>\n",
       "      <th>DatePublished</th>\n",
       "      <th>Review</th>\n",
       "    </tr>\n",
       "  </thead>\n",
       "  <tbody>\n",
       "    <tr>\n",
       "      <td>0</td>\n",
       "      <td>Playa Cabana</td>\n",
       "      <td>neutral</td>\n",
       "      <td>2018-09-07</td>\n",
       "      <td>My friend and I decided on Mexican food for di...</td>\n",
       "    </tr>\n",
       "    <tr>\n",
       "      <td>1</td>\n",
       "      <td>Fieramosca</td>\n",
       "      <td>neutral</td>\n",
       "      <td>2018-06-19</td>\n",
       "      <td>Had a good dinner here last week! The interior...</td>\n",
       "    </tr>\n",
       "    <tr>\n",
       "      <td>2</td>\n",
       "      <td>El Nahual Tacos</td>\n",
       "      <td>negative</td>\n",
       "      <td>2019-09-10</td>\n",
       "      <td>To be completely honest. I was expecting more....</td>\n",
       "    </tr>\n",
       "    <tr>\n",
       "      <td>3</td>\n",
       "      <td>Miku</td>\n",
       "      <td>negative</td>\n",
       "      <td>2019-12-10</td>\n",
       "      <td>I wanted sooo badly to love Miku ...Because of...</td>\n",
       "    </tr>\n",
       "    <tr>\n",
       "      <td>4</td>\n",
       "      <td>Good Hombres</td>\n",
       "      <td>positive</td>\n",
       "      <td>2019-11-10</td>\n",
       "      <td>This place serves some really great tacos! Ser...</td>\n",
       "    </tr>\n",
       "  </tbody>\n",
       "</table>\n",
       "</div>"
      ],
      "text/plain": [
       "              Name RatingValue DatePublished  \\\n",
       "0     Playa Cabana     neutral    2018-09-07   \n",
       "1       Fieramosca     neutral    2018-06-19   \n",
       "2  El Nahual Tacos    negative    2019-09-10   \n",
       "3             Miku    negative    2019-12-10   \n",
       "4     Good Hombres    positive    2019-11-10   \n",
       "\n",
       "                                              Review  \n",
       "0  My friend and I decided on Mexican food for di...  \n",
       "1  Had a good dinner here last week! The interior...  \n",
       "2  To be completely honest. I was expecting more....  \n",
       "3  I wanted sooo badly to love Miku ...Because of...  \n",
       "4  This place serves some really great tacos! Ser...  "
      ]
     },
     "execution_count": 24,
     "metadata": {},
     "output_type": "execute_result"
    }
   ],
   "source": [
    "df.head()"
   ]
  },
  {
   "cell_type": "code",
   "execution_count": 25,
   "metadata": {},
   "outputs": [
    {
     "name": "stderr",
     "output_type": "stream",
     "text": [
      "C:\\Users\\Mahwish\\Anaconda2020\\lib\\site-packages\\ipykernel_launcher.py:4: SettingWithCopyWarning: \n",
      "A value is trying to be set on a copy of a slice from a DataFrame.\n",
      "Try using .loc[row_indexer,col_indexer] = value instead\n",
      "\n",
      "See the caveats in the documentation: http://pandas.pydata.org/pandas-docs/stable/user_guide/indexing.html#returning-a-view-versus-a-copy\n",
      "  after removing the cwd from sys.path.\n"
     ]
    }
   ],
   "source": [
    "#to further check the dataset is balanced or not\n",
    "\n",
    "#Lets see if Length of reviews has any association with Label Classification\n",
    "df['length']=df['Review'].apply(len) #adding a length Column"
   ]
  },
  {
   "cell_type": "code",
   "execution_count": 26,
   "metadata": {},
   "outputs": [
    {
     "data": {
      "text/html": [
       "<div>\n",
       "<style scoped>\n",
       "    .dataframe tbody tr th:only-of-type {\n",
       "        vertical-align: middle;\n",
       "    }\n",
       "\n",
       "    .dataframe tbody tr th {\n",
       "        vertical-align: top;\n",
       "    }\n",
       "\n",
       "    .dataframe thead th {\n",
       "        text-align: right;\n",
       "    }\n",
       "</style>\n",
       "<table border=\"1\" class=\"dataframe\">\n",
       "  <thead>\n",
       "    <tr style=\"text-align: right;\">\n",
       "      <th></th>\n",
       "      <th>Name</th>\n",
       "      <th>RatingValue</th>\n",
       "      <th>DatePublished</th>\n",
       "      <th>Review</th>\n",
       "      <th>length</th>\n",
       "    </tr>\n",
       "  </thead>\n",
       "  <tbody>\n",
       "    <tr>\n",
       "      <td>0</td>\n",
       "      <td>Playa Cabana</td>\n",
       "      <td>neutral</td>\n",
       "      <td>2018-09-07</td>\n",
       "      <td>My friend and I decided on Mexican food for di...</td>\n",
       "      <td>1153</td>\n",
       "    </tr>\n",
       "    <tr>\n",
       "      <td>1</td>\n",
       "      <td>Fieramosca</td>\n",
       "      <td>neutral</td>\n",
       "      <td>2018-06-19</td>\n",
       "      <td>Had a good dinner here last week! The interior...</td>\n",
       "      <td>1939</td>\n",
       "    </tr>\n",
       "    <tr>\n",
       "      <td>2</td>\n",
       "      <td>El Nahual Tacos</td>\n",
       "      <td>negative</td>\n",
       "      <td>2019-09-10</td>\n",
       "      <td>To be completely honest. I was expecting more....</td>\n",
       "      <td>393</td>\n",
       "    </tr>\n",
       "    <tr>\n",
       "      <td>3</td>\n",
       "      <td>Miku</td>\n",
       "      <td>negative</td>\n",
       "      <td>2019-12-10</td>\n",
       "      <td>I wanted sooo badly to love Miku ...Because of...</td>\n",
       "      <td>1370</td>\n",
       "    </tr>\n",
       "    <tr>\n",
       "      <td>4</td>\n",
       "      <td>Good Hombres</td>\n",
       "      <td>positive</td>\n",
       "      <td>2019-11-10</td>\n",
       "      <td>This place serves some really great tacos! Ser...</td>\n",
       "      <td>241</td>\n",
       "    </tr>\n",
       "  </tbody>\n",
       "</table>\n",
       "</div>"
      ],
      "text/plain": [
       "              Name RatingValue DatePublished  \\\n",
       "0     Playa Cabana     neutral    2018-09-07   \n",
       "1       Fieramosca     neutral    2018-06-19   \n",
       "2  El Nahual Tacos    negative    2019-09-10   \n",
       "3             Miku    negative    2019-12-10   \n",
       "4     Good Hombres    positive    2019-11-10   \n",
       "\n",
       "                                              Review  length  \n",
       "0  My friend and I decided on Mexican food for di...    1153  \n",
       "1  Had a good dinner here last week! The interior...    1939  \n",
       "2  To be completely honest. I was expecting more....     393  \n",
       "3  I wanted sooo badly to love Miku ...Because of...    1370  \n",
       "4  This place serves some really great tacos! Ser...     241  "
      ]
     },
     "execution_count": 26,
     "metadata": {},
     "output_type": "execute_result"
    }
   ],
   "source": [
    "df.head() #viewing top 5 rows"
   ]
  },
  {
   "cell_type": "code",
   "execution_count": 27,
   "metadata": {},
   "outputs": [],
   "source": [
    "#Summary Statistics\n",
    "#Lets generate Summary Statistics of Review Length group by classes\n",
    "#Also to further check the dataset is balanced or not\n",
    "\n",
    "#df[['length','RatingValue']].groupby('RatingValue').describe()"
   ]
  },
  {
   "cell_type": "markdown",
   "metadata": {},
   "source": [
    "# 2)Analysing the reviews"
   ]
  },
  {
   "cell_type": "markdown",
   "metadata": {},
   "source": [
    "### Word Count – total number of words in each review"
   ]
  },
  {
   "cell_type": "code",
   "execution_count": 28,
   "metadata": {},
   "outputs": [
    {
     "name": "stderr",
     "output_type": "stream",
     "text": [
      "C:\\Users\\Mahwish\\Anaconda2020\\lib\\site-packages\\ipykernel_launcher.py:2: SettingWithCopyWarning: \n",
      "A value is trying to be set on a copy of a slice from a DataFrame.\n",
      "Try using .loc[row_indexer,col_indexer] = value instead\n",
      "\n",
      "See the caveats in the documentation: http://pandas.pydata.org/pandas-docs/stable/user_guide/indexing.html#returning-a-view-versus-a-copy\n",
      "  \n"
     ]
    }
   ],
   "source": [
    "# Calculate word count\n",
    "df['word_count'] = df['Review'].apply(lambda x: len(str(x).split(\" \")))\n"
   ]
  },
  {
   "cell_type": "markdown",
   "metadata": {},
   "source": [
    "### Character Count – total number of characters in each review"
   ]
  },
  {
   "cell_type": "code",
   "execution_count": 29,
   "metadata": {},
   "outputs": [
    {
     "name": "stderr",
     "output_type": "stream",
     "text": [
      "C:\\Users\\Mahwish\\Anaconda2020\\lib\\site-packages\\ipykernel_launcher.py:2: SettingWithCopyWarning: \n",
      "A value is trying to be set on a copy of a slice from a DataFrame.\n",
      "Try using .loc[row_indexer,col_indexer] = value instead\n",
      "\n",
      "See the caveats in the documentation: http://pandas.pydata.org/pandas-docs/stable/user_guide/indexing.html#returning-a-view-versus-a-copy\n",
      "  \n"
     ]
    }
   ],
   "source": [
    "# Calculate character count\n",
    "df['char_count'] = df['Review'].str.len()"
   ]
  },
  {
   "cell_type": "markdown",
   "metadata": {},
   "source": [
    "### Average word length – the average length of words used"
   ]
  },
  {
   "cell_type": "code",
   "execution_count": 30,
   "metadata": {},
   "outputs": [
    {
     "name": "stderr",
     "output_type": "stream",
     "text": [
      "C:\\Users\\Mahwish\\Anaconda2020\\lib\\site-packages\\ipykernel_launcher.py:6: SettingWithCopyWarning: \n",
      "A value is trying to be set on a copy of a slice from a DataFrame.\n",
      "Try using .loc[row_indexer,col_indexer] = value instead\n",
      "\n",
      "See the caveats in the documentation: http://pandas.pydata.org/pandas-docs/stable/user_guide/indexing.html#returning-a-view-versus-a-copy\n",
      "  \n"
     ]
    }
   ],
   "source": [
    "def avg_word(Review):\n",
    "  words = Review.split()\n",
    "  return (sum(len(word) for word in words) / len(words))\n",
    "\n",
    "# Calculate average words\n",
    "df['avg_word'] = df['Review'].apply(lambda x: avg_word(x))"
   ]
  },
  {
   "cell_type": "markdown",
   "metadata": {},
   "source": [
    "### Stopword Count – total number of words which are considered stop words"
   ]
  },
  {
   "cell_type": "code",
   "execution_count": 31,
   "metadata": {},
   "outputs": [],
   "source": [
    "# Import stopwords\n",
    "from nltk.corpus import stopwords"
   ]
  },
  {
   "cell_type": "markdown",
   "metadata": {},
   "source": [
    "### Calculate number of stop words"
   ]
  },
  {
   "cell_type": "code",
   "execution_count": 32,
   "metadata": {},
   "outputs": [
    {
     "name": "stderr",
     "output_type": "stream",
     "text": [
      "C:\\Users\\Mahwish\\Anaconda2020\\lib\\site-packages\\ipykernel_launcher.py:2: SettingWithCopyWarning: \n",
      "A value is trying to be set on a copy of a slice from a DataFrame.\n",
      "Try using .loc[row_indexer,col_indexer] = value instead\n",
      "\n",
      "See the caveats in the documentation: http://pandas.pydata.org/pandas-docs/stable/user_guide/indexing.html#returning-a-view-versus-a-copy\n",
      "  \n"
     ]
    }
   ],
   "source": [
    "stop_words = stopwords.words('english')\n",
    "df['stopword_coun'] = df['Review'].apply(lambda x: len([x for x in x.split() if x in stop_words]))"
   ]
  },
  {
   "cell_type": "code",
   "execution_count": 33,
   "metadata": {},
   "outputs": [
    {
     "data": {
      "text/html": [
       "<div>\n",
       "<style scoped>\n",
       "    .dataframe tbody tr th:only-of-type {\n",
       "        vertical-align: middle;\n",
       "    }\n",
       "\n",
       "    .dataframe tbody tr th {\n",
       "        vertical-align: top;\n",
       "    }\n",
       "\n",
       "    .dataframe thead th {\n",
       "        text-align: right;\n",
       "    }\n",
       "</style>\n",
       "<table border=\"1\" class=\"dataframe\">\n",
       "  <thead>\n",
       "    <tr style=\"text-align: right;\">\n",
       "      <th></th>\n",
       "      <th>length</th>\n",
       "      <th>word_count</th>\n",
       "      <th>char_count</th>\n",
       "      <th>avg_word</th>\n",
       "      <th>stopword_coun</th>\n",
       "    </tr>\n",
       "  </thead>\n",
       "  <tbody>\n",
       "    <tr>\n",
       "      <td>count</td>\n",
       "      <td>474.000000</td>\n",
       "      <td>474.000000</td>\n",
       "      <td>474.000000</td>\n",
       "      <td>474.000000</td>\n",
       "      <td>474.000000</td>\n",
       "    </tr>\n",
       "    <tr>\n",
       "      <td>mean</td>\n",
       "      <td>799.419831</td>\n",
       "      <td>146.158228</td>\n",
       "      <td>799.419831</td>\n",
       "      <td>4.442453</td>\n",
       "      <td>59.529536</td>\n",
       "    </tr>\n",
       "    <tr>\n",
       "      <td>std</td>\n",
       "      <td>654.140443</td>\n",
       "      <td>119.416863</td>\n",
       "      <td>654.140443</td>\n",
       "      <td>0.316498</td>\n",
       "      <td>49.947924</td>\n",
       "    </tr>\n",
       "    <tr>\n",
       "      <td>min</td>\n",
       "      <td>87.000000</td>\n",
       "      <td>13.000000</td>\n",
       "      <td>87.000000</td>\n",
       "      <td>3.631579</td>\n",
       "      <td>3.000000</td>\n",
       "    </tr>\n",
       "    <tr>\n",
       "      <td>25%</td>\n",
       "      <td>368.250000</td>\n",
       "      <td>67.000000</td>\n",
       "      <td>368.250000</td>\n",
       "      <td>4.244850</td>\n",
       "      <td>27.000000</td>\n",
       "    </tr>\n",
       "    <tr>\n",
       "      <td>50%</td>\n",
       "      <td>610.000000</td>\n",
       "      <td>112.000000</td>\n",
       "      <td>610.000000</td>\n",
       "      <td>4.420964</td>\n",
       "      <td>45.500000</td>\n",
       "    </tr>\n",
       "    <tr>\n",
       "      <td>75%</td>\n",
       "      <td>1057.500000</td>\n",
       "      <td>198.750000</td>\n",
       "      <td>1057.500000</td>\n",
       "      <td>4.620898</td>\n",
       "      <td>81.750000</td>\n",
       "    </tr>\n",
       "    <tr>\n",
       "      <td>max</td>\n",
       "      <td>5000.000000</td>\n",
       "      <td>944.000000</td>\n",
       "      <td>5000.000000</td>\n",
       "      <td>5.857143</td>\n",
       "      <td>366.000000</td>\n",
       "    </tr>\n",
       "  </tbody>\n",
       "</table>\n",
       "</div>"
      ],
      "text/plain": [
       "            length  word_count   char_count    avg_word  stopword_coun\n",
       "count   474.000000  474.000000   474.000000  474.000000     474.000000\n",
       "mean    799.419831  146.158228   799.419831    4.442453      59.529536\n",
       "std     654.140443  119.416863   654.140443    0.316498      49.947924\n",
       "min      87.000000   13.000000    87.000000    3.631579       3.000000\n",
       "25%     368.250000   67.000000   368.250000    4.244850      27.000000\n",
       "50%     610.000000  112.000000   610.000000    4.420964      45.500000\n",
       "75%    1057.500000  198.750000  1057.500000    4.620898      81.750000\n",
       "max    5000.000000  944.000000  5000.000000    5.857143     366.000000"
      ]
     },
     "execution_count": 33,
     "metadata": {},
     "output_type": "execute_result"
    }
   ],
   "source": [
    "df.describe()"
   ]
  },
  {
   "cell_type": "code",
   "execution_count": 34,
   "metadata": {},
   "outputs": [
    {
     "data": {
      "text/html": [
       "<div>\n",
       "<style scoped>\n",
       "    .dataframe tbody tr th:only-of-type {\n",
       "        vertical-align: middle;\n",
       "    }\n",
       "\n",
       "    .dataframe tbody tr th {\n",
       "        vertical-align: top;\n",
       "    }\n",
       "\n",
       "    .dataframe thead th {\n",
       "        text-align: right;\n",
       "    }\n",
       "</style>\n",
       "<table border=\"1\" class=\"dataframe\">\n",
       "  <thead>\n",
       "    <tr style=\"text-align: right;\">\n",
       "      <th></th>\n",
       "      <th>Name</th>\n",
       "      <th>RatingValue</th>\n",
       "      <th>DatePublished</th>\n",
       "      <th>Review</th>\n",
       "      <th>length</th>\n",
       "      <th>word_count</th>\n",
       "      <th>char_count</th>\n",
       "      <th>avg_word</th>\n",
       "      <th>stopword_coun</th>\n",
       "    </tr>\n",
       "  </thead>\n",
       "  <tbody>\n",
       "    <tr>\n",
       "      <td>0</td>\n",
       "      <td>Playa Cabana</td>\n",
       "      <td>neutral</td>\n",
       "      <td>2018-09-07</td>\n",
       "      <td>My friend and I decided on Mexican food for di...</td>\n",
       "      <td>1153</td>\n",
       "      <td>209</td>\n",
       "      <td>1153</td>\n",
       "      <td>4.410377</td>\n",
       "      <td>92</td>\n",
       "    </tr>\n",
       "    <tr>\n",
       "      <td>1</td>\n",
       "      <td>Fieramosca</td>\n",
       "      <td>neutral</td>\n",
       "      <td>2018-06-19</td>\n",
       "      <td>Had a good dinner here last week! The interior...</td>\n",
       "      <td>1939</td>\n",
       "      <td>370</td>\n",
       "      <td>1939</td>\n",
       "      <td>4.204301</td>\n",
       "      <td>175</td>\n",
       "    </tr>\n",
       "    <tr>\n",
       "      <td>2</td>\n",
       "      <td>El Nahual Tacos</td>\n",
       "      <td>negative</td>\n",
       "      <td>2019-09-10</td>\n",
       "      <td>To be completely honest. I was expecting more....</td>\n",
       "      <td>393</td>\n",
       "      <td>69</td>\n",
       "      <td>393</td>\n",
       "      <td>4.628571</td>\n",
       "      <td>24</td>\n",
       "    </tr>\n",
       "    <tr>\n",
       "      <td>3</td>\n",
       "      <td>Miku</td>\n",
       "      <td>negative</td>\n",
       "      <td>2019-12-10</td>\n",
       "      <td>I wanted sooo badly to love Miku ...Because of...</td>\n",
       "      <td>1370</td>\n",
       "      <td>255</td>\n",
       "      <td>1370</td>\n",
       "      <td>4.319066</td>\n",
       "      <td>118</td>\n",
       "    </tr>\n",
       "    <tr>\n",
       "      <td>4</td>\n",
       "      <td>Good Hombres</td>\n",
       "      <td>positive</td>\n",
       "      <td>2019-11-10</td>\n",
       "      <td>This place serves some really great tacos! Ser...</td>\n",
       "      <td>241</td>\n",
       "      <td>45</td>\n",
       "      <td>241</td>\n",
       "      <td>4.377778</td>\n",
       "      <td>21</td>\n",
       "    </tr>\n",
       "  </tbody>\n",
       "</table>\n",
       "</div>"
      ],
      "text/plain": [
       "              Name RatingValue DatePublished  \\\n",
       "0     Playa Cabana     neutral    2018-09-07   \n",
       "1       Fieramosca     neutral    2018-06-19   \n",
       "2  El Nahual Tacos    negative    2019-09-10   \n",
       "3             Miku    negative    2019-12-10   \n",
       "4     Good Hombres    positive    2019-11-10   \n",
       "\n",
       "                                              Review  length  word_count  \\\n",
       "0  My friend and I decided on Mexican food for di...    1153         209   \n",
       "1  Had a good dinner here last week! The interior...    1939         370   \n",
       "2  To be completely honest. I was expecting more....     393          69   \n",
       "3  I wanted sooo badly to love Miku ...Because of...    1370         255   \n",
       "4  This place serves some really great tacos! Ser...     241          45   \n",
       "\n",
       "   char_count  avg_word  stopword_coun  \n",
       "0        1153  4.410377             92  \n",
       "1        1939  4.204301            175  \n",
       "2         393  4.628571             24  \n",
       "3        1370  4.319066            118  \n",
       "4         241  4.377778             21  "
      ]
     },
     "execution_count": 34,
     "metadata": {},
     "output_type": "execute_result"
    }
   ],
   "source": [
    "df.head()"
   ]
  },
  {
   "cell_type": "markdown",
   "metadata": {},
   "source": [
    "# 3)Cleaning  the Data Set\n",
    "\n",
    "How does the old saying go?\n",
    "\n",
    "Crap In, Crap Out.\n",
    "\n",
    "Well the same applies to natural language processing and sentiment analysis. Cleaning text is a little different to regular data cleaning in that, well, you’re dealing with strings of text rather than records of data. Regardless, cleaning the data is still important. The four most common steps that are performed are;\n",
    "\n",
    "Lowercasing all words\n",
    "Removing punctuation\n",
    "Removing stopwords\n",
    "Removing trivial words (excessively short and frequent words e.g. A, I, us)\n",
    "Performing these steps ensures that the text is as relevant as possible to the message that the actual review is trying to represent.\n",
    "\n",
    "Without further adieu, let’s get cleaning.\n",
    "\n",
    "First up, lowercasing all the words. The stop word list that is used in a couple of steps has all of the words in lowercase, by lowercasing all of the text in the reviews it means that words which are capitalised won’t be missed"
   ]
  },
  {
   "cell_type": "code",
   "execution_count": 35,
   "metadata": {},
   "outputs": [
    {
     "name": "stderr",
     "output_type": "stream",
     "text": [
      "C:\\Users\\Mahwish\\Anaconda2020\\lib\\site-packages\\ipykernel_launcher.py:6: SettingWithCopyWarning: \n",
      "A value is trying to be set on a copy of a slice from a DataFrame.\n",
      "Try using .loc[row_indexer,col_indexer] = value instead\n",
      "\n",
      "See the caveats in the documentation: http://pandas.pydata.org/pandas-docs/stable/user_guide/indexing.html#returning-a-view-versus-a-copy\n",
      "  \n"
     ]
    }
   ],
   "source": [
    "#Lowercasing all words\n",
    "#A key part of text analysis is tokenization, this is where blocks of text are split into their individual words\n",
    "#and pieces of punctuation. The punctuation itself does not add much meaning when searching for a topic or trying \n",
    "#to ascertain sentiment, hence its best to strip it out.\n",
    "# Lower case all words\n",
    "df['review_lower'] = df['Review'].apply(lambda x: \" \".join(x.lower() for x in x.split()))"
   ]
  },
  {
   "cell_type": "code",
   "execution_count": null,
   "metadata": {},
   "outputs": [],
   "source": []
  },
  {
   "cell_type": "code",
   "execution_count": 36,
   "metadata": {},
   "outputs": [
    {
     "name": "stderr",
     "output_type": "stream",
     "text": [
      "C:\\Users\\Mahwish\\Anaconda2020\\lib\\site-packages\\ipykernel_launcher.py:5: SettingWithCopyWarning: \n",
      "A value is trying to be set on a copy of a slice from a DataFrame.\n",
      "Try using .loc[row_indexer,col_indexer] = value instead\n",
      "\n",
      "See the caveats in the documentation: http://pandas.pydata.org/pandas-docs/stable/user_guide/indexing.html#returning-a-view-versus-a-copy\n",
      "  \"\"\"\n"
     ]
    }
   ],
   "source": [
    "#punctuation\n",
    "import string\n",
    "punc = string.punctuation # to see list of punctuation\n",
    "\n",
    "df['review_nopunc'] = df['review_lower'].str.replace('punc', '')        \n"
   ]
  },
  {
   "cell_type": "code",
   "execution_count": 37,
   "metadata": {},
   "outputs": [
    {
     "name": "stderr",
     "output_type": "stream",
     "text": [
      "C:\\Users\\Mahwish\\Anaconda2020\\lib\\site-packages\\ipykernel_launcher.py:6: SettingWithCopyWarning: \n",
      "A value is trying to be set on a copy of a slice from a DataFrame.\n",
      "Try using .loc[row_indexer,col_indexer] = value instead\n",
      "\n",
      "See the caveats in the documentation: http://pandas.pydata.org/pandas-docs/stable/user_guide/indexing.html#returning-a-view-versus-a-copy\n",
      "  \n"
     ]
    }
   ],
   "source": [
    "# Import stopwords\n",
    "from nltk.corpus import stopwords\n",
    "stop_words = stopwords.words('english')\n",
    "\n",
    "# Remove Stopwords\n",
    "df['review_nopunc_nostop'] = df['review_nopunc'].apply(lambda x: \" \".join(x for x in x.split() if x not in stop_words))"
   ]
  },
  {
   "cell_type": "code",
   "execution_count": 38,
   "metadata": {},
   "outputs": [],
   "source": [
    "# Return frequency of values\n",
    "freq= pd.Series(\" \".join(df['review_nopunc_nostop']).split()).value_counts()[:30]"
   ]
  },
  {
   "cell_type": "code",
   "execution_count": 39,
   "metadata": {},
   "outputs": [],
   "source": [
    "other_stopwords = ['get', 'us', 'see', 'use', 'said', 'asked', 'day', 'go' \\\n",
    "  'even', 'ive', 'right', 'left', 'always', 'would', 'told', \\\n",
    "  'get', 'us', 'would', 'get', 'one', 'ive', 'go', 'even', \\\n",
    "  'also', 'ever', 'x', 'take', 'let' ]"
   ]
  },
  {
   "cell_type": "code",
   "execution_count": 40,
   "metadata": {},
   "outputs": [
    {
     "name": "stderr",
     "output_type": "stream",
     "text": [
      "C:\\Users\\Mahwish\\Anaconda2020\\lib\\site-packages\\ipykernel_launcher.py:1: SettingWithCopyWarning: \n",
      "A value is trying to be set on a copy of a slice from a DataFrame.\n",
      "Try using .loc[row_indexer,col_indexer] = value instead\n",
      "\n",
      "See the caveats in the documentation: http://pandas.pydata.org/pandas-docs/stable/user_guide/indexing.html#returning-a-view-versus-a-copy\n",
      "  \"\"\"Entry point for launching an IPython kernel.\n"
     ]
    }
   ],
   "source": [
    "df['review_nopunc_nostop_nocommon'] = df['review_nopunc_nostop'].apply(lambda x: \"\".join(\" \".join(x for x in x.split() if x not in other_stopwords)))"
   ]
  },
  {
   "cell_type": "markdown",
   "metadata": {},
   "source": [
    "# This should leave you with a data frame with reviews at each of the different stages of cleaning. We’ll eventually drop these and replace them with our final sentiment metrics so don’t fret if it looks a little messy for now."
   ]
  },
  {
   "cell_type": "code",
   "execution_count": 41,
   "metadata": {},
   "outputs": [
    {
     "data": {
      "text/html": [
       "<div>\n",
       "<style scoped>\n",
       "    .dataframe tbody tr th:only-of-type {\n",
       "        vertical-align: middle;\n",
       "    }\n",
       "\n",
       "    .dataframe tbody tr th {\n",
       "        vertical-align: top;\n",
       "    }\n",
       "\n",
       "    .dataframe thead th {\n",
       "        text-align: right;\n",
       "    }\n",
       "</style>\n",
       "<table border=\"1\" class=\"dataframe\">\n",
       "  <thead>\n",
       "    <tr style=\"text-align: right;\">\n",
       "      <th></th>\n",
       "      <th>Name</th>\n",
       "      <th>RatingValue</th>\n",
       "      <th>DatePublished</th>\n",
       "      <th>Review</th>\n",
       "      <th>length</th>\n",
       "      <th>word_count</th>\n",
       "      <th>char_count</th>\n",
       "      <th>avg_word</th>\n",
       "      <th>stopword_coun</th>\n",
       "      <th>review_lower</th>\n",
       "      <th>review_nopunc</th>\n",
       "      <th>review_nopunc_nostop</th>\n",
       "      <th>review_nopunc_nostop_nocommon</th>\n",
       "    </tr>\n",
       "  </thead>\n",
       "  <tbody>\n",
       "    <tr>\n",
       "      <td>0</td>\n",
       "      <td>Playa Cabana</td>\n",
       "      <td>neutral</td>\n",
       "      <td>2018-09-07</td>\n",
       "      <td>My friend and I decided on Mexican food for di...</td>\n",
       "      <td>1153</td>\n",
       "      <td>209</td>\n",
       "      <td>1153</td>\n",
       "      <td>4.410377</td>\n",
       "      <td>92</td>\n",
       "      <td>my friend and i decided on mexican food for di...</td>\n",
       "      <td>my friend and i decided on mexican food for di...</td>\n",
       "      <td>friend decided mexican food dinner popped near...</td>\n",
       "      <td>friend decided mexican food dinner popped near...</td>\n",
       "    </tr>\n",
       "    <tr>\n",
       "      <td>1</td>\n",
       "      <td>Fieramosca</td>\n",
       "      <td>neutral</td>\n",
       "      <td>2018-06-19</td>\n",
       "      <td>Had a good dinner here last week! The interior...</td>\n",
       "      <td>1939</td>\n",
       "      <td>370</td>\n",
       "      <td>1939</td>\n",
       "      <td>4.204301</td>\n",
       "      <td>175</td>\n",
       "      <td>had a good dinner here last week! the interior...</td>\n",
       "      <td>had a good dinner here last week! the interior...</td>\n",
       "      <td>good dinner last week! interior traditional it...</td>\n",
       "      <td>good dinner last week! interior traditional it...</td>\n",
       "    </tr>\n",
       "    <tr>\n",
       "      <td>2</td>\n",
       "      <td>El Nahual Tacos</td>\n",
       "      <td>negative</td>\n",
       "      <td>2019-09-10</td>\n",
       "      <td>To be completely honest. I was expecting more....</td>\n",
       "      <td>393</td>\n",
       "      <td>69</td>\n",
       "      <td>393</td>\n",
       "      <td>4.628571</td>\n",
       "      <td>24</td>\n",
       "      <td>to be completely honest. i was expecting more....</td>\n",
       "      <td>to be completely honest. i was expecting more....</td>\n",
       "      <td>completely honest. expecting more. came lunch ...</td>\n",
       "      <td>completely honest. expecting more. came lunch ...</td>\n",
       "    </tr>\n",
       "    <tr>\n",
       "      <td>3</td>\n",
       "      <td>Miku</td>\n",
       "      <td>negative</td>\n",
       "      <td>2019-12-10</td>\n",
       "      <td>I wanted sooo badly to love Miku ...Because of...</td>\n",
       "      <td>1370</td>\n",
       "      <td>255</td>\n",
       "      <td>1370</td>\n",
       "      <td>4.319066</td>\n",
       "      <td>118</td>\n",
       "      <td>i wanted sooo badly to love miku ...because of...</td>\n",
       "      <td>i wanted sooo badly to love miku ...because of...</td>\n",
       "      <td>wanted sooo badly love miku ...because high ra...</td>\n",
       "      <td>wanted sooo badly love miku ...because high ra...</td>\n",
       "    </tr>\n",
       "    <tr>\n",
       "      <td>4</td>\n",
       "      <td>Good Hombres</td>\n",
       "      <td>positive</td>\n",
       "      <td>2019-11-10</td>\n",
       "      <td>This place serves some really great tacos! Ser...</td>\n",
       "      <td>241</td>\n",
       "      <td>45</td>\n",
       "      <td>241</td>\n",
       "      <td>4.377778</td>\n",
       "      <td>21</td>\n",
       "      <td>this place serves some really great tacos! ser...</td>\n",
       "      <td>this place serves some really great tacos! ser...</td>\n",
       "      <td>place serves really great tacos! service quick...</td>\n",
       "      <td>place serves really great tacos! service quick...</td>\n",
       "    </tr>\n",
       "  </tbody>\n",
       "</table>\n",
       "</div>"
      ],
      "text/plain": [
       "              Name RatingValue DatePublished  \\\n",
       "0     Playa Cabana     neutral    2018-09-07   \n",
       "1       Fieramosca     neutral    2018-06-19   \n",
       "2  El Nahual Tacos    negative    2019-09-10   \n",
       "3             Miku    negative    2019-12-10   \n",
       "4     Good Hombres    positive    2019-11-10   \n",
       "\n",
       "                                              Review  length  word_count  \\\n",
       "0  My friend and I decided on Mexican food for di...    1153         209   \n",
       "1  Had a good dinner here last week! The interior...    1939         370   \n",
       "2  To be completely honest. I was expecting more....     393          69   \n",
       "3  I wanted sooo badly to love Miku ...Because of...    1370         255   \n",
       "4  This place serves some really great tacos! Ser...     241          45   \n",
       "\n",
       "   char_count  avg_word  stopword_coun  \\\n",
       "0        1153  4.410377             92   \n",
       "1        1939  4.204301            175   \n",
       "2         393  4.628571             24   \n",
       "3        1370  4.319066            118   \n",
       "4         241  4.377778             21   \n",
       "\n",
       "                                        review_lower  \\\n",
       "0  my friend and i decided on mexican food for di...   \n",
       "1  had a good dinner here last week! the interior...   \n",
       "2  to be completely honest. i was expecting more....   \n",
       "3  i wanted sooo badly to love miku ...because of...   \n",
       "4  this place serves some really great tacos! ser...   \n",
       "\n",
       "                                       review_nopunc  \\\n",
       "0  my friend and i decided on mexican food for di...   \n",
       "1  had a good dinner here last week! the interior...   \n",
       "2  to be completely honest. i was expecting more....   \n",
       "3  i wanted sooo badly to love miku ...because of...   \n",
       "4  this place serves some really great tacos! ser...   \n",
       "\n",
       "                                review_nopunc_nostop  \\\n",
       "0  friend decided mexican food dinner popped near...   \n",
       "1  good dinner last week! interior traditional it...   \n",
       "2  completely honest. expecting more. came lunch ...   \n",
       "3  wanted sooo badly love miku ...because high ra...   \n",
       "4  place serves really great tacos! service quick...   \n",
       "\n",
       "                       review_nopunc_nostop_nocommon  \n",
       "0  friend decided mexican food dinner popped near...  \n",
       "1  good dinner last week! interior traditional it...  \n",
       "2  completely honest. expecting more. came lunch ...  \n",
       "3  wanted sooo badly love miku ...because high ra...  \n",
       "4  place serves really great tacos! service quick...  "
      ]
     },
     "execution_count": 41,
     "metadata": {},
     "output_type": "execute_result"
    }
   ],
   "source": [
    "df.head()"
   ]
  },
  {
   "cell_type": "markdown",
   "metadata": {},
   "source": [
    "# STEP 4 – LEMMATIZE THE REVIEWS\n",
    "\n",
    "Lemmatization is the process of transforming your natural text from english to lemming language.\n",
    "\n",
    "I kid, it’s the process of translating words back to their base form.\n",
    "\n",
    "Lemmatization Example\n",
    "\n",
    "am, are, is would be lemmatized to be\n",
    "car, cars, car’s, cars’ would be lemmatized to car\n",
    "This cuts out the number of words that are available for analysis by combining similar forms into one base form. One of other processes that is commonly used to cut down the the number of unique words in natural text processing is a process called stemming.\n",
    "\n",
    "Stemming shortens the number of unique words by removing common endings.\n",
    "\n",
    "Example:\n",
    "\n",
    "Caresses is stemmed to caress\n",
    "Ponies is stemmed to poni\n",
    "Some words can stand alone without the extended ending however as shown with the word ponies above, this is not always the case. In this case we’ll use lemmatization to shorten down our word lsit.\n",
    "\n",
    "The text blob module provides a simple method to lemmatize the reviews."
   ]
  },
  {
   "cell_type": "code",
   "execution_count": 42,
   "metadata": {},
   "outputs": [
    {
     "name": "stderr",
     "output_type": "stream",
     "text": [
      "C:\\Users\\Mahwish\\Anaconda2020\\lib\\site-packages\\ipykernel_launcher.py:6: SettingWithCopyWarning: \n",
      "A value is trying to be set on a copy of a slice from a DataFrame.\n",
      "Try using .loc[row_indexer,col_indexer] = value instead\n",
      "\n",
      "See the caveats in the documentation: http://pandas.pydata.org/pandas-docs/stable/user_guide/indexing.html#returning-a-view-versus-a-copy\n",
      "  \n"
     ]
    }
   ],
   "source": [
    "# Import textblob\n",
    "from textblob import Word\n",
    "\n",
    "# Lemmatize final review format\n",
    "df['cleaned_review'] = df['review_nopunc_nostop_nocommon']\\\n",
    ".apply(lambda x: \" \".join([Word(word).lemmatize() for word in x.split()]))"
   ]
  },
  {
   "cell_type": "markdown",
   "metadata": {},
   "source": [
    "#### There is an example of the change from base reviw to clean and lemmatized review"
   ]
  },
  {
   "cell_type": "code",
   "execution_count": 43,
   "metadata": {},
   "outputs": [
    {
     "name": "stdout",
     "output_type": "stream",
     "text": [
      "Base Review\n",
      " My friend and I decided on Mexican food for dinner and this popped up as nearby where we were at the time, Yorkville/Annex area. As we walked in, immediately we're greeted and seated in a tight space for 2. The menu was explained to us and water was given, then we were left for a few minutes to decide. \n",
      "\n",
      "We decided on salsa fresca & chips, chicken enchiladas suizas and short rib emmoladas along with a bottle each of corona and negra cervezas.\n",
      "\n",
      "Salsa fresca and chips arrived first, the tomato salsa was delicious, the morita chile seemed to have been grilled before it was mashed together with tomatoes and red onions and went well with the crispy chips. (If you come for anything at all, this would be it and definitely skip the guac as it didn't seem appetizing.)\n",
      "\n",
      "My friend and I shared the chicken enchiladas suizas and short rib emmoladas, while tasty, I could've gotten it somewhere else for cheaper. \n",
      "\n",
      "Because of how tight the space is, I was able to look around at what the other dinners ordered and the the tacos seemed to be more popular, so will have to come back and try those.\n",
      "\n",
      "We also ordered alfajores, which at $8 for 2 was just meh.\n",
      "\n",
      "------------------------------\n",
      "Cleaned and Lemmatized Review \n",
      " friend decided mexican food dinner popped nearby time, yorkville/annex area. walked in, immediately we're greeted seated tight space 2. menu explained water given, minute decide. decided salsa fresca & chips, chicken enchilada suizas short rib emmoladas along bottle corona negra cervezas. salsa fresca chip arrived first, tomato salsa delicious, morita chile seemed grilled mashed together tomato red onion went well crispy chips. (if come anything all, definitely skip guac seem appetizing.) friend shared chicken enchilada suizas short rib emmoladas, tasty, could've gotten somewhere else cheaper. tight space is, able look around dinner ordered taco seemed popular, come back try those. ordered alfajores, $8 2 meh.\n"
     ]
    }
   ],
   "source": [
    "print('Base Review\\n' ,df [\"Review\"][0])\n",
    "print(\"\\n------------------------------\")\n",
    "print(\"Cleaned and Lemmatized Review \\n\" ,df[\"cleaned_review\"][0])"
   ]
  },
  {
   "cell_type": "markdown",
   "metadata": {},
   "source": [
    "# Sentiment Analysis\n",
    "\n",
    "Finally, onto the sentiment analysis.\n",
    "\n",
    "After all that cleaning actually performing the sentiment analysis is really quite straight forward. The textblob module again comes in quite handy for this task and returns not only sentiment metric but also a subjectivity metric as well.\n",
    "\n",
    "The polarity metric refers to the degree to which the text analysed is positive or negative, between a range of -1 to 1. A score of 1 means highly positive whereas -1 is considered well and truly negative."
   ]
  },
  {
   "cell_type": "markdown",
   "metadata": {},
   "source": [
    "# "
   ]
  },
  {
   "cell_type": "code",
   "execution_count": 44,
   "metadata": {},
   "outputs": [
    {
     "name": "stderr",
     "output_type": "stream",
     "text": [
      "C:\\Users\\Mahwish\\Anaconda2020\\lib\\site-packages\\ipykernel_launcher.py:3: SettingWithCopyWarning: \n",
      "A value is trying to be set on a copy of a slice from a DataFrame.\n",
      "Try using .loc[row_indexer,col_indexer] = value instead\n",
      "\n",
      "See the caveats in the documentation: http://pandas.pydata.org/pandas-docs/stable/user_guide/indexing.html#returning-a-view-versus-a-copy\n",
      "  This is separate from the ipykernel package so we can avoid doing imports until\n"
     ]
    }
   ],
   "source": [
    "# Calculate polarity\n",
    "from textblob import TextBlob\n",
    "df['polarity'] = df['cleaned_review'].apply(lambda x: TextBlob(x).sentiment[0])"
   ]
  },
  {
   "cell_type": "code",
   "execution_count": 45,
   "metadata": {},
   "outputs": [
    {
     "data": {
      "text/html": [
       "<div>\n",
       "<style scoped>\n",
       "    .dataframe tbody tr th:only-of-type {\n",
       "        vertical-align: middle;\n",
       "    }\n",
       "\n",
       "    .dataframe tbody tr th {\n",
       "        vertical-align: top;\n",
       "    }\n",
       "\n",
       "    .dataframe thead th {\n",
       "        text-align: right;\n",
       "    }\n",
       "</style>\n",
       "<table border=\"1\" class=\"dataframe\">\n",
       "  <thead>\n",
       "    <tr style=\"text-align: right;\">\n",
       "      <th></th>\n",
       "      <th>Name</th>\n",
       "      <th>RatingValue</th>\n",
       "      <th>DatePublished</th>\n",
       "      <th>Review</th>\n",
       "      <th>length</th>\n",
       "      <th>word_count</th>\n",
       "      <th>char_count</th>\n",
       "      <th>avg_word</th>\n",
       "      <th>stopword_coun</th>\n",
       "      <th>review_lower</th>\n",
       "      <th>review_nopunc</th>\n",
       "      <th>review_nopunc_nostop</th>\n",
       "      <th>review_nopunc_nostop_nocommon</th>\n",
       "      <th>cleaned_review</th>\n",
       "      <th>polarity</th>\n",
       "    </tr>\n",
       "  </thead>\n",
       "  <tbody>\n",
       "    <tr>\n",
       "      <td>0</td>\n",
       "      <td>Playa Cabana</td>\n",
       "      <td>neutral</td>\n",
       "      <td>2018-09-07</td>\n",
       "      <td>My friend and I decided on Mexican food for di...</td>\n",
       "      <td>1153</td>\n",
       "      <td>209</td>\n",
       "      <td>1153</td>\n",
       "      <td>4.410377</td>\n",
       "      <td>92</td>\n",
       "      <td>my friend and i decided on mexican food for di...</td>\n",
       "      <td>my friend and i decided on mexican food for di...</td>\n",
       "      <td>friend decided mexican food dinner popped near...</td>\n",
       "      <td>friend decided mexican food dinner popped near...</td>\n",
       "      <td>friend decided mexican food dinner popped near...</td>\n",
       "      <td>0.066190</td>\n",
       "    </tr>\n",
       "    <tr>\n",
       "      <td>1</td>\n",
       "      <td>Fieramosca</td>\n",
       "      <td>neutral</td>\n",
       "      <td>2018-06-19</td>\n",
       "      <td>Had a good dinner here last week! The interior...</td>\n",
       "      <td>1939</td>\n",
       "      <td>370</td>\n",
       "      <td>1939</td>\n",
       "      <td>4.204301</td>\n",
       "      <td>175</td>\n",
       "      <td>had a good dinner here last week! the interior...</td>\n",
       "      <td>had a good dinner here last week! the interior...</td>\n",
       "      <td>good dinner last week! interior traditional it...</td>\n",
       "      <td>good dinner last week! interior traditional it...</td>\n",
       "      <td>good dinner last week! interior traditional it...</td>\n",
       "      <td>0.209410</td>\n",
       "    </tr>\n",
       "    <tr>\n",
       "      <td>2</td>\n",
       "      <td>El Nahual Tacos</td>\n",
       "      <td>negative</td>\n",
       "      <td>2019-09-10</td>\n",
       "      <td>To be completely honest. I was expecting more....</td>\n",
       "      <td>393</td>\n",
       "      <td>69</td>\n",
       "      <td>393</td>\n",
       "      <td>4.628571</td>\n",
       "      <td>24</td>\n",
       "      <td>to be completely honest. i was expecting more....</td>\n",
       "      <td>to be completely honest. i was expecting more....</td>\n",
       "      <td>completely honest. expecting more. came lunch ...</td>\n",
       "      <td>completely honest. expecting more. came lunch ...</td>\n",
       "      <td>completely honest. expecting more. came lunch ...</td>\n",
       "      <td>0.348611</td>\n",
       "    </tr>\n",
       "    <tr>\n",
       "      <td>3</td>\n",
       "      <td>Miku</td>\n",
       "      <td>negative</td>\n",
       "      <td>2019-12-10</td>\n",
       "      <td>I wanted sooo badly to love Miku ...Because of...</td>\n",
       "      <td>1370</td>\n",
       "      <td>255</td>\n",
       "      <td>1370</td>\n",
       "      <td>4.319066</td>\n",
       "      <td>118</td>\n",
       "      <td>i wanted sooo badly to love miku ...because of...</td>\n",
       "      <td>i wanted sooo badly to love miku ...because of...</td>\n",
       "      <td>wanted sooo badly love miku ...because high ra...</td>\n",
       "      <td>wanted sooo badly love miku ...because high ra...</td>\n",
       "      <td>wanted sooo badly love miku ...because high ra...</td>\n",
       "      <td>0.246273</td>\n",
       "    </tr>\n",
       "    <tr>\n",
       "      <td>4</td>\n",
       "      <td>Good Hombres</td>\n",
       "      <td>positive</td>\n",
       "      <td>2019-11-10</td>\n",
       "      <td>This place serves some really great tacos! Ser...</td>\n",
       "      <td>241</td>\n",
       "      <td>45</td>\n",
       "      <td>241</td>\n",
       "      <td>4.377778</td>\n",
       "      <td>21</td>\n",
       "      <td>this place serves some really great tacos! ser...</td>\n",
       "      <td>this place serves some really great tacos! ser...</td>\n",
       "      <td>place serves really great tacos! service quick...</td>\n",
       "      <td>place serves really great tacos! service quick...</td>\n",
       "      <td>place serf really great tacos! service quick g...</td>\n",
       "      <td>0.626667</td>\n",
       "    </tr>\n",
       "  </tbody>\n",
       "</table>\n",
       "</div>"
      ],
      "text/plain": [
       "              Name RatingValue DatePublished  \\\n",
       "0     Playa Cabana     neutral    2018-09-07   \n",
       "1       Fieramosca     neutral    2018-06-19   \n",
       "2  El Nahual Tacos    negative    2019-09-10   \n",
       "3             Miku    negative    2019-12-10   \n",
       "4     Good Hombres    positive    2019-11-10   \n",
       "\n",
       "                                              Review  length  word_count  \\\n",
       "0  My friend and I decided on Mexican food for di...    1153         209   \n",
       "1  Had a good dinner here last week! The interior...    1939         370   \n",
       "2  To be completely honest. I was expecting more....     393          69   \n",
       "3  I wanted sooo badly to love Miku ...Because of...    1370         255   \n",
       "4  This place serves some really great tacos! Ser...     241          45   \n",
       "\n",
       "   char_count  avg_word  stopword_coun  \\\n",
       "0        1153  4.410377             92   \n",
       "1        1939  4.204301            175   \n",
       "2         393  4.628571             24   \n",
       "3        1370  4.319066            118   \n",
       "4         241  4.377778             21   \n",
       "\n",
       "                                        review_lower  \\\n",
       "0  my friend and i decided on mexican food for di...   \n",
       "1  had a good dinner here last week! the interior...   \n",
       "2  to be completely honest. i was expecting more....   \n",
       "3  i wanted sooo badly to love miku ...because of...   \n",
       "4  this place serves some really great tacos! ser...   \n",
       "\n",
       "                                       review_nopunc  \\\n",
       "0  my friend and i decided on mexican food for di...   \n",
       "1  had a good dinner here last week! the interior...   \n",
       "2  to be completely honest. i was expecting more....   \n",
       "3  i wanted sooo badly to love miku ...because of...   \n",
       "4  this place serves some really great tacos! ser...   \n",
       "\n",
       "                                review_nopunc_nostop  \\\n",
       "0  friend decided mexican food dinner popped near...   \n",
       "1  good dinner last week! interior traditional it...   \n",
       "2  completely honest. expecting more. came lunch ...   \n",
       "3  wanted sooo badly love miku ...because high ra...   \n",
       "4  place serves really great tacos! service quick...   \n",
       "\n",
       "                       review_nopunc_nostop_nocommon  \\\n",
       "0  friend decided mexican food dinner popped near...   \n",
       "1  good dinner last week! interior traditional it...   \n",
       "2  completely honest. expecting more. came lunch ...   \n",
       "3  wanted sooo badly love miku ...because high ra...   \n",
       "4  place serves really great tacos! service quick...   \n",
       "\n",
       "                                      cleaned_review  polarity  \n",
       "0  friend decided mexican food dinner popped near...  0.066190  \n",
       "1  good dinner last week! interior traditional it...  0.209410  \n",
       "2  completely honest. expecting more. came lunch ...  0.348611  \n",
       "3  wanted sooo badly love miku ...because high ra...  0.246273  \n",
       "4  place serf really great tacos! service quick g...  0.626667  "
      ]
     },
     "execution_count": 45,
     "metadata": {},
     "output_type": "execute_result"
    }
   ],
   "source": [
    "df.head()"
   ]
  },
  {
   "cell_type": "code",
   "execution_count": 46,
   "metadata": {},
   "outputs": [
    {
     "data": {
      "text/html": [
       "<div>\n",
       "<style scoped>\n",
       "    .dataframe tbody tr th:only-of-type {\n",
       "        vertical-align: middle;\n",
       "    }\n",
       "\n",
       "    .dataframe tbody tr th {\n",
       "        vertical-align: top;\n",
       "    }\n",
       "\n",
       "    .dataframe thead th {\n",
       "        text-align: right;\n",
       "    }\n",
       "</style>\n",
       "<table border=\"1\" class=\"dataframe\">\n",
       "  <thead>\n",
       "    <tr style=\"text-align: right;\">\n",
       "      <th></th>\n",
       "      <th>Name</th>\n",
       "      <th>RatingValue</th>\n",
       "      <th>DatePublished</th>\n",
       "      <th>Review</th>\n",
       "      <th>cleaned_review</th>\n",
       "    </tr>\n",
       "  </thead>\n",
       "  <tbody>\n",
       "    <tr>\n",
       "      <td>0</td>\n",
       "      <td>Playa Cabana</td>\n",
       "      <td>neutral</td>\n",
       "      <td>2018-09-07</td>\n",
       "      <td>My friend and I decided on Mexican food for di...</td>\n",
       "      <td>friend decided mexican food dinner popped near...</td>\n",
       "    </tr>\n",
       "    <tr>\n",
       "      <td>1</td>\n",
       "      <td>Fieramosca</td>\n",
       "      <td>neutral</td>\n",
       "      <td>2018-06-19</td>\n",
       "      <td>Had a good dinner here last week! The interior...</td>\n",
       "      <td>good dinner last week! interior traditional it...</td>\n",
       "    </tr>\n",
       "    <tr>\n",
       "      <td>2</td>\n",
       "      <td>El Nahual Tacos</td>\n",
       "      <td>negative</td>\n",
       "      <td>2019-09-10</td>\n",
       "      <td>To be completely honest. I was expecting more....</td>\n",
       "      <td>completely honest. expecting more. came lunch ...</td>\n",
       "    </tr>\n",
       "    <tr>\n",
       "      <td>3</td>\n",
       "      <td>Miku</td>\n",
       "      <td>negative</td>\n",
       "      <td>2019-12-10</td>\n",
       "      <td>I wanted sooo badly to love Miku ...Because of...</td>\n",
       "      <td>wanted sooo badly love miku ...because high ra...</td>\n",
       "    </tr>\n",
       "    <tr>\n",
       "      <td>4</td>\n",
       "      <td>Good Hombres</td>\n",
       "      <td>positive</td>\n",
       "      <td>2019-11-10</td>\n",
       "      <td>This place serves some really great tacos! Ser...</td>\n",
       "      <td>place serf really great tacos! service quick g...</td>\n",
       "    </tr>\n",
       "    <tr>\n",
       "      <td>...</td>\n",
       "      <td>...</td>\n",
       "      <td>...</td>\n",
       "      <td>...</td>\n",
       "      <td>...</td>\n",
       "      <td>...</td>\n",
       "    </tr>\n",
       "    <tr>\n",
       "      <td>469</td>\n",
       "      <td>Eataly</td>\n",
       "      <td>neutral</td>\n",
       "      <td>2020-03-07</td>\n",
       "      <td>A group of us went for dinner at La Piazza wit...</td>\n",
       "      <td>group went dinner la piazza within eataly. not...</td>\n",
       "    </tr>\n",
       "    <tr>\n",
       "      <td>470</td>\n",
       "      <td>Terroni</td>\n",
       "      <td>negative</td>\n",
       "      <td>2019-10-20</td>\n",
       "      <td>This restaurant is really for the experience. ...</td>\n",
       "      <td>restaurant really experience. lovely ambience ...</td>\n",
       "    </tr>\n",
       "    <tr>\n",
       "      <td>471</td>\n",
       "      <td>Hacienda las Américas</td>\n",
       "      <td>positive</td>\n",
       "      <td>2019-02-10</td>\n",
       "      <td>This place is a little gem. The food here is d...</td>\n",
       "      <td>place little gem. food delicious. say price qu...</td>\n",
       "    </tr>\n",
       "    <tr>\n",
       "      <td>472</td>\n",
       "      <td>Enoteca Sociale</td>\n",
       "      <td>neutral</td>\n",
       "      <td>2019-05-09</td>\n",
       "      <td>Enoteca is a nice spot with great drinks and g...</td>\n",
       "      <td>enoteca nice spot great drink great vibe grab ...</td>\n",
       "    </tr>\n",
       "    <tr>\n",
       "      <td>473</td>\n",
       "      <td>Hong Kong Bistro Cafe</td>\n",
       "      <td>negative</td>\n",
       "      <td>2019-12-31</td>\n",
       "      <td>Just prepared that you may wait more than 50 m...</td>\n",
       "      <td>prepared may wait 50 min food serving. came tw...</td>\n",
       "    </tr>\n",
       "  </tbody>\n",
       "</table>\n",
       "<p>474 rows × 5 columns</p>\n",
       "</div>"
      ],
      "text/plain": [
       "                      Name RatingValue DatePublished  \\\n",
       "0             Playa Cabana     neutral    2018-09-07   \n",
       "1               Fieramosca     neutral    2018-06-19   \n",
       "2          El Nahual Tacos    negative    2019-09-10   \n",
       "3                     Miku    negative    2019-12-10   \n",
       "4             Good Hombres    positive    2019-11-10   \n",
       "..                     ...         ...           ...   \n",
       "469                 Eataly     neutral    2020-03-07   \n",
       "470                Terroni    negative    2019-10-20   \n",
       "471  Hacienda las Américas    positive    2019-02-10   \n",
       "472        Enoteca Sociale     neutral    2019-05-09   \n",
       "473  Hong Kong Bistro Cafe    negative    2019-12-31   \n",
       "\n",
       "                                                Review  \\\n",
       "0    My friend and I decided on Mexican food for di...   \n",
       "1    Had a good dinner here last week! The interior...   \n",
       "2    To be completely honest. I was expecting more....   \n",
       "3    I wanted sooo badly to love Miku ...Because of...   \n",
       "4    This place serves some really great tacos! Ser...   \n",
       "..                                                 ...   \n",
       "469  A group of us went for dinner at La Piazza wit...   \n",
       "470  This restaurant is really for the experience. ...   \n",
       "471  This place is a little gem. The food here is d...   \n",
       "472  Enoteca is a nice spot with great drinks and g...   \n",
       "473  Just prepared that you may wait more than 50 m...   \n",
       "\n",
       "                                        cleaned_review  \n",
       "0    friend decided mexican food dinner popped near...  \n",
       "1    good dinner last week! interior traditional it...  \n",
       "2    completely honest. expecting more. came lunch ...  \n",
       "3    wanted sooo badly love miku ...because high ra...  \n",
       "4    place serf really great tacos! service quick g...  \n",
       "..                                                 ...  \n",
       "469  group went dinner la piazza within eataly. not...  \n",
       "470  restaurant really experience. lovely ambience ...  \n",
       "471  place little gem. food delicious. say price qu...  \n",
       "472  enoteca nice spot great drink great vibe grab ...  \n",
       "473  prepared may wait 50 min food serving. came tw...  \n",
       "\n",
       "[474 rows x 5 columns]"
      ]
     },
     "execution_count": 46,
     "metadata": {},
     "output_type": "execute_result"
    }
   ],
   "source": [
    "df_new = df[['Name','RatingValue','DatePublished','Review','cleaned_review']]\n",
    "df_new"
   ]
  },
  {
   "cell_type": "markdown",
   "metadata": {},
   "source": [
    "# Spliting for the dataset"
   ]
  },
  {
   "cell_type": "code",
   "execution_count": 54,
   "metadata": {},
   "outputs": [],
   "source": [
    "from sklearn.model_selection import train_test_split\n",
    "train_data, valid_data = train_test_split(df_new, test_size=0.2)"
   ]
  },
  {
   "cell_type": "code",
   "execution_count": 55,
   "metadata": {},
   "outputs": [],
   "source": [
    "\n",
    "train_data.to_csv(r'C:\\Users\\Maha\\training.csv')\n",
    "valid_data.to_csv(r'C:\\Users\\Maha\\valid.csv')"
   ]
  },
  {
   "cell_type": "code",
   "execution_count": 56,
   "metadata": {},
   "outputs": [
    {
     "name": "stdout",
     "output_type": "stream",
     "text": [
      "(379, 5)\n",
      "(95, 5)\n"
     ]
    }
   ],
   "source": [
    "print(train_data.shape)\n",
    "print(valid_data.shape)"
   ]
  },
  {
   "cell_type": "code",
   "execution_count": null,
   "metadata": {},
   "outputs": [],
   "source": []
  },
  {
   "cell_type": "code",
   "execution_count": 57,
   "metadata": {},
   "outputs": [
    {
     "name": "stdout",
     "output_type": "stream",
     "text": [
      "466          came short male server buzz cut glass rude.\n",
      "304    love ramen every winter i'm japan . dying try ...\n",
      "261    i've mexico lindo bookmarked quite time now, s...\n",
      "28     quetzal interesting. there's big huge space go...\n",
      "146    really good tacos. must try bulgogi beef tat i...\n",
      "Name: cleaned_review, dtype: object\n",
      "343    love el trompo server nice, frozen margarita a...\n",
      "462    tell truly nothing bad say place truly mean . ...\n",
      "463    never fully understood taco genre life changed...\n",
      "328    neighborhood decide eat others situation bust ...\n",
      "179    absolutely terrible food worse attitude servic...\n",
      "Name: cleaned_review, dtype: object\n",
      "466    negative\n",
      "304    negative\n",
      "261    positive\n",
      "28      neutral\n",
      "146    positive\n",
      "         ...   \n",
      "112     neutral\n",
      "171     neutral\n",
      "299    positive\n",
      "72      neutral\n",
      "183    negative\n",
      "Name: RatingValue, Length: 379, dtype: object\n",
      "343    positive\n",
      "462    positive\n",
      "463    positive\n",
      "328    negative\n",
      "179    negative\n",
      "         ...   \n",
      "110    positive\n",
      "403    positive\n",
      "177    negative\n",
      "60     negative\n",
      "122    positive\n",
      "Name: RatingValue, Length: 95, dtype: object\n"
     ]
    }
   ],
   "source": [
    "X_train = train_data[\"cleaned_review\"]\n",
    "print(X_train.head())\n",
    "\n",
    "X_valid = valid_data[\"cleaned_review\"]\n",
    "print(X_valid.head())\n",
    "\n",
    "y_train = train_data[\"RatingValue\"]\n",
    "print(y_train)\n",
    "\n",
    "y_valid = valid_data[\"RatingValue\"]\n",
    "print(y_valid)\n",
    "\n"
   ]
  },
  {
   "cell_type": "markdown",
   "metadata": {},
   "source": [
    "## CountVectorizer"
   ]
  },
  {
   "cell_type": "code",
   "execution_count": 58,
   "metadata": {},
   "outputs": [
    {
     "data": {
      "text/plain": [
       "(379, 4504)"
      ]
     },
     "execution_count": 58,
     "metadata": {},
     "output_type": "execute_result"
    }
   ],
   "source": [
    "from sklearn.feature_extraction.text import CountVectorizer\n",
    "count_vect = CountVectorizer()\n",
    "X_train_counts = count_vect.fit_transform(X_train)\n",
    "X_train_counts.shape"
   ]
  },
  {
   "cell_type": "markdown",
   "metadata": {},
   "source": [
    "### TFidf (Term Frequency inverse document freqency)"
   ]
  },
  {
   "cell_type": "code",
   "execution_count": 63,
   "metadata": {},
   "outputs": [
    {
     "data": {
      "text/plain": [
       "(379, 4504)"
      ]
     },
     "execution_count": 63,
     "metadata": {},
     "output_type": "execute_result"
    }
   ],
   "source": [
    "from sklearn.feature_extraction.text import TfidfTransformer\n",
    "tf_transformer = TfidfTransformer(use_idf=True).fit(X_train_counts)\n",
    "X_train_tf = tf_transformer.transform(X_train_counts)\n",
    "X_train_tf.shape"
   ]
  },
  {
   "cell_type": "code",
   "execution_count": 64,
   "metadata": {},
   "outputs": [
    {
     "data": {
      "text/plain": [
       "(379, 4504)"
      ]
     },
     "execution_count": 64,
     "metadata": {},
     "output_type": "execute_result"
    }
   ],
   "source": [
    "tfidf_transformer = TfidfTransformer()\n",
    "X_train_tfidf = tfidf_transformer.fit_transform(X_train_counts)\n",
    "X_train_tfidf.shape"
   ]
  },
  {
   "cell_type": "code",
   "execution_count": null,
   "metadata": {},
   "outputs": [],
   "source": []
  },
  {
   "cell_type": "markdown",
   "metadata": {},
   "source": [
    "## Training the data using training data (Naive Bayes Classifier)"
   ]
  },
  {
   "cell_type": "code",
   "execution_count": 65,
   "metadata": {},
   "outputs": [],
   "source": [
    "from sklearn.naive_bayes import MultinomialNB\n",
    "clf = MultinomialNB().fit(X_train_tfidf,y_train )"
   ]
  },
  {
   "cell_type": "code",
   "execution_count": 66,
   "metadata": {},
   "outputs": [],
   "source": [
    "#validating data\n",
    "X_new_counts = count_vect.transform(X_valid)\n",
    "X_new_tfidf = tfidf_transformer.transform(X_new_counts)"
   ]
  },
  {
   "cell_type": "code",
   "execution_count": 67,
   "metadata": {},
   "outputs": [],
   "source": [
    "predicted = clf.predict(X_new_tfidf)"
   ]
  },
  {
   "cell_type": "markdown",
   "metadata": {},
   "source": [
    "## Building a pipeline\n",
    "\n",
    "\n",
    "\n",
    "In order to make the vectorizer => transformer => classifier easier to work with, scikit-learn provides a Pipeline class that behaves like a compound classifier:"
   ]
  },
  {
   "cell_type": "code",
   "execution_count": 68,
   "metadata": {},
   "outputs": [],
   "source": [
    "from sklearn.pipeline import Pipeline\n",
    "text_clf = Pipeline([\n",
    "    ('vect', CountVectorizer()),\n",
    "    ('tfidf', TfidfTransformer()),\n",
    "    ('clf', MultinomialNB()),\n",
    "])"
   ]
  },
  {
   "cell_type": "code",
   "execution_count": 69,
   "metadata": {},
   "outputs": [
    {
     "data": {
      "text/plain": [
       "Pipeline(memory=None,\n",
       "         steps=[('vect',\n",
       "                 CountVectorizer(analyzer='word', binary=False,\n",
       "                                 decode_error='strict',\n",
       "                                 dtype=<class 'numpy.int64'>, encoding='utf-8',\n",
       "                                 input='content', lowercase=True, max_df=1.0,\n",
       "                                 max_features=None, min_df=1,\n",
       "                                 ngram_range=(1, 1), preprocessor=None,\n",
       "                                 stop_words=None, strip_accents=None,\n",
       "                                 token_pattern='(?u)\\\\b\\\\w\\\\w+\\\\b',\n",
       "                                 tokenizer=None, vocabulary=None)),\n",
       "                ('tfidf',\n",
       "                 TfidfTransformer(norm='l2', smooth_idf=True,\n",
       "                                  sublinear_tf=False, use_idf=True)),\n",
       "                ('clf',\n",
       "                 MultinomialNB(alpha=1.0, class_prior=None, fit_prior=True))],\n",
       "         verbose=False)"
      ]
     },
     "execution_count": 69,
     "metadata": {},
     "output_type": "execute_result"
    }
   ],
   "source": [
    "text_clf.fit(X_train,y_train)"
   ]
  },
  {
   "cell_type": "markdown",
   "metadata": {},
   "source": [
    "# Evaluating the predictive accuracy of the model on valid data"
   ]
  },
  {
   "cell_type": "code",
   "execution_count": 73,
   "metadata": {},
   "outputs": [
    {
     "data": {
      "text/plain": [
       "0.7052631578947368"
      ]
     },
     "execution_count": 73,
     "metadata": {},
     "output_type": "execute_result"
    }
   ],
   "source": [
    "X_valid \n",
    "predicted = text_clf.predict(X_valid)\n",
    "np.mean(predicted == y_valid )"
   ]
  },
  {
   "cell_type": "markdown",
   "metadata": {},
   "source": [
    "## Result:-\n",
    "\n",
    "I have achieved 70.5% accuracy. Let’s see if I can do better with a linear support vector machine (SVM), which is widely regarded as one of the best text classification algorithms (although it’s also a bit slower than naïve Bayes). We can change the learner by simply plugging a different classifier object into our pipeline:"
   ]
  },
  {
   "cell_type": "markdown",
   "metadata": {},
   "source": [
    "## SGD Classifier"
   ]
  },
  {
   "cell_type": "code",
   "execution_count": 74,
   "metadata": {},
   "outputs": [
    {
     "data": {
      "text/plain": [
       "0.7473684210526316"
      ]
     },
     "execution_count": 74,
     "metadata": {},
     "output_type": "execute_result"
    }
   ],
   "source": [
    "from sklearn.linear_model import SGDClassifier\n",
    "text_clf = Pipeline([\n",
    "    ('vect', CountVectorizer()),\n",
    "    ('tfidf', TfidfTransformer()),\n",
    "    ('clf', SGDClassifier(loss='hinge', penalty='l2',\n",
    "                          alpha=1e-3, random_state=42,\n",
    "                          max_iter=5, tol=None)),\n",
    "])\n",
    "\n",
    "text_clf.fit(X_train,y_train)\n",
    "\n",
    "predicted = text_clf.predict(X_valid)\n",
    "np.mean(predicted == y_valid)"
   ]
  },
  {
   "cell_type": "markdown",
   "metadata": {},
   "source": [
    "## RESULT:-\n",
    "\n",
    "I achieved 74.7% accuracy using the SVM. ```scikit-learn``` provides further utilities for more detailed performance analysis of the results:"
   ]
  },
  {
   "cell_type": "code",
   "execution_count": 76,
   "metadata": {},
   "outputs": [
    {
     "data": {
      "text/plain": [
       "['negative', 'positive', 'neutral']"
      ]
     },
     "execution_count": 76,
     "metadata": {},
     "output_type": "execute_result"
    }
   ],
   "source": [
    "List_Of_Categories_In_RatingValue=list(df_new['RatingValue'].value_counts().index)\n",
    "List_Of_Categories_In_RatingValue"
   ]
  },
  {
   "cell_type": "markdown",
   "metadata": {},
   "source": [
    "## Classification Reports"
   ]
  },
  {
   "cell_type": "code",
   "execution_count": 77,
   "metadata": {},
   "outputs": [
    {
     "name": "stdout",
     "output_type": "stream",
     "text": [
      "              precision    recall  f1-score   support\n",
      "\n",
      "    negative       0.79      0.91      0.85        33\n",
      "    positive       0.68      0.48      0.57        27\n",
      "     neutral       0.74      0.80      0.77        35\n",
      "\n",
      "    accuracy                           0.75        95\n",
      "   macro avg       0.74      0.73      0.73        95\n",
      "weighted avg       0.74      0.75      0.74        95\n",
      "\n"
     ]
    }
   ],
   "source": [
    "from sklearn import metrics\n",
    "print(metrics.classification_report(y_valid, predicted,\n",
    "    target_names=List_Of_Categories_In_RatingValue))"
   ]
  },
  {
   "cell_type": "markdown",
   "metadata": {},
   "source": [
    "## Confusion Matrix results:"
   ]
  },
  {
   "cell_type": "code",
   "execution_count": 78,
   "metadata": {},
   "outputs": [
    {
     "data": {
      "text/plain": [
       "array([[30,  2,  1],\n",
       "       [ 5, 13,  9],\n",
       "       [ 3,  4, 28]], dtype=int64)"
      ]
     },
     "execution_count": 78,
     "metadata": {},
     "output_type": "execute_result"
    }
   ],
   "source": [
    "metrics.confusion_matrix(y_valid, predicted)"
   ]
  },
  {
   "cell_type": "raw",
   "metadata": {},
   "source": []
  },
  {
   "cell_type": "raw",
   "metadata": {},
   "source": []
  },
  {
   "cell_type": "raw",
   "metadata": {},
   "source": []
  },
  {
   "cell_type": "raw",
   "metadata": {},
   "source": []
  },
  {
   "cell_type": "raw",
   "metadata": {},
   "source": []
  },
  {
   "cell_type": "raw",
   "metadata": {},
   "source": []
  },
  {
   "cell_type": "raw",
   "metadata": {},
   "source": []
  },
  {
   "cell_type": "raw",
   "metadata": {},
   "source": []
  },
  {
   "cell_type": "raw",
   "metadata": {},
   "source": []
  },
  {
   "cell_type": "raw",
   "metadata": {},
   "source": []
  },
  {
   "cell_type": "raw",
   "metadata": {},
   "source": []
  },
  {
   "cell_type": "code",
   "execution_count": null,
   "metadata": {},
   "outputs": [],
   "source": []
  },
  {
   "cell_type": "code",
   "execution_count": null,
   "metadata": {},
   "outputs": [],
   "source": [
    "\n",
    "\n"
   ]
  },
  {
   "cell_type": "code",
   "execution_count": null,
   "metadata": {},
   "outputs": [],
   "source": []
  },
  {
   "cell_type": "code",
   "execution_count": null,
   "metadata": {},
   "outputs": [],
   "source": []
  },
  {
   "cell_type": "code",
   "execution_count": null,
   "metadata": {},
   "outputs": [],
   "source": []
  },
  {
   "cell_type": "code",
   "execution_count": null,
   "metadata": {},
   "outputs": [],
   "source": []
  },
  {
   "cell_type": "code",
   "execution_count": null,
   "metadata": {},
   "outputs": [],
   "source": []
  },
  {
   "cell_type": "code",
   "execution_count": null,
   "metadata": {},
   "outputs": [],
   "source": []
  },
  {
   "cell_type": "code",
   "execution_count": null,
   "metadata": {},
   "outputs": [],
   "source": []
  },
  {
   "cell_type": "code",
   "execution_count": null,
   "metadata": {},
   "outputs": [],
   "source": []
  },
  {
   "cell_type": "code",
   "execution_count": null,
   "metadata": {},
   "outputs": [],
   "source": []
  },
  {
   "cell_type": "code",
   "execution_count": null,
   "metadata": {},
   "outputs": [],
   "source": []
  },
  {
   "cell_type": "code",
   "execution_count": null,
   "metadata": {},
   "outputs": [],
   "source": []
  },
  {
   "cell_type": "code",
   "execution_count": 97,
   "metadata": {},
   "outputs": [],
   "source": []
  },
  {
   "cell_type": "code",
   "execution_count": 98,
   "metadata": {},
   "outputs": [],
   "source": []
  },
  {
   "cell_type": "code",
   "execution_count": null,
   "metadata": {},
   "outputs": [],
   "source": []
  },
  {
   "cell_type": "code",
   "execution_count": null,
   "metadata": {},
   "outputs": [],
   "source": []
  }
 ],
 "metadata": {
  "kernelspec": {
   "display_name": "Python 3",
   "language": "python",
   "name": "python3"
  },
  "language_info": {
   "codemirror_mode": {
    "name": "ipython",
    "version": 3
   },
   "file_extension": ".py",
   "mimetype": "text/x-python",
   "name": "python",
   "nbconvert_exporter": "python",
   "pygments_lexer": "ipython3",
   "version": "3.7.4"
  }
 },
 "nbformat": 4,
 "nbformat_minor": 2
}
