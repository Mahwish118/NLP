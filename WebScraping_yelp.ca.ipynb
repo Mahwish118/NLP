{
 "cells": [
  {
   "cell_type": "markdown",
   "metadata": {
    "colab": {},
    "colab_type": "code",
    "id": "oJGEulD3ZWv4"
   },
   "source": []
  },
  {
   "cell_type": "markdown",
   "metadata": {},
   "source": [
    "# Task"
   ]
  },
  {
   "cell_type": "raw",
   "metadata": {},
   "source": [
    "Task is to scrape reviews from yelp.com. You chose the topic (search term) for the reviews, that is, whether it should be\n",
    "reviews of for example restaurants, plumbers, nighlife or hair salons. The reviews should be written to a CSV file."
   ]
  },
  {
   "cell_type": "raw",
   "metadata": {},
   "source": [
    "I PICKED fALAFRL RESTURANTS (TOP) IN Toronto \n",
    "Steps for the scraping :\n",
    "\n",
    " I import libraries \n",
    "Then I import webpage of the falafel resturant in Toronto\n",
    "Then I scraped all ten url of the ten resturant \n",
    "Then I scraped names of the resturant\n",
    "Then I scraped reviews,published dates of the review and rating\n",
    "Then I converted the all four varirables(Name,PublishedDate,Review,rating) in One CSV File that is Yelp_falafel.csv\n"
   ]
  },
  {
   "cell_type": "markdown",
   "metadata": {},
   "source": [
    "# Libraries and URL "
   ]
  },
  {
   "cell_type": "code",
   "execution_count": 2,
   "metadata": {},
   "outputs": [],
   "source": [
    "#import libraries\n",
    "import requests\n",
    "#beautiful soup will help to scrape from website\n",
    "from bs4 import BeautifulSoup   \n",
    "import csv\n",
    "import sys\n",
    "import numpy as np\n",
    "import pandas as pd\n",
    "import re\n",
    "\n",
    "#Falahel resturants in toronto\n",
    "html1 = requests.get(\"https://www.yelp.com/search?find_desc=Falafel&find_loc=Toronto%2C%20ON&sortby=rating\")\n",
    "falafel  = BeautifulSoup(html1.text, 'html.parser')\n",
    "#print(falafel)"
   ]
  },
  {
   "cell_type": "code",
   "execution_count": 23,
   "metadata": {
    "colab": {},
    "colab_type": "code",
    "id": "pV03LRUH5Xsr"
   },
   "outputs": [
    {
     "data": {
      "text/plain": [
       "['http://yelp.com/biz/mystic-muffin-toronto?osq=Falafel',\n",
       " 'http://yelp.com/biz/viva-shawarma-toronto-2?osq=Falafel',\n",
       " 'http://yelp.com/biz/shawarma-frenzy-east-york?osq=Falafel',\n",
       " 'http://yelp.com/biz/zezafoun-syrian-cuisine-toronto?osq=Falafel',\n",
       " 'http://yelp.com/biz/arabesque-middle-eastern-foods-toronto?osq=Falafel',\n",
       " 'http://yelp.com/biz/shawarma-empire-scarborough?osq=Falafel',\n",
       " 'http://yelp.com/biz/salad-house-toronto?osq=Falafel',\n",
       " 'http://yelp.com/biz/rikkochez-toronto?osq=Falafel',\n",
       " 'http://yelp.com/biz/figs-and-olives-kitchen-toronto-2?osq=Falafel',\n",
       " 'http://yelp.com/biz/papyrus-toronto-4?osq=Falafel']"
      ]
     },
     "execution_count": 23,
     "metadata": {},
     "output_type": "execute_result"
    }
   ],
   "source": [
    "#Scraping All ten url \n",
    "\n",
    "\n",
    "tops = falafel.find_all('a', attrs= {'class' : \"lemon--a__373c0__IEZFH link__373c0__1G70M link-color--inherit__373c0__3dzpk link-size--inherit__373c0__1VFlE\"})\n",
    "toptens = tops[1:11]\n",
    "links = []\n",
    "for i in toptens:\n",
    "  links.append(\"http://yelp.com\" + i.get('href'))\n",
    "links\n",
    "\n",
    "\n"
   ]
  },
  {
   "cell_type": "markdown",
   "metadata": {},
   "source": [
    "## Collecting the information of the names of the resturant."
   ]
  },
  {
   "cell_type": "code",
   "execution_count": 24,
   "metadata": {},
   "outputs": [
    {
     "data": {
      "text/plain": [
       "['Mystic Muffin',\n",
       " 'Viva Shawarma',\n",
       " 'Shawarma Frenzy',\n",
       " 'Zezafoun Syrian Cuisine',\n",
       " 'Arabesque Middle Eastern Foods',\n",
       " 'Shawarma Empire',\n",
       " 'Salad House',\n",
       " 'Rikkochez',\n",
       " 'Figs and Olives Kitchen',\n",
       " 'Papyrus']"
      ]
     },
     "execution_count": 24,
     "metadata": {},
     "output_type": "execute_result"
    }
   ],
   "source": [
    "#Scraping names of the resturants\n",
    "Restaurant_Names = []\n",
    "for i in toptens:\n",
    "    Restaurant_Names.append(i.get('name'))\n",
    "Restaurant_Names"
   ]
  },
  {
   "cell_type": "markdown",
   "metadata": {},
   "source": [
    "# Collection of information of Reviews,PublishedDates and Ratings and append the resturant names and run for loop"
   ]
  },
  {
   "cell_type": "code",
   "execution_count": 26,
   "metadata": {},
   "outputs": [
    {
     "name": "stdout",
     "output_type": "stream",
     "text": [
      "Getting from Restaurant Mystic Muffin:  http://yelp.com/biz/mystic-muffin-toronto?osq=Falafel\n",
      "Getting from Restaurant Viva Shawarma:  http://yelp.com/biz/viva-shawarma-toronto-2?osq=Falafel\n",
      "Getting from Restaurant Shawarma Frenzy:  http://yelp.com/biz/shawarma-frenzy-east-york?osq=Falafel\n",
      "Getting from Restaurant Zezafoun Syrian Cuisine:  http://yelp.com/biz/zezafoun-syrian-cuisine-toronto?osq=Falafel\n",
      "Getting from Restaurant Arabesque Middle Eastern Foods:  http://yelp.com/biz/arabesque-middle-eastern-foods-toronto?osq=Falafel\n",
      "Getting from Restaurant Shawarma Empire:  http://yelp.com/biz/shawarma-empire-scarborough?osq=Falafel\n",
      "Getting from Restaurant Salad House:  http://yelp.com/biz/salad-house-toronto?osq=Falafel\n",
      "Getting from Restaurant Rikkochez:  http://yelp.com/biz/rikkochez-toronto?osq=Falafel\n",
      "Getting from Restaurant Figs and Olives Kitchen:  http://yelp.com/biz/figs-and-olives-kitchen-toronto-2?osq=Falafel\n",
      "Getting from Restaurant Papyrus:  http://yelp.com/biz/papyrus-toronto-4?osq=Falafel\n"
     ]
    }
   ],
   "source": [
    "#### Getting CSV ready and adding headers\n",
    "\n",
    "header = [\"Name\",\"RatingValue\",\"DatePublished\",\"Review\"]\n",
    "with open(\"Yelp_Falafel.csv\", \"w\", newline=\"\") as WorkingFile:\n",
    "    Data_to_WorkingFile =  csv.writer(WorkingFile, delimiter=\",\")\n",
    "    Data_to_WorkingFile.writerow(header)\n",
    "\n",
    "\n",
    "#### getting data and populating CSV file\n",
    "\n",
    "Rest_Num = 0\n",
    "AllData = []\n",
    "for each_link in links:\n",
    "    \n",
    "    # scraping the reviews ,published dates and rating of the all ten url\n",
    "    print(f\"Getting from Restaurant {Restaurant_Names[Rest_Num]}: \", each_link)\n",
    "    restaruants_f = requests.get(each_link)\n",
    "    restaruant1_f = BeautifulSoup(restaruants_f.text, 'html.parser')\n",
    "    ratings = restaruant1_f.find_all('div', attrs = {'role' : 'img'})\n",
    "    review = restaruant1_f.find_all(\"p\", attrs = {\"class\":\"lemon--p__373c0__3Qnnj text__373c0__2Kxyz comment__373c0__3EKjH text-color--normal__373c0__3xep9 text-align--left__373c0__2XGa-\"})\n",
    "    dates = restaruant1_f.find_all('span', attrs = {'class' : 'lemon--span__373c0__3997G text__373c0__2Kxyz text-color--mid__373c0__jCeOG text-align--left__373c0__2XGa-'})\n",
    "   \n",
    "    \n",
    "    \n",
    "    \n",
    "     # RatingValue \n",
    "    ratings = ratings[1:11]\n",
    "    rating = []\n",
    "    for i in ratings:\n",
    "        rating.append(i.get('aria-label'))\n",
    "    score = []\n",
    "    for i in range(len(rating)):\n",
    "        temp = re.findall(r'\\d+', rating[i])\n",
    "        for i in temp:\n",
    "            score.append(i)\n",
    "            \n",
    "            \n",
    "            \n",
    "            \n",
    "    # 10 reviews of each Resturant\n",
    "    \n",
    "    toptenreviews = review[0:10]\n",
    "    #toptenreviews\n",
    "    reviewlist = []\n",
    "    for i in toptenreviews:\n",
    "        reviewlist.append(i.get_text())\n",
    "        \n",
    "    # Dates for reviews \n",
    "    dates = dates[:10]\n",
    "    date = []\n",
    "    for i in dates:\n",
    "        date.append(i.string)\n",
    "    \n",
    "  \n",
    "      \n",
    "    \n",
    "    #compilation of all result in csv\n",
    "    RestaurantData= {\n",
    "        \"Name\": Restaurant_Names[Rest_Num],\n",
    "        \"RatingValue\": score,\n",
    "        \"DatePublished\": date,\n",
    "        \"Review\":reviewlist\n",
    "    }\n",
    "    \n",
    "    AllData.append(RestaurantData)\n",
    "    dataframe = pd.DataFrame(RestaurantData)\n",
    "    dataframe.to_csv(\"Yelp_Falafel.csv\", index= False, mode= \"a\", header = False)\n",
    "    Rest_Num += 1\n",
    "    "
   ]
  },
  {
   "cell_type": "markdown",
   "metadata": {},
   "source": []
  },
  {
   "cell_type": "markdown",
   "metadata": {},
   "source": []
  },
  {
   "cell_type": "code",
   "execution_count": null,
   "metadata": {},
   "outputs": [],
   "source": []
  },
  {
   "cell_type": "code",
   "execution_count": null,
   "metadata": {},
   "outputs": [],
   "source": []
  },
  {
   "cell_type": "code",
   "execution_count": null,
   "metadata": {},
   "outputs": [],
   "source": []
  },
  {
   "cell_type": "markdown",
   "metadata": {},
   "source": []
  },
  {
   "cell_type": "code",
   "execution_count": null,
   "metadata": {},
   "outputs": [],
   "source": []
  },
  {
   "cell_type": "code",
   "execution_count": null,
   "metadata": {},
   "outputs": [],
   "source": []
  },
  {
   "cell_type": "code",
   "execution_count": null,
   "metadata": {},
   "outputs": [],
   "source": []
  },
  {
   "cell_type": "code",
   "execution_count": null,
   "metadata": {},
   "outputs": [],
   "source": []
  },
  {
   "cell_type": "code",
   "execution_count": null,
   "metadata": {},
   "outputs": [],
   "source": []
  },
  {
   "cell_type": "code",
   "execution_count": null,
   "metadata": {},
   "outputs": [],
   "source": []
  }
 ],
 "metadata": {
  "accelerator": "GPU",
  "colab": {
   "collapsed_sections": [],
   "name": "Assignment 1 - Part 1 - Anuvrat Baruah",
   "provenance": []
  },
  "kernelspec": {
   "display_name": "Python 3",
   "language": "python",
   "name": "python3"
  },
  "language_info": {
   "codemirror_mode": {
    "name": "ipython",
    "version": 3
   },
   "file_extension": ".py",
   "mimetype": "text/x-python",
   "name": "python",
   "nbconvert_exporter": "python",
   "pygments_lexer": "ipython3",
   "version": "3.7.4"
  }
 },
 "nbformat": 4,
 "nbformat_minor": 1
}
