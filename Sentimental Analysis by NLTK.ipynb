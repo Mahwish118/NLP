{
 "cells": [
  {
   "cell_type": "code",
   "execution_count": 47,
   "metadata": {},
   "outputs": [],
   "source": [
    "import pandas as pd\n",
    "import numpy as np\n",
    "import matplotlib.pyplot as plt\n",
    "import seaborn as sns\n",
    "\n"
   ]
  },
  {
   "cell_type": "code",
   "execution_count": 48,
   "metadata": {},
   "outputs": [],
   "source": [
    "df_1 = pd.read_csv('reviews.csv', sep='\\t')"
   ]
  },
  {
   "cell_type": "code",
   "execution_count": 49,
   "metadata": {},
   "outputs": [
    {
     "data": {
      "text/html": [
       "<div>\n",
       "<style scoped>\n",
       "    .dataframe tbody tr th:only-of-type {\n",
       "        vertical-align: middle;\n",
       "    }\n",
       "\n",
       "    .dataframe tbody tr th {\n",
       "        vertical-align: top;\n",
       "    }\n",
       "\n",
       "    .dataframe thead th {\n",
       "        text-align: right;\n",
       "    }\n",
       "</style>\n",
       "<table border=\"1\" class=\"dataframe\">\n",
       "  <thead>\n",
       "    <tr style=\"text-align: right;\">\n",
       "      <th></th>\n",
       "      <th>Name</th>\n",
       "      <th>RatingValue</th>\n",
       "      <th>DatePublished</th>\n",
       "      <th>Review</th>\n",
       "    </tr>\n",
       "  </thead>\n",
       "  <tbody>\n",
       "    <tr>\n",
       "      <td>0</td>\n",
       "      <td>Playa Cabana</td>\n",
       "      <td>4</td>\n",
       "      <td>2020-02-26</td>\n",
       "      <td>I was tasked with finding a spot for a group d...</td>\n",
       "    </tr>\n",
       "    <tr>\n",
       "      <td>1</td>\n",
       "      <td>Playa Cabana</td>\n",
       "      <td>3</td>\n",
       "      <td>2019-08-04</td>\n",
       "      <td>Went here with my friends and family. I liked ...</td>\n",
       "    </tr>\n",
       "    <tr>\n",
       "      <td>2</td>\n",
       "      <td>Playa Cabana</td>\n",
       "      <td>3</td>\n",
       "      <td>2019-08-24</td>\n",
       "      <td>Surprisingly good Flautas! They came as 3 roll...</td>\n",
       "    </tr>\n",
       "    <tr>\n",
       "      <td>3</td>\n",
       "      <td>Playa Cabana</td>\n",
       "      <td>4</td>\n",
       "      <td>2019-06-06</td>\n",
       "      <td>As a Mexican I always crave authentic Mexican ...</td>\n",
       "    </tr>\n",
       "    <tr>\n",
       "      <td>4</td>\n",
       "      <td>Playa Cabana</td>\n",
       "      <td>5</td>\n",
       "      <td>2020-05-25</td>\n",
       "      <td>Best tacos I've ever had. Both locations are g...</td>\n",
       "    </tr>\n",
       "  </tbody>\n",
       "</table>\n",
       "</div>"
      ],
      "text/plain": [
       "           Name  RatingValue DatePublished  \\\n",
       "0  Playa Cabana            4    2020-02-26   \n",
       "1  Playa Cabana            3    2019-08-04   \n",
       "2  Playa Cabana            3    2019-08-24   \n",
       "3  Playa Cabana            4    2019-06-06   \n",
       "4  Playa Cabana            5    2020-05-25   \n",
       "\n",
       "                                              Review  \n",
       "0  I was tasked with finding a spot for a group d...  \n",
       "1  Went here with my friends and family. I liked ...  \n",
       "2  Surprisingly good Flautas! They came as 3 roll...  \n",
       "3  As a Mexican I always crave authentic Mexican ...  \n",
       "4  Best tacos I've ever had. Both locations are g...  "
      ]
     },
     "execution_count": 49,
     "metadata": {},
     "output_type": "execute_result"
    }
   ],
   "source": [
    "df_1.head()"
   ]
  },
  {
   "cell_type": "code",
   "execution_count": 50,
   "metadata": {},
   "outputs": [],
   "source": [
    "df_2 = df_1.copy()"
   ]
  },
  {
   "cell_type": "code",
   "execution_count": 51,
   "metadata": {},
   "outputs": [
    {
     "data": {
      "text/html": [
       "<div>\n",
       "<style scoped>\n",
       "    .dataframe tbody tr th:only-of-type {\n",
       "        vertical-align: middle;\n",
       "    }\n",
       "\n",
       "    .dataframe tbody tr th {\n",
       "        vertical-align: top;\n",
       "    }\n",
       "\n",
       "    .dataframe thead th {\n",
       "        text-align: right;\n",
       "    }\n",
       "</style>\n",
       "<table border=\"1\" class=\"dataframe\">\n",
       "  <thead>\n",
       "    <tr style=\"text-align: right;\">\n",
       "      <th></th>\n",
       "      <th>Name</th>\n",
       "      <th>RatingValue</th>\n",
       "      <th>DatePublished</th>\n",
       "      <th>Review</th>\n",
       "    </tr>\n",
       "  </thead>\n",
       "  <tbody>\n",
       "    <tr>\n",
       "      <td>0</td>\n",
       "      <td>Playa Cabana</td>\n",
       "      <td>positive</td>\n",
       "      <td>2020-02-26</td>\n",
       "      <td>I was tasked with finding a spot for a group d...</td>\n",
       "    </tr>\n",
       "    <tr>\n",
       "      <td>1</td>\n",
       "      <td>Playa Cabana</td>\n",
       "      <td>neutral</td>\n",
       "      <td>2019-08-04</td>\n",
       "      <td>Went here with my friends and family. I liked ...</td>\n",
       "    </tr>\n",
       "    <tr>\n",
       "      <td>2</td>\n",
       "      <td>Playa Cabana</td>\n",
       "      <td>neutral</td>\n",
       "      <td>2019-08-24</td>\n",
       "      <td>Surprisingly good Flautas! They came as 3 roll...</td>\n",
       "    </tr>\n",
       "    <tr>\n",
       "      <td>3</td>\n",
       "      <td>Playa Cabana</td>\n",
       "      <td>positive</td>\n",
       "      <td>2019-06-06</td>\n",
       "      <td>As a Mexican I always crave authentic Mexican ...</td>\n",
       "    </tr>\n",
       "    <tr>\n",
       "      <td>4</td>\n",
       "      <td>Playa Cabana</td>\n",
       "      <td>positive</td>\n",
       "      <td>2020-05-25</td>\n",
       "      <td>Best tacos I've ever had. Both locations are g...</td>\n",
       "    </tr>\n",
       "  </tbody>\n",
       "</table>\n",
       "</div>"
      ],
      "text/plain": [
       "           Name RatingValue DatePublished  \\\n",
       "0  Playa Cabana    positive    2020-02-26   \n",
       "1  Playa Cabana     neutral    2019-08-04   \n",
       "2  Playa Cabana     neutral    2019-08-24   \n",
       "3  Playa Cabana    positive    2019-06-06   \n",
       "4  Playa Cabana    positive    2020-05-25   \n",
       "\n",
       "                                              Review  \n",
       "0  I was tasked with finding a spot for a group d...  \n",
       "1  Went here with my friends and family. I liked ...  \n",
       "2  Surprisingly good Flautas! They came as 3 roll...  \n",
       "3  As a Mexican I always crave authentic Mexican ...  \n",
       "4  Best tacos I've ever had. Both locations are g...  "
      ]
     },
     "execution_count": 51,
     "metadata": {},
     "output_type": "execute_result"
    }
   ],
   "source": [
    "#dictionary inside the dictionary\n",
    "df_2 = df_2.replace({'RatingValue' : { 5:\"positive\",\n",
    "                                      4:\"positive\",\n",
    "                                      3:\"neutral\",\n",
    "                                      2:\"negative\",\n",
    "                                      1:\"negative\"}})\n",
    "df_2.head()\n",
    "                                      \n",
    "                                     "
   ]
  },
  {
   "cell_type": "code",
   "execution_count": 52,
   "metadata": {},
   "outputs": [
    {
     "data": {
      "text/plain": [
       "(1920, 4)"
      ]
     },
     "execution_count": 52,
     "metadata": {},
     "output_type": "execute_result"
    }
   ],
   "source": [
    "df_2.shape"
   ]
  },
  {
   "cell_type": "code",
   "execution_count": 53,
   "metadata": {},
   "outputs": [
    {
     "name": "stdout",
     "output_type": "stream",
     "text": [
      "              Name RatingValue DatePublished  \\\n",
      "count         1920        1920          1920   \n",
      "unique          96           3           767   \n",
      "top     La Carnita    positive    2020-02-16   \n",
      "freq            40        1465            13   \n",
      "\n",
      "                                                   Review  \n",
      "count                                                1920  \n",
      "unique                                               1900  \n",
      "top     4 stars for taste\\n2 stars for price \\nWhich r...  \n",
      "freq                                                    2  \n"
     ]
    }
   ],
   "source": [
    "#data description\n",
    "print(df_2.describe())"
   ]
  },
  {
   "cell_type": "code",
   "execution_count": 54,
   "metadata": {},
   "outputs": [
    {
     "name": "stdout",
     "output_type": "stream",
     "text": [
      "Index(['Name', 'RatingValue', 'DatePublished', 'Review'], dtype='object')\n"
     ]
    }
   ],
   "source": [
    "#column name\n",
    "print(df_2.columns)"
   ]
  },
  {
   "cell_type": "code",
   "execution_count": 55,
   "metadata": {},
   "outputs": [
    {
     "name": "stdout",
     "output_type": "stream",
     "text": [
      "Name             object\n",
      "RatingValue      object\n",
      "DatePublished    object\n",
      "Review           object\n",
      "dtype: object\n"
     ]
    }
   ],
   "source": [
    "#data type\n",
    "print(df_2.dtypes)"
   ]
  },
  {
   "cell_type": "code",
   "execution_count": 56,
   "metadata": {},
   "outputs": [
    {
     "name": "stdout",
     "output_type": "stream",
     "text": [
      "Index(['Name', 'RatingValue', 'DatePublished', 'Review'], dtype='object')\n"
     ]
    },
    {
     "data": {
      "text/html": [
       "<div>\n",
       "<style scoped>\n",
       "    .dataframe tbody tr th:only-of-type {\n",
       "        vertical-align: middle;\n",
       "    }\n",
       "\n",
       "    .dataframe tbody tr th {\n",
       "        vertical-align: top;\n",
       "    }\n",
       "\n",
       "    .dataframe thead th {\n",
       "        text-align: right;\n",
       "    }\n",
       "</style>\n",
       "<table border=\"1\" class=\"dataframe\">\n",
       "  <thead>\n",
       "    <tr style=\"text-align: right;\">\n",
       "      <th></th>\n",
       "      <th>Name</th>\n",
       "      <th>RatingValue</th>\n",
       "      <th>DatePublished</th>\n",
       "      <th>Review</th>\n",
       "    </tr>\n",
       "  </thead>\n",
       "  <tbody>\n",
       "    <tr>\n",
       "      <td>count</td>\n",
       "      <td>1920</td>\n",
       "      <td>1920</td>\n",
       "      <td>1920</td>\n",
       "      <td>1920</td>\n",
       "    </tr>\n",
       "    <tr>\n",
       "      <td>unique</td>\n",
       "      <td>96</td>\n",
       "      <td>3</td>\n",
       "      <td>767</td>\n",
       "      <td>1900</td>\n",
       "    </tr>\n",
       "    <tr>\n",
       "      <td>top</td>\n",
       "      <td>La Carnita</td>\n",
       "      <td>positive</td>\n",
       "      <td>2020-02-16</td>\n",
       "      <td>4 stars for taste\\n2 stars for price \\nWhich r...</td>\n",
       "    </tr>\n",
       "    <tr>\n",
       "      <td>freq</td>\n",
       "      <td>40</td>\n",
       "      <td>1465</td>\n",
       "      <td>13</td>\n",
       "      <td>2</td>\n",
       "    </tr>\n",
       "  </tbody>\n",
       "</table>\n",
       "</div>"
      ],
      "text/plain": [
       "              Name RatingValue DatePublished  \\\n",
       "count         1920        1920          1920   \n",
       "unique          96           3           767   \n",
       "top     La Carnita    positive    2020-02-16   \n",
       "freq            40        1465            13   \n",
       "\n",
       "                                                   Review  \n",
       "count                                                1920  \n",
       "unique                                               1900  \n",
       "top     4 stars for taste\\n2 stars for price \\nWhich r...  \n",
       "freq                                                    2  "
      ]
     },
     "execution_count": 56,
     "metadata": {},
     "output_type": "execute_result"
    }
   ],
   "source": [
    "#the summary of the categorical values\n",
    "\n",
    "categorical = df_2.dtypes[df_2.dtypes == \"object\"].index\n",
    "print(categorical)\n",
    "df_2[categorical].describe()"
   ]
  },
  {
   "cell_type": "code",
   "execution_count": 57,
   "metadata": {},
   "outputs": [
    {
     "data": {
      "text/plain": [
       "Name             0\n",
       "RatingValue      0\n",
       "DatePublished    0\n",
       "Review           0\n",
       "dtype: int64"
      ]
     },
     "execution_count": 57,
     "metadata": {},
     "output_type": "execute_result"
    }
   ],
   "source": [
    "#CHALLANGES-CHECK MISSING VALUES\n",
    "\n",
    "df_2.isna().sum()"
   ]
  },
  {
   "cell_type": "code",
   "execution_count": 58,
   "metadata": {},
   "outputs": [
    {
     "data": {
      "text/plain": [
       "['positive', 'neutral', 'negative']"
      ]
     },
     "execution_count": 58,
     "metadata": {},
     "output_type": "execute_result"
    }
   ],
   "source": [
    "List_Of_Categories_In_Column=list(df_2['RatingValue'].value_counts().index)\n",
    "List_Of_Categories_In_Column"
   ]
  },
  {
   "cell_type": "code",
   "execution_count": 59,
   "metadata": {},
   "outputs": [
    {
     "data": {
      "text/plain": [
       "[1465, 297, 158]"
      ]
     },
     "execution_count": 59,
     "metadata": {},
     "output_type": "execute_result"
    }
   ],
   "source": [
    "List_Of_Categories_In_Column_with_counts=list(df_2['RatingValue'].value_counts())\n",
    "List_Of_Categories_In_Column_with_counts"
   ]
  },
  {
   "cell_type": "code",
   "execution_count": 60,
   "metadata": {},
   "outputs": [
    {
     "name": "stdout",
     "output_type": "stream",
     "text": [
      "(158, 4)\n",
      "           Name RatingValue DatePublished  \\\n",
      "0  Playa Cabana    positive    2020-02-26   \n",
      "3  Playa Cabana    positive    2019-06-06   \n",
      "4  Playa Cabana    positive    2020-05-25   \n",
      "5  Playa Cabana    positive    2019-08-31   \n",
      "6  Playa Cabana    positive    2019-04-07   \n",
      "\n",
      "                                              Review  \n",
      "0  I was tasked with finding a spot for a group d...  \n",
      "3  As a Mexican I always crave authentic Mexican ...  \n",
      "4  Best tacos I've ever had. Both locations are g...  \n",
      "5  Food was exceptional and service was pretty fa...  \n",
      "6  Their space is a bit cramped, but Playa Cabana...  \n"
     ]
    }
   ],
   "source": [
    "df_positive = df_2[df_2[\"RatingValue\"] ==\"positive\"]\n",
    "df_positive = df_positive.copy()\n",
    "df_positive_new = df_positive.head(158)\n",
    "print(df_positive_new.shape)\n",
    "print(df_positive_new.head())\n"
   ]
  },
  {
   "cell_type": "code",
   "execution_count": 61,
   "metadata": {},
   "outputs": [
    {
     "name": "stdout",
     "output_type": "stream",
     "text": [
      "(158, 4)\n",
      "               Name RatingValue DatePublished  \\\n",
      "1      Playa Cabana     neutral    2019-08-04   \n",
      "2      Playa Cabana     neutral    2019-08-24   \n",
      "12     Playa Cabana     neutral    2018-09-07   \n",
      "16     Playa Cabana     neutral    2018-08-13   \n",
      "30  Wilbur Mexicana     neutral    2019-12-14   \n",
      "\n",
      "                                               Review  \n",
      "1   Went here with my friends and family. I liked ...  \n",
      "2   Surprisingly good Flautas! They came as 3 roll...  \n",
      "12  My friend and I decided on Mexican food for di...  \n",
      "16  I've been duped by yelp reviews!! We were give...  \n",
      "30  Great spot if you wanna get some quick tacos o...  \n"
     ]
    }
   ],
   "source": [
    "df_neutral = df_2[df_2[\"RatingValue\"] == \"neutral\"]\n",
    "df_neutral = df_neutral.copy()\n",
    "df_neutral_new = df_neutral.head(158)\n",
    "print(df_neutral_new.shape)\n",
    "print(df_neutral_new.head())"
   ]
  },
  {
   "cell_type": "code",
   "execution_count": 62,
   "metadata": {},
   "outputs": [
    {
     "name": "stdout",
     "output_type": "stream",
     "text": [
      "(158, 4)\n",
      "            Name RatingValue DatePublished  \\\n",
      "53  Como En Casa    negative    2019-02-08   \n",
      "57  Como En Casa    negative    2019-08-27   \n",
      "58  Como En Casa    negative    2018-03-27   \n",
      "59  Como En Casa    negative    2019-07-05   \n",
      "70  Mexico Lindo    negative    2018-06-06   \n",
      "\n",
      "                                               Review  \n",
      "53  $16 dollars for the worst burrito bowl/platter...  \n",
      "57  I took the advice of one of the reviewers on Y...  \n",
      "58  Two words can summarize my thoughts on the foo...  \n",
      "59  Based on the ratings and reviews I was very ex...  \n",
      "70  This place has been bookmarked for awhile and ...  \n"
     ]
    }
   ],
   "source": [
    "df_negative = df_2[df_2[\"RatingValue\"] == \"negative\"]\n",
    "df_negative =df_negative.copy()\n",
    "df_negative_new = df_negative\n",
    "print(df_negative_new.shape)\n",
    "print(df_negative_new.head())"
   ]
  },
  {
   "cell_type": "code",
   "execution_count": 63,
   "metadata": {},
   "outputs": [
    {
     "data": {
      "text/html": [
       "<div>\n",
       "<style scoped>\n",
       "    .dataframe tbody tr th:only-of-type {\n",
       "        vertical-align: middle;\n",
       "    }\n",
       "\n",
       "    .dataframe tbody tr th {\n",
       "        vertical-align: top;\n",
       "    }\n",
       "\n",
       "    .dataframe thead th {\n",
       "        text-align: right;\n",
       "    }\n",
       "</style>\n",
       "<table border=\"1\" class=\"dataframe\">\n",
       "  <thead>\n",
       "    <tr style=\"text-align: right;\">\n",
       "      <th></th>\n",
       "      <th>Name</th>\n",
       "      <th>RatingValue</th>\n",
       "      <th>DatePublished</th>\n",
       "      <th>Review</th>\n",
       "    </tr>\n",
       "  </thead>\n",
       "  <tbody>\n",
       "    <tr>\n",
       "      <td>53</td>\n",
       "      <td>Como En Casa</td>\n",
       "      <td>negative</td>\n",
       "      <td>2019-02-08</td>\n",
       "      <td>$16 dollars for the worst burrito bowl/platter...</td>\n",
       "    </tr>\n",
       "    <tr>\n",
       "      <td>57</td>\n",
       "      <td>Como En Casa</td>\n",
       "      <td>negative</td>\n",
       "      <td>2019-08-27</td>\n",
       "      <td>I took the advice of one of the reviewers on Y...</td>\n",
       "    </tr>\n",
       "    <tr>\n",
       "      <td>58</td>\n",
       "      <td>Como En Casa</td>\n",
       "      <td>negative</td>\n",
       "      <td>2018-03-27</td>\n",
       "      <td>Two words can summarize my thoughts on the foo...</td>\n",
       "    </tr>\n",
       "    <tr>\n",
       "      <td>59</td>\n",
       "      <td>Como En Casa</td>\n",
       "      <td>negative</td>\n",
       "      <td>2019-07-05</td>\n",
       "      <td>Based on the ratings and reviews I was very ex...</td>\n",
       "    </tr>\n",
       "    <tr>\n",
       "      <td>70</td>\n",
       "      <td>Mexico Lindo</td>\n",
       "      <td>negative</td>\n",
       "      <td>2018-06-06</td>\n",
       "      <td>This place has been bookmarked for awhile and ...</td>\n",
       "    </tr>\n",
       "    <tr>\n",
       "      <td>...</td>\n",
       "      <td>...</td>\n",
       "      <td>...</td>\n",
       "      <td>...</td>\n",
       "      <td>...</td>\n",
       "    </tr>\n",
       "    <tr>\n",
       "      <td>1048</td>\n",
       "      <td>Levetto</td>\n",
       "      <td>neutral</td>\n",
       "      <td>2018-11-17</td>\n",
       "      <td>Came on a Saturday evening at 5:30 and it was ...</td>\n",
       "    </tr>\n",
       "    <tr>\n",
       "      <td>1054</td>\n",
       "      <td>La Vecchia Ristorante</td>\n",
       "      <td>neutral</td>\n",
       "      <td>2019-08-15</td>\n",
       "      <td>La Vecchia is a cute restaurant with great amb...</td>\n",
       "    </tr>\n",
       "    <tr>\n",
       "      <td>1057</td>\n",
       "      <td>La Vecchia Ristorante</td>\n",
       "      <td>neutral</td>\n",
       "      <td>2019-07-18</td>\n",
       "      <td>Going to start off this review by saying the f...</td>\n",
       "    </tr>\n",
       "    <tr>\n",
       "      <td>1071</td>\n",
       "      <td>La Vecchia Ristorante</td>\n",
       "      <td>neutral</td>\n",
       "      <td>2018-08-29</td>\n",
       "      <td>My family and I decided to choose La Vecchia f...</td>\n",
       "    </tr>\n",
       "    <tr>\n",
       "      <td>1075</td>\n",
       "      <td>Taverna Mercatto</td>\n",
       "      <td>neutral</td>\n",
       "      <td>2019-10-24</td>\n",
       "      <td>A last minute decision as we were staying at D...</td>\n",
       "    </tr>\n",
       "  </tbody>\n",
       "</table>\n",
       "<p>474 rows × 4 columns</p>\n",
       "</div>"
      ],
      "text/plain": [
       "                       Name RatingValue DatePublished  \\\n",
       "53             Como En Casa    negative    2019-02-08   \n",
       "57             Como En Casa    negative    2019-08-27   \n",
       "58             Como En Casa    negative    2018-03-27   \n",
       "59             Como En Casa    negative    2019-07-05   \n",
       "70             Mexico Lindo    negative    2018-06-06   \n",
       "...                     ...         ...           ...   \n",
       "1048                Levetto     neutral    2018-11-17   \n",
       "1054  La Vecchia Ristorante     neutral    2019-08-15   \n",
       "1057  La Vecchia Ristorante     neutral    2019-07-18   \n",
       "1071  La Vecchia Ristorante     neutral    2018-08-29   \n",
       "1075       Taverna Mercatto     neutral    2019-10-24   \n",
       "\n",
       "                                                 Review  \n",
       "53    $16 dollars for the worst burrito bowl/platter...  \n",
       "57    I took the advice of one of the reviewers on Y...  \n",
       "58    Two words can summarize my thoughts on the foo...  \n",
       "59    Based on the ratings and reviews I was very ex...  \n",
       "70    This place has been bookmarked for awhile and ...  \n",
       "...                                                 ...  \n",
       "1048  Came on a Saturday evening at 5:30 and it was ...  \n",
       "1054  La Vecchia is a cute restaurant with great amb...  \n",
       "1057  Going to start off this review by saying the f...  \n",
       "1071  My family and I decided to choose La Vecchia f...  \n",
       "1075  A last minute decision as we were staying at D...  \n",
       "\n",
       "[474 rows x 4 columns]"
      ]
     },
     "execution_count": 63,
     "metadata": {},
     "output_type": "execute_result"
    }
   ],
   "source": [
    "#now concatenate all three dataframes\n",
    "data_frame = [df_negative_new ,df_positive_new,df_neutral_new]\n",
    "result = pd.concat(data_frame)\n",
    "result\n",
    "\n"
   ]
  },
  {
   "cell_type": "code",
   "execution_count": 64,
   "metadata": {},
   "outputs": [],
   "source": [
    "from sklearn.utils import shuffle"
   ]
  },
  {
   "cell_type": "code",
   "execution_count": 65,
   "metadata": {},
   "outputs": [],
   "source": [
    "df = shuffle(result)\n"
   ]
  },
  {
   "cell_type": "code",
   "execution_count": 66,
   "metadata": {},
   "outputs": [],
   "source": [
    "df.reset_index(inplace=True, drop=True)"
   ]
  },
  {
   "cell_type": "markdown",
   "metadata": {},
   "source": [
    "# 1)Dataset"
   ]
  },
  {
   "cell_type": "code",
   "execution_count": 67,
   "metadata": {},
   "outputs": [
    {
     "data": {
      "text/html": [
       "<div>\n",
       "<style scoped>\n",
       "    .dataframe tbody tr th:only-of-type {\n",
       "        vertical-align: middle;\n",
       "    }\n",
       "\n",
       "    .dataframe tbody tr th {\n",
       "        vertical-align: top;\n",
       "    }\n",
       "\n",
       "    .dataframe thead th {\n",
       "        text-align: right;\n",
       "    }\n",
       "</style>\n",
       "<table border=\"1\" class=\"dataframe\">\n",
       "  <thead>\n",
       "    <tr style=\"text-align: right;\">\n",
       "      <th></th>\n",
       "      <th>Name</th>\n",
       "      <th>RatingValue</th>\n",
       "      <th>DatePublished</th>\n",
       "      <th>Review</th>\n",
       "    </tr>\n",
       "  </thead>\n",
       "  <tbody>\n",
       "    <tr>\n",
       "      <td>0</td>\n",
       "      <td>Chula Taberna Mexicana</td>\n",
       "      <td>neutral</td>\n",
       "      <td>2019-10-06</td>\n",
       "      <td>Friendly service and accommodated a baby no pr...</td>\n",
       "    </tr>\n",
       "    <tr>\n",
       "      <td>1</td>\n",
       "      <td>El Trompo Taco Bar</td>\n",
       "      <td>neutral</td>\n",
       "      <td>2019-04-07</td>\n",
       "      <td>El Trompo has always flown over my head - I've...</td>\n",
       "    </tr>\n",
       "    <tr>\n",
       "      <td>2</td>\n",
       "      <td>Wilbur Mexicana</td>\n",
       "      <td>positive</td>\n",
       "      <td>2020-01-11</td>\n",
       "      <td>The menu is simple and the atmosphere has good...</td>\n",
       "    </tr>\n",
       "    <tr>\n",
       "      <td>3</td>\n",
       "      <td>Agio</td>\n",
       "      <td>neutral</td>\n",
       "      <td>2020-04-24</td>\n",
       "      <td>Terrific food, poor atmosphere, great customer...</td>\n",
       "    </tr>\n",
       "    <tr>\n",
       "      <td>4</td>\n",
       "      <td>Como En Casa</td>\n",
       "      <td>positive</td>\n",
       "      <td>2019-07-22</td>\n",
       "      <td>Came here with my Spanish class of 7 after our...</td>\n",
       "    </tr>\n",
       "  </tbody>\n",
       "</table>\n",
       "</div>"
      ],
      "text/plain": [
       "                     Name RatingValue DatePublished  \\\n",
       "0  Chula Taberna Mexicana     neutral    2019-10-06   \n",
       "1      El Trompo Taco Bar     neutral    2019-04-07   \n",
       "2         Wilbur Mexicana    positive    2020-01-11   \n",
       "3                    Agio     neutral    2020-04-24   \n",
       "4            Como En Casa    positive    2019-07-22   \n",
       "\n",
       "                                              Review  \n",
       "0  Friendly service and accommodated a baby no pr...  \n",
       "1  El Trompo has always flown over my head - I've...  \n",
       "2  The menu is simple and the atmosphere has good...  \n",
       "3  Terrific food, poor atmosphere, great customer...  \n",
       "4  Came here with my Spanish class of 7 after our...  "
      ]
     },
     "execution_count": 67,
     "metadata": {},
     "output_type": "execute_result"
    }
   ],
   "source": [
    "df.head()"
   ]
  },
  {
   "cell_type": "code",
   "execution_count": 68,
   "metadata": {},
   "outputs": [
    {
     "name": "stderr",
     "output_type": "stream",
     "text": [
      "C:\\Users\\Mahwish\\Anaconda2020\\lib\\site-packages\\ipykernel_launcher.py:4: SettingWithCopyWarning: \n",
      "A value is trying to be set on a copy of a slice from a DataFrame.\n",
      "Try using .loc[row_indexer,col_indexer] = value instead\n",
      "\n",
      "See the caveats in the documentation: http://pandas.pydata.org/pandas-docs/stable/user_guide/indexing.html#returning-a-view-versus-a-copy\n",
      "  after removing the cwd from sys.path.\n"
     ]
    }
   ],
   "source": [
    "#to further check the dataset is balanced or not\n",
    "\n",
    "#Lets see if Length of reviews has any association with Label Classification\n",
    "df['length']=df['Review'].apply(len) #adding a length Column"
   ]
  },
  {
   "cell_type": "code",
   "execution_count": 69,
   "metadata": {},
   "outputs": [
    {
     "data": {
      "text/html": [
       "<div>\n",
       "<style scoped>\n",
       "    .dataframe tbody tr th:only-of-type {\n",
       "        vertical-align: middle;\n",
       "    }\n",
       "\n",
       "    .dataframe tbody tr th {\n",
       "        vertical-align: top;\n",
       "    }\n",
       "\n",
       "    .dataframe thead th {\n",
       "        text-align: right;\n",
       "    }\n",
       "</style>\n",
       "<table border=\"1\" class=\"dataframe\">\n",
       "  <thead>\n",
       "    <tr style=\"text-align: right;\">\n",
       "      <th></th>\n",
       "      <th>Name</th>\n",
       "      <th>RatingValue</th>\n",
       "      <th>DatePublished</th>\n",
       "      <th>Review</th>\n",
       "      <th>length</th>\n",
       "    </tr>\n",
       "  </thead>\n",
       "  <tbody>\n",
       "    <tr>\n",
       "      <td>0</td>\n",
       "      <td>Chula Taberna Mexicana</td>\n",
       "      <td>neutral</td>\n",
       "      <td>2019-10-06</td>\n",
       "      <td>Friendly service and accommodated a baby no pr...</td>\n",
       "      <td>354</td>\n",
       "    </tr>\n",
       "    <tr>\n",
       "      <td>1</td>\n",
       "      <td>El Trompo Taco Bar</td>\n",
       "      <td>neutral</td>\n",
       "      <td>2019-04-07</td>\n",
       "      <td>El Trompo has always flown over my head - I've...</td>\n",
       "      <td>537</td>\n",
       "    </tr>\n",
       "    <tr>\n",
       "      <td>2</td>\n",
       "      <td>Wilbur Mexicana</td>\n",
       "      <td>positive</td>\n",
       "      <td>2020-01-11</td>\n",
       "      <td>The menu is simple and the atmosphere has good...</td>\n",
       "      <td>1118</td>\n",
       "    </tr>\n",
       "    <tr>\n",
       "      <td>3</td>\n",
       "      <td>Agio</td>\n",
       "      <td>neutral</td>\n",
       "      <td>2020-04-24</td>\n",
       "      <td>Terrific food, poor atmosphere, great customer...</td>\n",
       "      <td>96</td>\n",
       "    </tr>\n",
       "    <tr>\n",
       "      <td>4</td>\n",
       "      <td>Como En Casa</td>\n",
       "      <td>positive</td>\n",
       "      <td>2019-07-22</td>\n",
       "      <td>Came here with my Spanish class of 7 after our...</td>\n",
       "      <td>489</td>\n",
       "    </tr>\n",
       "  </tbody>\n",
       "</table>\n",
       "</div>"
      ],
      "text/plain": [
       "                     Name RatingValue DatePublished  \\\n",
       "0  Chula Taberna Mexicana     neutral    2019-10-06   \n",
       "1      El Trompo Taco Bar     neutral    2019-04-07   \n",
       "2         Wilbur Mexicana    positive    2020-01-11   \n",
       "3                    Agio     neutral    2020-04-24   \n",
       "4            Como En Casa    positive    2019-07-22   \n",
       "\n",
       "                                              Review  length  \n",
       "0  Friendly service and accommodated a baby no pr...     354  \n",
       "1  El Trompo has always flown over my head - I've...     537  \n",
       "2  The menu is simple and the atmosphere has good...    1118  \n",
       "3  Terrific food, poor atmosphere, great customer...      96  \n",
       "4  Came here with my Spanish class of 7 after our...     489  "
      ]
     },
     "execution_count": 69,
     "metadata": {},
     "output_type": "execute_result"
    }
   ],
   "source": [
    "df.head() #viewing top 5 rows"
   ]
  },
  {
   "cell_type": "code",
   "execution_count": 70,
   "metadata": {},
   "outputs": [],
   "source": [
    "#Summary Statistics\n",
    "#Lets generate Summary Statistics of Review Length group by classes\n",
    "#Also to further check the dataset is balanced or not\n",
    "\n",
    "#df[['length','RatingValue']].groupby('RatingValue').describe()"
   ]
  },
  {
   "cell_type": "markdown",
   "metadata": {},
   "source": [
    "# 2)Analysing the reviews"
   ]
  },
  {
   "cell_type": "markdown",
   "metadata": {},
   "source": [
    "### Word Count – total number of words in each review"
   ]
  },
  {
   "cell_type": "code",
   "execution_count": 71,
   "metadata": {},
   "outputs": [
    {
     "name": "stderr",
     "output_type": "stream",
     "text": [
      "C:\\Users\\Mahwish\\Anaconda2020\\lib\\site-packages\\ipykernel_launcher.py:2: SettingWithCopyWarning: \n",
      "A value is trying to be set on a copy of a slice from a DataFrame.\n",
      "Try using .loc[row_indexer,col_indexer] = value instead\n",
      "\n",
      "See the caveats in the documentation: http://pandas.pydata.org/pandas-docs/stable/user_guide/indexing.html#returning-a-view-versus-a-copy\n",
      "  \n"
     ]
    }
   ],
   "source": [
    "# Calculate word count\n",
    "df['word_count'] = df['Review'].apply(lambda x: len(str(x).split(\" \")))\n"
   ]
  },
  {
   "cell_type": "markdown",
   "metadata": {},
   "source": [
    "### Character Count – total number of characters in each review"
   ]
  },
  {
   "cell_type": "code",
   "execution_count": 72,
   "metadata": {},
   "outputs": [
    {
     "name": "stderr",
     "output_type": "stream",
     "text": [
      "C:\\Users\\Mahwish\\Anaconda2020\\lib\\site-packages\\ipykernel_launcher.py:2: SettingWithCopyWarning: \n",
      "A value is trying to be set on a copy of a slice from a DataFrame.\n",
      "Try using .loc[row_indexer,col_indexer] = value instead\n",
      "\n",
      "See the caveats in the documentation: http://pandas.pydata.org/pandas-docs/stable/user_guide/indexing.html#returning-a-view-versus-a-copy\n",
      "  \n"
     ]
    }
   ],
   "source": [
    "# Calculate character count\n",
    "df['char_count'] = df['Review'].str.len()"
   ]
  },
  {
   "cell_type": "markdown",
   "metadata": {},
   "source": [
    "### Average word length – the average length of words used"
   ]
  },
  {
   "cell_type": "code",
   "execution_count": 73,
   "metadata": {},
   "outputs": [
    {
     "name": "stderr",
     "output_type": "stream",
     "text": [
      "C:\\Users\\Mahwish\\Anaconda2020\\lib\\site-packages\\ipykernel_launcher.py:6: SettingWithCopyWarning: \n",
      "A value is trying to be set on a copy of a slice from a DataFrame.\n",
      "Try using .loc[row_indexer,col_indexer] = value instead\n",
      "\n",
      "See the caveats in the documentation: http://pandas.pydata.org/pandas-docs/stable/user_guide/indexing.html#returning-a-view-versus-a-copy\n",
      "  \n"
     ]
    }
   ],
   "source": [
    "def avg_word(Review):\n",
    "  words = Review.split()\n",
    "  return (sum(len(word) for word in words) / len(words))\n",
    "\n",
    "# Calculate average words\n",
    "df['avg_word'] = df['Review'].apply(lambda x: avg_word(x))"
   ]
  },
  {
   "cell_type": "markdown",
   "metadata": {},
   "source": [
    "### Stopword Count – total number of words which are considered stop words"
   ]
  },
  {
   "cell_type": "code",
   "execution_count": 74,
   "metadata": {},
   "outputs": [],
   "source": [
    "# Import stopwords\n",
    "from nltk.corpus import stopwords"
   ]
  },
  {
   "cell_type": "markdown",
   "metadata": {},
   "source": [
    "### Calculate number of stop words"
   ]
  },
  {
   "cell_type": "code",
   "execution_count": 75,
   "metadata": {},
   "outputs": [
    {
     "name": "stderr",
     "output_type": "stream",
     "text": [
      "C:\\Users\\Mahwish\\Anaconda2020\\lib\\site-packages\\ipykernel_launcher.py:2: SettingWithCopyWarning: \n",
      "A value is trying to be set on a copy of a slice from a DataFrame.\n",
      "Try using .loc[row_indexer,col_indexer] = value instead\n",
      "\n",
      "See the caveats in the documentation: http://pandas.pydata.org/pandas-docs/stable/user_guide/indexing.html#returning-a-view-versus-a-copy\n",
      "  \n"
     ]
    }
   ],
   "source": [
    "stop_words = stopwords.words('english')\n",
    "df['stopword_coun'] = df['Review'].apply(lambda x: len([x for x in x.split() if x in stop_words]))"
   ]
  },
  {
   "cell_type": "code",
   "execution_count": 76,
   "metadata": {},
   "outputs": [
    {
     "data": {
      "text/html": [
       "<div>\n",
       "<style scoped>\n",
       "    .dataframe tbody tr th:only-of-type {\n",
       "        vertical-align: middle;\n",
       "    }\n",
       "\n",
       "    .dataframe tbody tr th {\n",
       "        vertical-align: top;\n",
       "    }\n",
       "\n",
       "    .dataframe thead th {\n",
       "        text-align: right;\n",
       "    }\n",
       "</style>\n",
       "<table border=\"1\" class=\"dataframe\">\n",
       "  <thead>\n",
       "    <tr style=\"text-align: right;\">\n",
       "      <th></th>\n",
       "      <th>length</th>\n",
       "      <th>word_count</th>\n",
       "      <th>char_count</th>\n",
       "      <th>avg_word</th>\n",
       "      <th>stopword_coun</th>\n",
       "    </tr>\n",
       "  </thead>\n",
       "  <tbody>\n",
       "    <tr>\n",
       "      <td>count</td>\n",
       "      <td>474.000000</td>\n",
       "      <td>474.000000</td>\n",
       "      <td>474.000000</td>\n",
       "      <td>474.000000</td>\n",
       "      <td>474.000000</td>\n",
       "    </tr>\n",
       "    <tr>\n",
       "      <td>mean</td>\n",
       "      <td>799.419831</td>\n",
       "      <td>146.158228</td>\n",
       "      <td>799.419831</td>\n",
       "      <td>4.442453</td>\n",
       "      <td>59.529536</td>\n",
       "    </tr>\n",
       "    <tr>\n",
       "      <td>std</td>\n",
       "      <td>654.140443</td>\n",
       "      <td>119.416863</td>\n",
       "      <td>654.140443</td>\n",
       "      <td>0.316498</td>\n",
       "      <td>49.947924</td>\n",
       "    </tr>\n",
       "    <tr>\n",
       "      <td>min</td>\n",
       "      <td>87.000000</td>\n",
       "      <td>13.000000</td>\n",
       "      <td>87.000000</td>\n",
       "      <td>3.631579</td>\n",
       "      <td>3.000000</td>\n",
       "    </tr>\n",
       "    <tr>\n",
       "      <td>25%</td>\n",
       "      <td>368.250000</td>\n",
       "      <td>67.000000</td>\n",
       "      <td>368.250000</td>\n",
       "      <td>4.244850</td>\n",
       "      <td>27.000000</td>\n",
       "    </tr>\n",
       "    <tr>\n",
       "      <td>50%</td>\n",
       "      <td>610.000000</td>\n",
       "      <td>112.000000</td>\n",
       "      <td>610.000000</td>\n",
       "      <td>4.420964</td>\n",
       "      <td>45.500000</td>\n",
       "    </tr>\n",
       "    <tr>\n",
       "      <td>75%</td>\n",
       "      <td>1057.500000</td>\n",
       "      <td>198.750000</td>\n",
       "      <td>1057.500000</td>\n",
       "      <td>4.620898</td>\n",
       "      <td>81.750000</td>\n",
       "    </tr>\n",
       "    <tr>\n",
       "      <td>max</td>\n",
       "      <td>5000.000000</td>\n",
       "      <td>944.000000</td>\n",
       "      <td>5000.000000</td>\n",
       "      <td>5.857143</td>\n",
       "      <td>366.000000</td>\n",
       "    </tr>\n",
       "  </tbody>\n",
       "</table>\n",
       "</div>"
      ],
      "text/plain": [
       "            length  word_count   char_count    avg_word  stopword_coun\n",
       "count   474.000000  474.000000   474.000000  474.000000     474.000000\n",
       "mean    799.419831  146.158228   799.419831    4.442453      59.529536\n",
       "std     654.140443  119.416863   654.140443    0.316498      49.947924\n",
       "min      87.000000   13.000000    87.000000    3.631579       3.000000\n",
       "25%     368.250000   67.000000   368.250000    4.244850      27.000000\n",
       "50%     610.000000  112.000000   610.000000    4.420964      45.500000\n",
       "75%    1057.500000  198.750000  1057.500000    4.620898      81.750000\n",
       "max    5000.000000  944.000000  5000.000000    5.857143     366.000000"
      ]
     },
     "execution_count": 76,
     "metadata": {},
     "output_type": "execute_result"
    }
   ],
   "source": [
    "df.describe()"
   ]
  },
  {
   "cell_type": "code",
   "execution_count": 77,
   "metadata": {},
   "outputs": [
    {
     "data": {
      "text/html": [
       "<div>\n",
       "<style scoped>\n",
       "    .dataframe tbody tr th:only-of-type {\n",
       "        vertical-align: middle;\n",
       "    }\n",
       "\n",
       "    .dataframe tbody tr th {\n",
       "        vertical-align: top;\n",
       "    }\n",
       "\n",
       "    .dataframe thead th {\n",
       "        text-align: right;\n",
       "    }\n",
       "</style>\n",
       "<table border=\"1\" class=\"dataframe\">\n",
       "  <thead>\n",
       "    <tr style=\"text-align: right;\">\n",
       "      <th></th>\n",
       "      <th>Name</th>\n",
       "      <th>RatingValue</th>\n",
       "      <th>DatePublished</th>\n",
       "      <th>Review</th>\n",
       "      <th>length</th>\n",
       "      <th>word_count</th>\n",
       "      <th>char_count</th>\n",
       "      <th>avg_word</th>\n",
       "      <th>stopword_coun</th>\n",
       "    </tr>\n",
       "  </thead>\n",
       "  <tbody>\n",
       "    <tr>\n",
       "      <td>0</td>\n",
       "      <td>Chula Taberna Mexicana</td>\n",
       "      <td>neutral</td>\n",
       "      <td>2019-10-06</td>\n",
       "      <td>Friendly service and accommodated a baby no pr...</td>\n",
       "      <td>354</td>\n",
       "      <td>61</td>\n",
       "      <td>354</td>\n",
       "      <td>4.515625</td>\n",
       "      <td>20</td>\n",
       "    </tr>\n",
       "    <tr>\n",
       "      <td>1</td>\n",
       "      <td>El Trompo Taco Bar</td>\n",
       "      <td>neutral</td>\n",
       "      <td>2019-04-07</td>\n",
       "      <td>El Trompo has always flown over my head - I've...</td>\n",
       "      <td>537</td>\n",
       "      <td>95</td>\n",
       "      <td>537</td>\n",
       "      <td>4.642105</td>\n",
       "      <td>36</td>\n",
       "    </tr>\n",
       "    <tr>\n",
       "      <td>2</td>\n",
       "      <td>Wilbur Mexicana</td>\n",
       "      <td>positive</td>\n",
       "      <td>2020-01-11</td>\n",
       "      <td>The menu is simple and the atmosphere has good...</td>\n",
       "      <td>1118</td>\n",
       "      <td>206</td>\n",
       "      <td>1118</td>\n",
       "      <td>4.290476</td>\n",
       "      <td>90</td>\n",
       "    </tr>\n",
       "    <tr>\n",
       "      <td>3</td>\n",
       "      <td>Agio</td>\n",
       "      <td>neutral</td>\n",
       "      <td>2020-04-24</td>\n",
       "      <td>Terrific food, poor atmosphere, great customer...</td>\n",
       "      <td>96</td>\n",
       "      <td>15</td>\n",
       "      <td>96</td>\n",
       "      <td>5.857143</td>\n",
       "      <td>3</td>\n",
       "    </tr>\n",
       "    <tr>\n",
       "      <td>4</td>\n",
       "      <td>Como En Casa</td>\n",
       "      <td>positive</td>\n",
       "      <td>2019-07-22</td>\n",
       "      <td>Came here with my Spanish class of 7 after our...</td>\n",
       "      <td>489</td>\n",
       "      <td>93</td>\n",
       "      <td>489</td>\n",
       "      <td>4.136842</td>\n",
       "      <td>39</td>\n",
       "    </tr>\n",
       "  </tbody>\n",
       "</table>\n",
       "</div>"
      ],
      "text/plain": [
       "                     Name RatingValue DatePublished  \\\n",
       "0  Chula Taberna Mexicana     neutral    2019-10-06   \n",
       "1      El Trompo Taco Bar     neutral    2019-04-07   \n",
       "2         Wilbur Mexicana    positive    2020-01-11   \n",
       "3                    Agio     neutral    2020-04-24   \n",
       "4            Como En Casa    positive    2019-07-22   \n",
       "\n",
       "                                              Review  length  word_count  \\\n",
       "0  Friendly service and accommodated a baby no pr...     354          61   \n",
       "1  El Trompo has always flown over my head - I've...     537          95   \n",
       "2  The menu is simple and the atmosphere has good...    1118         206   \n",
       "3  Terrific food, poor atmosphere, great customer...      96          15   \n",
       "4  Came here with my Spanish class of 7 after our...     489          93   \n",
       "\n",
       "   char_count  avg_word  stopword_coun  \n",
       "0         354  4.515625             20  \n",
       "1         537  4.642105             36  \n",
       "2        1118  4.290476             90  \n",
       "3          96  5.857143              3  \n",
       "4         489  4.136842             39  "
      ]
     },
     "execution_count": 77,
     "metadata": {},
     "output_type": "execute_result"
    }
   ],
   "source": [
    "df.head()"
   ]
  },
  {
   "cell_type": "markdown",
   "metadata": {},
   "source": [
    "# 3)Cleaning  the Data Set\n",
    "\n",
    "How does the old saying go?\n",
    "\n",
    "Crap In, Crap Out.\n",
    "\n",
    "Well the same applies to natural language processing and sentiment analysis. Cleaning text is a little different to regular data cleaning in that, well, you’re dealing with strings of text rather than records of data. Regardless, cleaning the data is still important. The four most common steps that are performed are;\n",
    "\n",
    "Lowercasing all words\n",
    "Removing punctuation\n",
    "Removing stopwords\n",
    "Removing trivial words (excessively short and frequent words e.g. A, I, us)\n",
    "Performing these steps ensures that the text is as relevant as possible to the message that the actual review is trying to represent.\n",
    "\n",
    "Without further adieu, let’s get cleaning.\n",
    "\n",
    "First up, lowercasing all the words. The stop word list that is used in a couple of steps has all of the words in lowercase, by lowercasing all of the text in the reviews it means that words which are capitalised won’t be missed"
   ]
  },
  {
   "cell_type": "code",
   "execution_count": 78,
   "metadata": {},
   "outputs": [
    {
     "name": "stderr",
     "output_type": "stream",
     "text": [
      "C:\\Users\\Mahwish\\Anaconda2020\\lib\\site-packages\\ipykernel_launcher.py:6: SettingWithCopyWarning: \n",
      "A value is trying to be set on a copy of a slice from a DataFrame.\n",
      "Try using .loc[row_indexer,col_indexer] = value instead\n",
      "\n",
      "See the caveats in the documentation: http://pandas.pydata.org/pandas-docs/stable/user_guide/indexing.html#returning-a-view-versus-a-copy\n",
      "  \n"
     ]
    }
   ],
   "source": [
    "#Lowercasing all words\n",
    "#A key part of text analysis is tokenization, this is where blocks of text are split into their individual words\n",
    "#and pieces of punctuation. The punctuation itself does not add much meaning when searching for a topic or trying \n",
    "#to ascertain sentiment, hence its best to strip it out.\n",
    "# Lower case all words\n",
    "df['review_lower'] = df['Review'].apply(lambda x: \" \".join(x.lower() for x in x.split()))"
   ]
  },
  {
   "cell_type": "code",
   "execution_count": null,
   "metadata": {},
   "outputs": [],
   "source": []
  },
  {
   "cell_type": "code",
   "execution_count": 80,
   "metadata": {},
   "outputs": [
    {
     "name": "stderr",
     "output_type": "stream",
     "text": [
      "C:\\Users\\Mahwish\\Anaconda2020\\lib\\site-packages\\ipykernel_launcher.py:5: SettingWithCopyWarning: \n",
      "A value is trying to be set on a copy of a slice from a DataFrame.\n",
      "Try using .loc[row_indexer,col_indexer] = value instead\n",
      "\n",
      "See the caveats in the documentation: http://pandas.pydata.org/pandas-docs/stable/user_guide/indexing.html#returning-a-view-versus-a-copy\n",
      "  \"\"\"\n"
     ]
    }
   ],
   "source": [
    "#punctuation\n",
    "import string\n",
    "punc = string.punctuation # to see list of punctuation\n",
    "\n",
    "df['review_nopunc'] = df['review_lower'].str.replace('punc', '')        \n"
   ]
  },
  {
   "cell_type": "code",
   "execution_count": 81,
   "metadata": {},
   "outputs": [
    {
     "name": "stderr",
     "output_type": "stream",
     "text": [
      "C:\\Users\\Mahwish\\Anaconda2020\\lib\\site-packages\\ipykernel_launcher.py:6: SettingWithCopyWarning: \n",
      "A value is trying to be set on a copy of a slice from a DataFrame.\n",
      "Try using .loc[row_indexer,col_indexer] = value instead\n",
      "\n",
      "See the caveats in the documentation: http://pandas.pydata.org/pandas-docs/stable/user_guide/indexing.html#returning-a-view-versus-a-copy\n",
      "  \n"
     ]
    }
   ],
   "source": [
    "# Import stopwords\n",
    "from nltk.corpus import stopwords\n",
    "stop_words = stopwords.words('english')\n",
    "\n",
    "# Remove Stopwords\n",
    "df['review_nopunc_nostop'] = df['review_nopunc'].apply(lambda x: \" \".join(x for x in x.split() if x not in stop_words))"
   ]
  },
  {
   "cell_type": "code",
   "execution_count": 82,
   "metadata": {},
   "outputs": [],
   "source": [
    "# Return frequency of values\n",
    "freq= pd.Series(\" \".join(df['review_nopunc_nostop']).split()).value_counts()[:30]"
   ]
  },
  {
   "cell_type": "code",
   "execution_count": 83,
   "metadata": {},
   "outputs": [],
   "source": [
    "other_stopwords = ['get', 'us', 'see', 'use', 'said', 'asked', 'day', 'go' \\\n",
    "  'even', 'ive', 'right', 'left', 'always', 'would', 'told', \\\n",
    "  'get', 'us', 'would', 'get', 'one', 'ive', 'go', 'even', \\\n",
    "  'also', 'ever', 'x', 'take', 'let' ]"
   ]
  },
  {
   "cell_type": "code",
   "execution_count": 84,
   "metadata": {},
   "outputs": [
    {
     "name": "stderr",
     "output_type": "stream",
     "text": [
      "C:\\Users\\Mahwish\\Anaconda2020\\lib\\site-packages\\ipykernel_launcher.py:1: SettingWithCopyWarning: \n",
      "A value is trying to be set on a copy of a slice from a DataFrame.\n",
      "Try using .loc[row_indexer,col_indexer] = value instead\n",
      "\n",
      "See the caveats in the documentation: http://pandas.pydata.org/pandas-docs/stable/user_guide/indexing.html#returning-a-view-versus-a-copy\n",
      "  \"\"\"Entry point for launching an IPython kernel.\n"
     ]
    }
   ],
   "source": [
    "df['review_nopunc_nostop_nocommon'] = df['review_nopunc_nostop'].apply(lambda x: \"\".join(\" \".join(x for x in x.split() if x not in other_stopwords)))"
   ]
  },
  {
   "cell_type": "markdown",
   "metadata": {},
   "source": [
    "# This should leave you with a data frame with reviews at each of the different stages of cleaning. We’ll eventually drop these and replace them with our final sentiment metrics so don’t fret if it looks a little messy for now."
   ]
  },
  {
   "cell_type": "code",
   "execution_count": 85,
   "metadata": {},
   "outputs": [
    {
     "data": {
      "text/html": [
       "<div>\n",
       "<style scoped>\n",
       "    .dataframe tbody tr th:only-of-type {\n",
       "        vertical-align: middle;\n",
       "    }\n",
       "\n",
       "    .dataframe tbody tr th {\n",
       "        vertical-align: top;\n",
       "    }\n",
       "\n",
       "    .dataframe thead th {\n",
       "        text-align: right;\n",
       "    }\n",
       "</style>\n",
       "<table border=\"1\" class=\"dataframe\">\n",
       "  <thead>\n",
       "    <tr style=\"text-align: right;\">\n",
       "      <th></th>\n",
       "      <th>Name</th>\n",
       "      <th>RatingValue</th>\n",
       "      <th>DatePublished</th>\n",
       "      <th>Review</th>\n",
       "      <th>length</th>\n",
       "      <th>word_count</th>\n",
       "      <th>char_count</th>\n",
       "      <th>avg_word</th>\n",
       "      <th>stopword_coun</th>\n",
       "      <th>review_lower</th>\n",
       "      <th>review_nopunc</th>\n",
       "      <th>review_nopunc_nostop</th>\n",
       "      <th>review_nopunc_nostop_nocommon</th>\n",
       "    </tr>\n",
       "  </thead>\n",
       "  <tbody>\n",
       "    <tr>\n",
       "      <td>0</td>\n",
       "      <td>Chula Taberna Mexicana</td>\n",
       "      <td>neutral</td>\n",
       "      <td>2019-10-06</td>\n",
       "      <td>Friendly service and accommodated a baby no pr...</td>\n",
       "      <td>354</td>\n",
       "      <td>61</td>\n",
       "      <td>354</td>\n",
       "      <td>4.515625</td>\n",
       "      <td>20</td>\n",
       "      <td>friendly service and accommodated a baby no pr...</td>\n",
       "      <td>friendly service and accommodated a baby no pr...</td>\n",
       "      <td>friendly service accommodated baby problem bus...</td>\n",
       "      <td>friendly service accommodated baby problem bus...</td>\n",
       "    </tr>\n",
       "    <tr>\n",
       "      <td>1</td>\n",
       "      <td>El Trompo Taco Bar</td>\n",
       "      <td>neutral</td>\n",
       "      <td>2019-04-07</td>\n",
       "      <td>El Trompo has always flown over my head - I've...</td>\n",
       "      <td>537</td>\n",
       "      <td>95</td>\n",
       "      <td>537</td>\n",
       "      <td>4.642105</td>\n",
       "      <td>36</td>\n",
       "      <td>el trompo has always flown over my head - i've...</td>\n",
       "      <td>el trompo has always flown over my head - i've...</td>\n",
       "      <td>el trompo always flown head - i've walked hund...</td>\n",
       "      <td>el trompo flown head - i've walked hundred tim...</td>\n",
       "    </tr>\n",
       "    <tr>\n",
       "      <td>2</td>\n",
       "      <td>Wilbur Mexicana</td>\n",
       "      <td>positive</td>\n",
       "      <td>2020-01-11</td>\n",
       "      <td>The menu is simple and the atmosphere has good...</td>\n",
       "      <td>1118</td>\n",
       "      <td>206</td>\n",
       "      <td>1118</td>\n",
       "      <td>4.290476</td>\n",
       "      <td>90</td>\n",
       "      <td>the menu is simple and the atmosphere has good...</td>\n",
       "      <td>the menu is simple and the atmosphere has good...</td>\n",
       "      <td>menu simple atmosphere good vibes. casual hip ...</td>\n",
       "      <td>menu simple atmosphere good vibes. casual hip ...</td>\n",
       "    </tr>\n",
       "    <tr>\n",
       "      <td>3</td>\n",
       "      <td>Agio</td>\n",
       "      <td>neutral</td>\n",
       "      <td>2020-04-24</td>\n",
       "      <td>Terrific food, poor atmosphere, great customer...</td>\n",
       "      <td>96</td>\n",
       "      <td>15</td>\n",
       "      <td>96</td>\n",
       "      <td>5.857143</td>\n",
       "      <td>3</td>\n",
       "      <td>terrific food, poor atmosphere, great customer...</td>\n",
       "      <td>terrific food, poor atmosphere, great customer...</td>\n",
       "      <td>terrific food, poor atmosphere, great customer...</td>\n",
       "      <td>terrific food, poor atmosphere, great customer...</td>\n",
       "    </tr>\n",
       "    <tr>\n",
       "      <td>4</td>\n",
       "      <td>Como En Casa</td>\n",
       "      <td>positive</td>\n",
       "      <td>2019-07-22</td>\n",
       "      <td>Came here with my Spanish class of 7 after our...</td>\n",
       "      <td>489</td>\n",
       "      <td>93</td>\n",
       "      <td>489</td>\n",
       "      <td>4.136842</td>\n",
       "      <td>39</td>\n",
       "      <td>came here with my spanish class of 7 after our...</td>\n",
       "      <td>came here with my spanish class of 7 after our...</td>\n",
       "      <td>came spanish class 7 last class. 7 7 us polish...</td>\n",
       "      <td>came spanish class 7 last class. 7 7 polished ...</td>\n",
       "    </tr>\n",
       "  </tbody>\n",
       "</table>\n",
       "</div>"
      ],
      "text/plain": [
       "                     Name RatingValue DatePublished  \\\n",
       "0  Chula Taberna Mexicana     neutral    2019-10-06   \n",
       "1      El Trompo Taco Bar     neutral    2019-04-07   \n",
       "2         Wilbur Mexicana    positive    2020-01-11   \n",
       "3                    Agio     neutral    2020-04-24   \n",
       "4            Como En Casa    positive    2019-07-22   \n",
       "\n",
       "                                              Review  length  word_count  \\\n",
       "0  Friendly service and accommodated a baby no pr...     354          61   \n",
       "1  El Trompo has always flown over my head - I've...     537          95   \n",
       "2  The menu is simple and the atmosphere has good...    1118         206   \n",
       "3  Terrific food, poor atmosphere, great customer...      96          15   \n",
       "4  Came here with my Spanish class of 7 after our...     489          93   \n",
       "\n",
       "   char_count  avg_word  stopword_coun  \\\n",
       "0         354  4.515625             20   \n",
       "1         537  4.642105             36   \n",
       "2        1118  4.290476             90   \n",
       "3          96  5.857143              3   \n",
       "4         489  4.136842             39   \n",
       "\n",
       "                                        review_lower  \\\n",
       "0  friendly service and accommodated a baby no pr...   \n",
       "1  el trompo has always flown over my head - i've...   \n",
       "2  the menu is simple and the atmosphere has good...   \n",
       "3  terrific food, poor atmosphere, great customer...   \n",
       "4  came here with my spanish class of 7 after our...   \n",
       "\n",
       "                                       review_nopunc  \\\n",
       "0  friendly service and accommodated a baby no pr...   \n",
       "1  el trompo has always flown over my head - i've...   \n",
       "2  the menu is simple and the atmosphere has good...   \n",
       "3  terrific food, poor atmosphere, great customer...   \n",
       "4  came here with my spanish class of 7 after our...   \n",
       "\n",
       "                                review_nopunc_nostop  \\\n",
       "0  friendly service accommodated baby problem bus...   \n",
       "1  el trompo always flown head - i've walked hund...   \n",
       "2  menu simple atmosphere good vibes. casual hip ...   \n",
       "3  terrific food, poor atmosphere, great customer...   \n",
       "4  came spanish class 7 last class. 7 7 us polish...   \n",
       "\n",
       "                       review_nopunc_nostop_nocommon  \n",
       "0  friendly service accommodated baby problem bus...  \n",
       "1  el trompo flown head - i've walked hundred tim...  \n",
       "2  menu simple atmosphere good vibes. casual hip ...  \n",
       "3  terrific food, poor atmosphere, great customer...  \n",
       "4  came spanish class 7 last class. 7 7 polished ...  "
      ]
     },
     "execution_count": 85,
     "metadata": {},
     "output_type": "execute_result"
    }
   ],
   "source": [
    "df.head()"
   ]
  },
  {
   "cell_type": "markdown",
   "metadata": {},
   "source": [
    "# STEP 4 – LEMMATIZE THE REVIEWS\n",
    "\n",
    "Lemmatization is the process of transforming your natural text from english to lemming language.\n",
    "\n",
    "I kid, it’s the process of translating words back to their base form.\n",
    "\n",
    "Lemmatization Example\n",
    "\n",
    "am, are, is would be lemmatized to be\n",
    "car, cars, car’s, cars’ would be lemmatized to car\n",
    "This cuts out the number of words that are available for analysis by combining similar forms into one base form. One of other processes that is commonly used to cut down the the number of unique words in natural text processing is a process called stemming.\n",
    "\n",
    "Stemming shortens the number of unique words by removing common endings.\n",
    "\n",
    "Example:\n",
    "\n",
    "Caresses is stemmed to caress\n",
    "Ponies is stemmed to poni\n",
    "Some words can stand alone without the extended ending however as shown with the word ponies above, this is not always the case. In this case we’ll use lemmatization to shorten down our word lsit.\n",
    "\n",
    "The text blob module provides a simple method to lemmatize the reviews."
   ]
  },
  {
   "cell_type": "code",
   "execution_count": 86,
   "metadata": {},
   "outputs": [
    {
     "name": "stderr",
     "output_type": "stream",
     "text": [
      "C:\\Users\\Mahwish\\Anaconda2020\\lib\\site-packages\\ipykernel_launcher.py:6: SettingWithCopyWarning: \n",
      "A value is trying to be set on a copy of a slice from a DataFrame.\n",
      "Try using .loc[row_indexer,col_indexer] = value instead\n",
      "\n",
      "See the caveats in the documentation: http://pandas.pydata.org/pandas-docs/stable/user_guide/indexing.html#returning-a-view-versus-a-copy\n",
      "  \n"
     ]
    }
   ],
   "source": [
    "# Import textblob\n",
    "from textblob import Word\n",
    "\n",
    "# Lemmatize final review format\n",
    "df['cleaned_review'] = df['review_nopunc_nostop_nocommon']\\\n",
    ".apply(lambda x: \" \".join([Word(word).lemmatize() for word in x.split()]))"
   ]
  },
  {
   "cell_type": "markdown",
   "metadata": {},
   "source": [
    "#### There is an example of the change from base reviw to clean and lemmatized review"
   ]
  },
  {
   "cell_type": "code",
   "execution_count": 87,
   "metadata": {},
   "outputs": [
    {
     "name": "stdout",
     "output_type": "stream",
     "text": [
      "Base Review\n",
      " Friendly service and accommodated a baby no problem on busy Sunday evening.\n",
      "\n",
      "I tried 3 types of tacos and the standout was the fish taco for me. I absolutely loved my margarita with the star anise spice in it. Must try!\n",
      "The calamari was pretty weak, very small portions and fried batter falling off.\n",
      "\n",
      "I would return to try a burrito, they looked massive.\n",
      "\n",
      "------------------------------\n",
      "Cleaned and Lemmatized Review \n",
      " friendly service accommodated baby problem busy sunday evening. tried 3 type taco standout fish taco me. absolutely loved margarita star anise spice it. must try! calamari pretty weak, small portion fried batter falling off. return try burrito, looked massive.\n"
     ]
    }
   ],
   "source": [
    "print('Base Review\\n' ,df [\"Review\"][0])\n",
    "print(\"\\n------------------------------\")\n",
    "print(\"Cleaned and Lemmatized Review \\n\" ,df[\"cleaned_review\"][0])"
   ]
  },
  {
   "cell_type": "markdown",
   "metadata": {},
   "source": [
    "# Sentiment Analysis\n",
    "\n",
    "Finally, onto the sentiment analysis.\n",
    "\n",
    "After all that cleaning actually performing the sentiment analysis is really quite straight forward. The textblob module again comes in quite handy for this task and returns not only sentiment metric but also a subjectivity metric as well.\n",
    "\n",
    "The polarity metric refers to the degree to which the text analysed is positive or negative, between a range of -1 to 1. A score of 1 means highly positive whereas -1 is considered well and truly negative."
   ]
  },
  {
   "cell_type": "markdown",
   "metadata": {},
   "source": [
    "# "
   ]
  },
  {
   "cell_type": "code",
   "execution_count": 88,
   "metadata": {},
   "outputs": [
    {
     "name": "stderr",
     "output_type": "stream",
     "text": [
      "C:\\Users\\Mahwish\\Anaconda2020\\lib\\site-packages\\ipykernel_launcher.py:3: SettingWithCopyWarning: \n",
      "A value is trying to be set on a copy of a slice from a DataFrame.\n",
      "Try using .loc[row_indexer,col_indexer] = value instead\n",
      "\n",
      "See the caveats in the documentation: http://pandas.pydata.org/pandas-docs/stable/user_guide/indexing.html#returning-a-view-versus-a-copy\n",
      "  This is separate from the ipykernel package so we can avoid doing imports until\n"
     ]
    }
   ],
   "source": [
    "# Calculate polarity\n",
    "from textblob import TextBlob\n",
    "df['polarity'] = df['cleaned_review'].apply(lambda x: TextBlob(x).sentiment[0])"
   ]
  },
  {
   "cell_type": "code",
   "execution_count": 89,
   "metadata": {},
   "outputs": [
    {
     "data": {
      "text/html": [
       "<div>\n",
       "<style scoped>\n",
       "    .dataframe tbody tr th:only-of-type {\n",
       "        vertical-align: middle;\n",
       "    }\n",
       "\n",
       "    .dataframe tbody tr th {\n",
       "        vertical-align: top;\n",
       "    }\n",
       "\n",
       "    .dataframe thead th {\n",
       "        text-align: right;\n",
       "    }\n",
       "</style>\n",
       "<table border=\"1\" class=\"dataframe\">\n",
       "  <thead>\n",
       "    <tr style=\"text-align: right;\">\n",
       "      <th></th>\n",
       "      <th>Name</th>\n",
       "      <th>RatingValue</th>\n",
       "      <th>DatePublished</th>\n",
       "      <th>Review</th>\n",
       "      <th>length</th>\n",
       "      <th>word_count</th>\n",
       "      <th>char_count</th>\n",
       "      <th>avg_word</th>\n",
       "      <th>stopword_coun</th>\n",
       "      <th>review_lower</th>\n",
       "      <th>review_nopunc</th>\n",
       "      <th>review_nopunc_nostop</th>\n",
       "      <th>review_nopunc_nostop_nocommon</th>\n",
       "      <th>cleaned_review</th>\n",
       "      <th>polarity</th>\n",
       "    </tr>\n",
       "  </thead>\n",
       "  <tbody>\n",
       "    <tr>\n",
       "      <td>0</td>\n",
       "      <td>Chula Taberna Mexicana</td>\n",
       "      <td>neutral</td>\n",
       "      <td>2019-10-06</td>\n",
       "      <td>Friendly service and accommodated a baby no pr...</td>\n",
       "      <td>354</td>\n",
       "      <td>61</td>\n",
       "      <td>354</td>\n",
       "      <td>4.515625</td>\n",
       "      <td>20</td>\n",
       "      <td>friendly service and accommodated a baby no pr...</td>\n",
       "      <td>friendly service and accommodated a baby no pr...</td>\n",
       "      <td>friendly service accommodated baby problem bus...</td>\n",
       "      <td>friendly service accommodated baby problem bus...</td>\n",
       "      <td>friendly service accommodated baby problem bus...</td>\n",
       "      <td>0.139286</td>\n",
       "    </tr>\n",
       "    <tr>\n",
       "      <td>1</td>\n",
       "      <td>El Trompo Taco Bar</td>\n",
       "      <td>neutral</td>\n",
       "      <td>2019-04-07</td>\n",
       "      <td>El Trompo has always flown over my head - I've...</td>\n",
       "      <td>537</td>\n",
       "      <td>95</td>\n",
       "      <td>537</td>\n",
       "      <td>4.642105</td>\n",
       "      <td>36</td>\n",
       "      <td>el trompo has always flown over my head - i've...</td>\n",
       "      <td>el trompo has always flown over my head - i've...</td>\n",
       "      <td>el trompo always flown head - i've walked hund...</td>\n",
       "      <td>el trompo flown head - i've walked hundred tim...</td>\n",
       "      <td>el trompo flown head - i've walked hundred tim...</td>\n",
       "      <td>0.081481</td>\n",
       "    </tr>\n",
       "    <tr>\n",
       "      <td>2</td>\n",
       "      <td>Wilbur Mexicana</td>\n",
       "      <td>positive</td>\n",
       "      <td>2020-01-11</td>\n",
       "      <td>The menu is simple and the atmosphere has good...</td>\n",
       "      <td>1118</td>\n",
       "      <td>206</td>\n",
       "      <td>1118</td>\n",
       "      <td>4.290476</td>\n",
       "      <td>90</td>\n",
       "      <td>the menu is simple and the atmosphere has good...</td>\n",
       "      <td>the menu is simple and the atmosphere has good...</td>\n",
       "      <td>menu simple atmosphere good vibes. casual hip ...</td>\n",
       "      <td>menu simple atmosphere good vibes. casual hip ...</td>\n",
       "      <td>menu simple atmosphere good vibes. casual hip ...</td>\n",
       "      <td>0.218304</td>\n",
       "    </tr>\n",
       "    <tr>\n",
       "      <td>3</td>\n",
       "      <td>Agio</td>\n",
       "      <td>neutral</td>\n",
       "      <td>2020-04-24</td>\n",
       "      <td>Terrific food, poor atmosphere, great customer...</td>\n",
       "      <td>96</td>\n",
       "      <td>15</td>\n",
       "      <td>96</td>\n",
       "      <td>5.857143</td>\n",
       "      <td>3</td>\n",
       "      <td>terrific food, poor atmosphere, great customer...</td>\n",
       "      <td>terrific food, poor atmosphere, great customer...</td>\n",
       "      <td>terrific food, poor atmosphere, great customer...</td>\n",
       "      <td>terrific food, poor atmosphere, great customer...</td>\n",
       "      <td>terrific food, poor atmosphere, great customer...</td>\n",
       "      <td>0.100000</td>\n",
       "    </tr>\n",
       "    <tr>\n",
       "      <td>4</td>\n",
       "      <td>Como En Casa</td>\n",
       "      <td>positive</td>\n",
       "      <td>2019-07-22</td>\n",
       "      <td>Came here with my Spanish class of 7 after our...</td>\n",
       "      <td>489</td>\n",
       "      <td>93</td>\n",
       "      <td>489</td>\n",
       "      <td>4.136842</td>\n",
       "      <td>39</td>\n",
       "      <td>came here with my spanish class of 7 after our...</td>\n",
       "      <td>came here with my spanish class of 7 after our...</td>\n",
       "      <td>came spanish class 7 last class. 7 7 us polish...</td>\n",
       "      <td>came spanish class 7 last class. 7 7 polished ...</td>\n",
       "      <td>came spanish class 7 last class. 7 7 polished ...</td>\n",
       "      <td>0.345833</td>\n",
       "    </tr>\n",
       "  </tbody>\n",
       "</table>\n",
       "</div>"
      ],
      "text/plain": [
       "                     Name RatingValue DatePublished  \\\n",
       "0  Chula Taberna Mexicana     neutral    2019-10-06   \n",
       "1      El Trompo Taco Bar     neutral    2019-04-07   \n",
       "2         Wilbur Mexicana    positive    2020-01-11   \n",
       "3                    Agio     neutral    2020-04-24   \n",
       "4            Como En Casa    positive    2019-07-22   \n",
       "\n",
       "                                              Review  length  word_count  \\\n",
       "0  Friendly service and accommodated a baby no pr...     354          61   \n",
       "1  El Trompo has always flown over my head - I've...     537          95   \n",
       "2  The menu is simple and the atmosphere has good...    1118         206   \n",
       "3  Terrific food, poor atmosphere, great customer...      96          15   \n",
       "4  Came here with my Spanish class of 7 after our...     489          93   \n",
       "\n",
       "   char_count  avg_word  stopword_coun  \\\n",
       "0         354  4.515625             20   \n",
       "1         537  4.642105             36   \n",
       "2        1118  4.290476             90   \n",
       "3          96  5.857143              3   \n",
       "4         489  4.136842             39   \n",
       "\n",
       "                                        review_lower  \\\n",
       "0  friendly service and accommodated a baby no pr...   \n",
       "1  el trompo has always flown over my head - i've...   \n",
       "2  the menu is simple and the atmosphere has good...   \n",
       "3  terrific food, poor atmosphere, great customer...   \n",
       "4  came here with my spanish class of 7 after our...   \n",
       "\n",
       "                                       review_nopunc  \\\n",
       "0  friendly service and accommodated a baby no pr...   \n",
       "1  el trompo has always flown over my head - i've...   \n",
       "2  the menu is simple and the atmosphere has good...   \n",
       "3  terrific food, poor atmosphere, great customer...   \n",
       "4  came here with my spanish class of 7 after our...   \n",
       "\n",
       "                                review_nopunc_nostop  \\\n",
       "0  friendly service accommodated baby problem bus...   \n",
       "1  el trompo always flown head - i've walked hund...   \n",
       "2  menu simple atmosphere good vibes. casual hip ...   \n",
       "3  terrific food, poor atmosphere, great customer...   \n",
       "4  came spanish class 7 last class. 7 7 us polish...   \n",
       "\n",
       "                       review_nopunc_nostop_nocommon  \\\n",
       "0  friendly service accommodated baby problem bus...   \n",
       "1  el trompo flown head - i've walked hundred tim...   \n",
       "2  menu simple atmosphere good vibes. casual hip ...   \n",
       "3  terrific food, poor atmosphere, great customer...   \n",
       "4  came spanish class 7 last class. 7 7 polished ...   \n",
       "\n",
       "                                      cleaned_review  polarity  \n",
       "0  friendly service accommodated baby problem bus...  0.139286  \n",
       "1  el trompo flown head - i've walked hundred tim...  0.081481  \n",
       "2  menu simple atmosphere good vibes. casual hip ...  0.218304  \n",
       "3  terrific food, poor atmosphere, great customer...  0.100000  \n",
       "4  came spanish class 7 last class. 7 7 polished ...  0.345833  "
      ]
     },
     "execution_count": 89,
     "metadata": {},
     "output_type": "execute_result"
    }
   ],
   "source": [
    "df.head()"
   ]
  },
  {
   "cell_type": "code",
   "execution_count": 90,
   "metadata": {},
   "outputs": [
    {
     "data": {
      "text/html": [
       "<div>\n",
       "<style scoped>\n",
       "    .dataframe tbody tr th:only-of-type {\n",
       "        vertical-align: middle;\n",
       "    }\n",
       "\n",
       "    .dataframe tbody tr th {\n",
       "        vertical-align: top;\n",
       "    }\n",
       "\n",
       "    .dataframe thead th {\n",
       "        text-align: right;\n",
       "    }\n",
       "</style>\n",
       "<table border=\"1\" class=\"dataframe\">\n",
       "  <thead>\n",
       "    <tr style=\"text-align: right;\">\n",
       "      <th></th>\n",
       "      <th>Name</th>\n",
       "      <th>RatingValue</th>\n",
       "      <th>DatePublished</th>\n",
       "      <th>Review</th>\n",
       "      <th>cleaned_review</th>\n",
       "    </tr>\n",
       "  </thead>\n",
       "  <tbody>\n",
       "    <tr>\n",
       "      <td>0</td>\n",
       "      <td>Chula Taberna Mexicana</td>\n",
       "      <td>neutral</td>\n",
       "      <td>2019-10-06</td>\n",
       "      <td>Friendly service and accommodated a baby no pr...</td>\n",
       "      <td>friendly service accommodated baby problem bus...</td>\n",
       "    </tr>\n",
       "    <tr>\n",
       "      <td>1</td>\n",
       "      <td>El Trompo Taco Bar</td>\n",
       "      <td>neutral</td>\n",
       "      <td>2019-04-07</td>\n",
       "      <td>El Trompo has always flown over my head - I've...</td>\n",
       "      <td>el trompo flown head - i've walked hundred tim...</td>\n",
       "    </tr>\n",
       "    <tr>\n",
       "      <td>2</td>\n",
       "      <td>Wilbur Mexicana</td>\n",
       "      <td>positive</td>\n",
       "      <td>2020-01-11</td>\n",
       "      <td>The menu is simple and the atmosphere has good...</td>\n",
       "      <td>menu simple atmosphere good vibes. casual hip ...</td>\n",
       "    </tr>\n",
       "    <tr>\n",
       "      <td>3</td>\n",
       "      <td>Agio</td>\n",
       "      <td>neutral</td>\n",
       "      <td>2020-04-24</td>\n",
       "      <td>Terrific food, poor atmosphere, great customer...</td>\n",
       "      <td>terrific food, poor atmosphere, great customer...</td>\n",
       "    </tr>\n",
       "    <tr>\n",
       "      <td>4</td>\n",
       "      <td>Como En Casa</td>\n",
       "      <td>positive</td>\n",
       "      <td>2019-07-22</td>\n",
       "      <td>Came here with my Spanish class of 7 after our...</td>\n",
       "      <td>came spanish class 7 last class. 7 7 polished ...</td>\n",
       "    </tr>\n",
       "    <tr>\n",
       "      <td>...</td>\n",
       "      <td>...</td>\n",
       "      <td>...</td>\n",
       "      <td>...</td>\n",
       "      <td>...</td>\n",
       "      <td>...</td>\n",
       "    </tr>\n",
       "    <tr>\n",
       "      <td>469</td>\n",
       "      <td>Trattoria Taverniti</td>\n",
       "      <td>neutral</td>\n",
       "      <td>2020-02-15</td>\n",
       "      <td>In a word, mediocre ! Always a hit or miss. Cr...</td>\n",
       "      <td>word, mediocre ! hit miss. cramped ,over price...</td>\n",
       "    </tr>\n",
       "    <tr>\n",
       "      <td>470</td>\n",
       "      <td>Hacienda las Américas</td>\n",
       "      <td>positive</td>\n",
       "      <td>2018-07-30</td>\n",
       "      <td>$2.50 fish tacos, need I say more? I haven't r...</td>\n",
       "      <td>$2.50 fish tacos, need say more? really figure...</td>\n",
       "    </tr>\n",
       "    <tr>\n",
       "      <td>471</td>\n",
       "      <td>Mexico Lindo</td>\n",
       "      <td>neutral</td>\n",
       "      <td>2015-02-11</td>\n",
       "      <td>Came here tonight for dinner tonight because o...</td>\n",
       "      <td>came tonight dinner tonight awesome experience...</td>\n",
       "    </tr>\n",
       "    <tr>\n",
       "      <td>472</td>\n",
       "      <td>Xola Mexican Food</td>\n",
       "      <td>negative</td>\n",
       "      <td>2020-01-29</td>\n",
       "      <td>I came her few weeks ago. I straight up saw th...</td>\n",
       "      <td>came week ago. straight saw lady (pretty sure ...</td>\n",
       "    </tr>\n",
       "    <tr>\n",
       "      <td>473</td>\n",
       "      <td>Stelvio</td>\n",
       "      <td>neutral</td>\n",
       "      <td>2019-05-25</td>\n",
       "      <td>First time at Stelvio- wasn't as good as I'd h...</td>\n",
       "      <td>first time stelvio- good i'd hoped. ordered fr...</td>\n",
       "    </tr>\n",
       "  </tbody>\n",
       "</table>\n",
       "<p>474 rows × 5 columns</p>\n",
       "</div>"
      ],
      "text/plain": [
       "                       Name RatingValue DatePublished  \\\n",
       "0    Chula Taberna Mexicana     neutral    2019-10-06   \n",
       "1        El Trompo Taco Bar     neutral    2019-04-07   \n",
       "2           Wilbur Mexicana    positive    2020-01-11   \n",
       "3                      Agio     neutral    2020-04-24   \n",
       "4              Como En Casa    positive    2019-07-22   \n",
       "..                      ...         ...           ...   \n",
       "469     Trattoria Taverniti     neutral    2020-02-15   \n",
       "470   Hacienda las Américas    positive    2018-07-30   \n",
       "471            Mexico Lindo     neutral    2015-02-11   \n",
       "472       Xola Mexican Food    negative    2020-01-29   \n",
       "473                 Stelvio     neutral    2019-05-25   \n",
       "\n",
       "                                                Review  \\\n",
       "0    Friendly service and accommodated a baby no pr...   \n",
       "1    El Trompo has always flown over my head - I've...   \n",
       "2    The menu is simple and the atmosphere has good...   \n",
       "3    Terrific food, poor atmosphere, great customer...   \n",
       "4    Came here with my Spanish class of 7 after our...   \n",
       "..                                                 ...   \n",
       "469  In a word, mediocre ! Always a hit or miss. Cr...   \n",
       "470  $2.50 fish tacos, need I say more? I haven't r...   \n",
       "471  Came here tonight for dinner tonight because o...   \n",
       "472  I came her few weeks ago. I straight up saw th...   \n",
       "473  First time at Stelvio- wasn't as good as I'd h...   \n",
       "\n",
       "                                        cleaned_review  \n",
       "0    friendly service accommodated baby problem bus...  \n",
       "1    el trompo flown head - i've walked hundred tim...  \n",
       "2    menu simple atmosphere good vibes. casual hip ...  \n",
       "3    terrific food, poor atmosphere, great customer...  \n",
       "4    came spanish class 7 last class. 7 7 polished ...  \n",
       "..                                                 ...  \n",
       "469  word, mediocre ! hit miss. cramped ,over price...  \n",
       "470  $2.50 fish tacos, need say more? really figure...  \n",
       "471  came tonight dinner tonight awesome experience...  \n",
       "472  came week ago. straight saw lady (pretty sure ...  \n",
       "473  first time stelvio- good i'd hoped. ordered fr...  \n",
       "\n",
       "[474 rows x 5 columns]"
      ]
     },
     "execution_count": 90,
     "metadata": {},
     "output_type": "execute_result"
    }
   ],
   "source": [
    "df_new = df[['Name','RatingValue','DatePublished','Review','cleaned_review']]\n",
    "df_new"
   ]
  },
  {
   "cell_type": "markdown",
   "metadata": {},
   "source": [
    "# Spliting for the dataset"
   ]
  },
  {
   "cell_type": "code",
   "execution_count": 91,
   "metadata": {},
   "outputs": [],
   "source": [
    "from sklearn.model_selection import train_test_split\n",
    "train_data, valid_data = train_test_split(df_new, test_size=0.3)"
   ]
  },
  {
   "cell_type": "code",
   "execution_count": 92,
   "metadata": {},
   "outputs": [],
   "source": [
    "\n",
    "train_data.to_csv(r'C:\\Users\\Maha\\training.csv')\n",
    "valid_data.to_csv(r'C:\\Users\\Maha\\valid.csv')"
   ]
  },
  {
   "cell_type": "code",
   "execution_count": 93,
   "metadata": {},
   "outputs": [
    {
     "name": "stdout",
     "output_type": "stream",
     "text": [
      "(331, 5)\n",
      "(143, 5)\n"
     ]
    }
   ],
   "source": [
    "print(train_data.shape)\n",
    "print(valid_data.shape)"
   ]
  },
  {
   "cell_type": "code",
   "execution_count": 94,
   "metadata": {},
   "outputs": [
    {
     "name": "stdout",
     "output_type": "stream",
     "text": [
      "247    year ago sure changed time service yesterday (...\n",
      "121    say bat: eat chip guacamole!!!!!!!!! literally...\n",
      "364    love authentic mexican food here! tried dishes...\n",
      "260    tldr: fantastic staff service, good homey atmo...\n",
      "239    $$ side expected great meal. ordered spaghetti...\n",
      "Name: cleaned_review, dtype: object\n",
      "122    best salsa ever! honestly everything really go...\n",
      "52     quetzal interesting. there's big huge space go...\n",
      "4      came spanish class 7 last class. 7 7 polished ...\n",
      "311    taco good? definitely. pescado, beef pork pine...\n",
      "286    ok, know place rage. ordered grilled beef coro...\n",
      "Name: cleaned_review, dtype: object\n",
      "247    negative\n",
      "121    positive\n",
      "364    positive\n",
      "260    positive\n",
      "239    negative\n",
      "         ...   \n",
      "368    positive\n",
      "397     neutral\n",
      "231     neutral\n",
      "87     negative\n",
      "251     neutral\n",
      "Name: RatingValue, Length: 331, dtype: object\n",
      "122    positive\n",
      "52      neutral\n",
      "4      positive\n",
      "311     neutral\n",
      "286    negative\n",
      "         ...   \n",
      "20      neutral\n",
      "303    positive\n",
      "19      neutral\n",
      "221     neutral\n",
      "279    positive\n",
      "Name: RatingValue, Length: 143, dtype: object\n"
     ]
    }
   ],
   "source": [
    "X_train = train_data[\"cleaned_review\"]\n",
    "print(X_train.head())\n",
    "\n",
    "X_valid = valid_data[\"cleaned_review\"]\n",
    "print(X_valid.head())\n",
    "\n",
    "y_train = train_data[\"RatingValue\"]\n",
    "print(y_train)\n",
    "\n",
    "y_valid = valid_data[\"RatingValue\"]\n",
    "print(y_valid)\n",
    "\n"
   ]
  },
  {
   "cell_type": "code",
   "execution_count": 95,
   "metadata": {},
   "outputs": [
    {
     "data": {
      "text/plain": [
       "(331, 4243)"
      ]
     },
     "execution_count": 95,
     "metadata": {},
     "output_type": "execute_result"
    }
   ],
   "source": [
    "from sklearn.feature_extraction.text import CountVectorizer\n",
    "count_vect = CountVectorizer()\n",
    "X_train_counts = count_vect.fit_transform(X_train)\n",
    "X_train_counts.shape"
   ]
  },
  {
   "cell_type": "code",
   "execution_count": 96,
   "metadata": {},
   "outputs": [
    {
     "data": {
      "text/plain": [
       "(331, 4243)"
      ]
     },
     "execution_count": 96,
     "metadata": {},
     "output_type": "execute_result"
    }
   ],
   "source": [
    "from sklearn.feature_extraction.text import TfidfTransformer\n",
    "tf_transformer = TfidfTransformer(use_idf=True).fit(X_train_counts)\n",
    "X_train_tf = tf_transformer.transform(X_train_counts)\n",
    "X_train_tf.shape"
   ]
  },
  {
   "cell_type": "code",
   "execution_count": 97,
   "metadata": {},
   "outputs": [
    {
     "data": {
      "text/plain": [
       "(331, 4243)"
      ]
     },
     "execution_count": 97,
     "metadata": {},
     "output_type": "execute_result"
    }
   ],
   "source": [
    "tfidf_transformer = TfidfTransformer()\n",
    "X_train_tfidf = tfidf_transformer.fit_transform(X_train_counts)\n",
    "X_train_tfidf.shape"
   ]
  },
  {
   "cell_type": "code",
   "execution_count": null,
   "metadata": {},
   "outputs": [],
   "source": []
  },
  {
   "cell_type": "markdown",
   "metadata": {},
   "source": [
    "## Naive Bayes Classifier"
   ]
  },
  {
   "cell_type": "code",
   "execution_count": 98,
   "metadata": {},
   "outputs": [],
   "source": [
    "from sklearn.naive_bayes import MultinomialNB\n",
    "clf = MultinomialNB().fit(X_train_tfidf,y_train )"
   ]
  },
  {
   "cell_type": "code",
   "execution_count": 99,
   "metadata": {},
   "outputs": [],
   "source": [
    "#validating data\n",
    "X_new_counts = count_vect.transform(X_valid)\n",
    "X_new_tfidf = tfidf_transformer.transform(X_new_counts)"
   ]
  },
  {
   "cell_type": "code",
   "execution_count": 100,
   "metadata": {},
   "outputs": [],
   "source": [
    "predicted = clf.predict(X_new_tfidf)"
   ]
  },
  {
   "cell_type": "code",
   "execution_count": 101,
   "metadata": {},
   "outputs": [],
   "source": [
    "from sklearn.pipeline import Pipeline\n",
    "text_clf = Pipeline([\n",
    "    ('vect', CountVectorizer()),\n",
    "    ('tfidf', TfidfTransformer()),\n",
    "    ('clf', MultinomialNB()),\n",
    "])"
   ]
  },
  {
   "cell_type": "markdown",
   "metadata": {},
   "source": [
    "## pipe Line"
   ]
  },
  {
   "cell_type": "code",
   "execution_count": 102,
   "metadata": {},
   "outputs": [
    {
     "data": {
      "text/plain": [
       "Pipeline(memory=None,\n",
       "         steps=[('vect',\n",
       "                 CountVectorizer(analyzer='word', binary=False,\n",
       "                                 decode_error='strict',\n",
       "                                 dtype=<class 'numpy.int64'>, encoding='utf-8',\n",
       "                                 input='content', lowercase=True, max_df=1.0,\n",
       "                                 max_features=None, min_df=1,\n",
       "                                 ngram_range=(1, 1), preprocessor=None,\n",
       "                                 stop_words=None, strip_accents=None,\n",
       "                                 token_pattern='(?u)\\\\b\\\\w\\\\w+\\\\b',\n",
       "                                 tokenizer=None, vocabulary=None)),\n",
       "                ('tfidf',\n",
       "                 TfidfTransformer(norm='l2', smooth_idf=True,\n",
       "                                  sublinear_tf=False, use_idf=True)),\n",
       "                ('clf',\n",
       "                 MultinomialNB(alpha=1.0, class_prior=None, fit_prior=True))],\n",
       "         verbose=False)"
      ]
     },
     "execution_count": 102,
     "metadata": {},
     "output_type": "execute_result"
    }
   ],
   "source": [
    "text_clf.fit(X_train,y_train)"
   ]
  },
  {
   "cell_type": "code",
   "execution_count": 103,
   "metadata": {},
   "outputs": [
    {
     "data": {
      "text/plain": [
       "0.6643356643356644"
      ]
     },
     "execution_count": 103,
     "metadata": {},
     "output_type": "execute_result"
    }
   ],
   "source": [
    "X_valid \n",
    "predicted = text_clf.predict(X_valid)\n",
    "np.mean(predicted == y_valid )"
   ]
  },
  {
   "cell_type": "markdown",
   "metadata": {},
   "source": [
    "# SGD Classifier"
   ]
  },
  {
   "cell_type": "code",
   "execution_count": 104,
   "metadata": {},
   "outputs": [
    {
     "data": {
      "text/plain": [
       "0.6853146853146853"
      ]
     },
     "execution_count": 104,
     "metadata": {},
     "output_type": "execute_result"
    }
   ],
   "source": [
    "from sklearn.linear_model import SGDClassifier\n",
    "text_clf = Pipeline([\n",
    "    ('vect', CountVectorizer()),\n",
    "    ('tfidf', TfidfTransformer()),\n",
    "    ('clf', SGDClassifier(loss='hinge', penalty='l2',\n",
    "                          alpha=1e-3, random_state=42,\n",
    "                          max_iter=5, tol=None)),\n",
    "])\n",
    "\n",
    "text_clf.fit(X_train,y_train)\n",
    "\n",
    "predicted = text_clf.predict(X_valid)\n",
    "np.mean(predicted == y_valid)"
   ]
  },
  {
   "cell_type": "code",
   "execution_count": 108,
   "metadata": {},
   "outputs": [
    {
     "data": {
      "text/plain": [
       "['neutral', 'negative', 'positive']"
      ]
     },
     "execution_count": 108,
     "metadata": {},
     "output_type": "execute_result"
    }
   ],
   "source": [
    "List_Of_Categories_In_RatingValue=list(df_new['RatingValue'].value_counts().index)\n",
    "List_Of_Categories_In_RatingValue"
   ]
  },
  {
   "cell_type": "markdown",
   "metadata": {},
   "source": [
    "## Classification Reports"
   ]
  },
  {
   "cell_type": "code",
   "execution_count": 109,
   "metadata": {},
   "outputs": [
    {
     "name": "stdout",
     "output_type": "stream",
     "text": [
      "              precision    recall  f1-score   support\n",
      "\n",
      "     neutral       0.68      0.83      0.75        46\n",
      "    negative       0.77      0.44      0.56        55\n",
      "    positive       0.64      0.86      0.73        42\n",
      "\n",
      "    accuracy                           0.69       143\n",
      "   macro avg       0.70      0.71      0.68       143\n",
      "weighted avg       0.70      0.69      0.67       143\n",
      "\n"
     ]
    }
   ],
   "source": [
    "from sklearn import metrics\n",
    "print(metrics.classification_report(y_valid, predicted,\n",
    "    target_names=List_Of_Categories_In_RatingValue))"
   ]
  },
  {
   "cell_type": "raw",
   "metadata": {},
   "source": []
  },
  {
   "cell_type": "raw",
   "metadata": {},
   "source": []
  },
  {
   "cell_type": "raw",
   "metadata": {},
   "source": []
  },
  {
   "cell_type": "raw",
   "metadata": {},
   "source": []
  },
  {
   "cell_type": "raw",
   "metadata": {},
   "source": []
  },
  {
   "cell_type": "raw",
   "metadata": {},
   "source": []
  },
  {
   "cell_type": "raw",
   "metadata": {},
   "source": []
  },
  {
   "cell_type": "raw",
   "metadata": {},
   "source": []
  },
  {
   "cell_type": "raw",
   "metadata": {},
   "source": []
  },
  {
   "cell_type": "raw",
   "metadata": {},
   "source": []
  },
  {
   "cell_type": "raw",
   "metadata": {},
   "source": []
  },
  {
   "cell_type": "raw",
   "metadata": {},
   "source": []
  },
  {
   "cell_type": "code",
   "execution_count": null,
   "metadata": {},
   "outputs": [],
   "source": []
  },
  {
   "cell_type": "code",
   "execution_count": null,
   "metadata": {},
   "outputs": [],
   "source": [
    "\n",
    "\n"
   ]
  },
  {
   "cell_type": "code",
   "execution_count": null,
   "metadata": {},
   "outputs": [],
   "source": []
  },
  {
   "cell_type": "code",
   "execution_count": null,
   "metadata": {},
   "outputs": [],
   "source": []
  },
  {
   "cell_type": "code",
   "execution_count": null,
   "metadata": {},
   "outputs": [],
   "source": []
  },
  {
   "cell_type": "code",
   "execution_count": null,
   "metadata": {},
   "outputs": [],
   "source": []
  },
  {
   "cell_type": "code",
   "execution_count": null,
   "metadata": {},
   "outputs": [],
   "source": []
  },
  {
   "cell_type": "code",
   "execution_count": null,
   "metadata": {},
   "outputs": [],
   "source": []
  },
  {
   "cell_type": "code",
   "execution_count": null,
   "metadata": {},
   "outputs": [],
   "source": []
  },
  {
   "cell_type": "code",
   "execution_count": null,
   "metadata": {},
   "outputs": [],
   "source": []
  },
  {
   "cell_type": "code",
   "execution_count": null,
   "metadata": {},
   "outputs": [],
   "source": []
  },
  {
   "cell_type": "code",
   "execution_count": null,
   "metadata": {},
   "outputs": [],
   "source": []
  },
  {
   "cell_type": "code",
   "execution_count": null,
   "metadata": {},
   "outputs": [],
   "source": []
  },
  {
   "cell_type": "code",
   "execution_count": 97,
   "metadata": {},
   "outputs": [],
   "source": []
  },
  {
   "cell_type": "code",
   "execution_count": 98,
   "metadata": {},
   "outputs": [],
   "source": []
  },
  {
   "cell_type": "code",
   "execution_count": null,
   "metadata": {},
   "outputs": [],
   "source": []
  },
  {
   "cell_type": "code",
   "execution_count": null,
   "metadata": {},
   "outputs": [],
   "source": []
  }
 ],
 "metadata": {
  "kernelspec": {
   "display_name": "Python 3",
   "language": "python",
   "name": "python3"
  },
  "language_info": {
   "codemirror_mode": {
    "name": "ipython",
    "version": 3
   },
   "file_extension": ".py",
   "mimetype": "text/x-python",
   "name": "python",
   "nbconvert_exporter": "python",
   "pygments_lexer": "ipython3",
   "version": "3.7.4"
  }
 },
 "nbformat": 4,
 "nbformat_minor": 2
}
